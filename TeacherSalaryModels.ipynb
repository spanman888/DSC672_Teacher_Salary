{
  "nbformat": 4,
  "nbformat_minor": 0,
  "metadata": {
    "colab": {
      "name": "TeacherSalaryModels.ipynb",
      "version": "0.3.2",
      "provenance": [],
      "collapsed_sections": [],
      "include_colab_link": true
    },
    "kernelspec": {
      "name": "python3",
      "display_name": "Python 3"
    }
  },
  "cells": [
    {
      "cell_type": "markdown",
      "metadata": {
        "id": "view-in-github",
        "colab_type": "text"
      },
      "source": [
        "<a href=\"https://colab.research.google.com/github/spanman888/DSC672_Teacher_Salary/blob/master/TeacherSalaryModels.ipynb\" target=\"_parent\"><img src=\"https://colab.research.google.com/assets/colab-badge.svg\" alt=\"Open In Colab\"/></a>"
      ]
    },
    {
      "cell_type": "code",
      "metadata": {
        "id": "GU-cjoWqJlwW",
        "colab_type": "code",
        "outputId": "d77c5897-222d-4229-9f2d-dcebb2c25609",
        "colab": {
          "base_uri": "https://localhost:8080/",
          "height": 72
        }
      },
      "source": [
        "import pandas as pd\n",
        "import os\n",
        "import numpy as np\n",
        "import math\n",
        "import time\n",
        "import matplotlib.pyplot as plt\n",
        "import sys\n",
        "import csv\n",
        "from operator import itemgetter\n",
        "import copy\n",
        "\n",
        "from sklearn.model_selection import cross_validate, train_test_split \n",
        "from sklearn.linear_model import LinearRegression\n",
        "from sklearn import metrics\n",
        "from sklearn.ensemble import RandomForestRegressor, GradientBoostingRegressor\n",
        "from sklearn.neighbors import KNeighborsRegressor\n",
        "from sklearn.neural_network import MLPRegressor\n",
        "from sklearn.svm import SVR\n",
        "from sklearn.ensemble import RandomForestClassifier, RandomForestRegressor\n",
        "from sklearn.externals import joblib\n",
        "from sklearn.feature_selection import RFE, VarianceThreshold, SelectFromModel\n",
        "from sklearn.feature_selection import SelectKBest, mutual_info_regression, mutual_info_classif, chi2\n",
        "from sklearn import metrics\n",
        "from sklearn.model_selection import cross_validate, train_test_split\n",
        "from sklearn.preprocessing import KBinsDiscretizer, scale\n",
        "\n",
        "pd.set_option('display.max_columns', 100)"
      ],
      "execution_count": 0,
      "outputs": [
        {
          "output_type": "stream",
          "text": [
            "/usr/local/lib/python3.6/dist-packages/sklearn/externals/joblib/__init__.py:15: DeprecationWarning: sklearn.externals.joblib is deprecated in 0.21 and will be removed in 0.23. Please import this functionality directly from joblib, which can be installed with: pip install joblib. If this warning is raised when loading pickled models, you may need to re-serialize those models with scikit-learn 0.21+.\n",
            "  warnings.warn(msg, category=DeprecationWarning)\n"
          ],
          "name": "stderr"
        }
      ]
    },
    {
      "cell_type": "code",
      "metadata": {
        "id": "yLKsl2xcJwqu",
        "colab_type": "code",
        "outputId": "866625b7-6e36-4fc8-89ff-ce23a4d79f4c",
        "colab": {
          "base_uri": "https://localhost:8080/",
          "height": 125
        }
      },
      "source": [
        "# In order to download files to local file system\n",
        "from google.colab import drive\n",
        "drive.mount('drive')"
      ],
      "execution_count": 0,
      "outputs": [
        {
          "output_type": "stream",
          "text": [
            "Go to this URL in a browser: https://accounts.google.com/o/oauth2/auth?client_id=947318989803-6bn6qk8qdgf4n4g3pfee6491hc0brc4i.apps.googleusercontent.com&redirect_uri=urn%3Aietf%3Awg%3Aoauth%3A2.0%3Aoob&scope=email%20https%3A%2F%2Fwww.googleapis.com%2Fauth%2Fdocs.test%20https%3A%2F%2Fwww.googleapis.com%2Fauth%2Fdrive%20https%3A%2F%2Fwww.googleapis.com%2Fauth%2Fdrive.photos.readonly%20https%3A%2F%2Fwww.googleapis.com%2Fauth%2Fpeopleapi.readonly&response_type=code\n",
            "\n",
            "Enter your authorization code:\n",
            "··········\n",
            "Mounted at drive\n"
          ],
          "name": "stdout"
        }
      ]
    },
    {
      "cell_type": "code",
      "metadata": {
        "id": "vQvVIOILKRGA",
        "colab_type": "code",
        "outputId": "58c41955-0daa-4db9-f454-b5302bd0c05c",
        "colab": {
          "base_uri": "https://localhost:8080/",
          "height": 403
        }
      },
      "source": [
        "# download numeric dataframe\n",
        "df_num = pd.read_csv('/content/drive/My Drive/df_num.csv', index_col=0)\n",
        "df_num.head(10)"
      ],
      "execution_count": 0,
      "outputs": [
        {
          "output_type": "stream",
          "text": [
            "/usr/local/lib/python3.6/dist-packages/numpy/lib/arraysetops.py:569: FutureWarning: elementwise comparison failed; returning scalar instead, but in the future will perform elementwise comparison\n",
            "  mask |= (ar1 == a)\n"
          ],
          "name": "stderr"
        },
        {
          "output_type": "execute_result",
          "data": {
            "text/html": [
              "<div>\n",
              "<style scoped>\n",
              "    .dataframe tbody tr th:only-of-type {\n",
              "        vertical-align: middle;\n",
              "    }\n",
              "\n",
              "    .dataframe tbody tr th {\n",
              "        vertical-align: top;\n",
              "    }\n",
              "\n",
              "    .dataframe thead th {\n",
              "        text-align: right;\n",
              "    }\n",
              "</style>\n",
              "<table border=\"1\" class=\"dataframe\">\n",
              "  <thead>\n",
              "    <tr style=\"text-align: right;\">\n",
              "      <th></th>\n",
              "      <th>AdjSalMonth</th>\n",
              "      <th>months_employed</th>\n",
              "      <th>fte</th>\n",
              "      <th>dist_exp</th>\n",
              "      <th>state_exp</th>\n",
              "      <th>out_of_state_exp</th>\n",
              "      <th>pct_admin</th>\n",
              "      <th>first_3</th>\n",
              "      <th>multi_assign_2</th>\n",
              "      <th>multi_assign_3</th>\n",
              "      <th>grade_taught</th>\n",
              "      <th>Female</th>\n",
              "      <th>Male</th>\n",
              "      <th>Bachelors</th>\n",
              "      <th>Doctorate</th>\n",
              "      <th>Masters</th>\n",
              "      <th>Edu_None</th>\n",
              "      <th>Edu_Other</th>\n",
              "      <th>AmerIn_Alaska</th>\n",
              "      <th>Asian_Pacific</th>\n",
              "      <th>Black</th>\n",
              "      <th>Hispanic</th>\n",
              "      <th>Eth_unknown</th>\n",
              "      <th>White</th>\n",
              "      <th>Elem_Teacher</th>\n",
              "      <th>HS_Teacher</th>\n",
              "      <th>JuniorHS_Teacher</th>\n",
              "      <th>Kinder_Teacher</th>\n",
              "      <th>PreK_Teacher</th>\n",
              "      <th>SpecEd_Teacher</th>\n",
              "      <th>Multi_Taught</th>\n",
              "      <th>OneSch_Taught</th>\n",
              "      <th>Chicago</th>\n",
              "      <th>Other</th>\n",
              "      <th>Suburb</th>\n",
              "      <th>Lit/Language</th>\n",
              "      <th>Humanities/SS</th>\n",
              "      <th>Math/Science</th>\n",
              "      <th>Art/PE</th>\n",
              "      <th>SpecialEd</th>\n",
              "      <th>Misc.</th>\n",
              "    </tr>\n",
              "  </thead>\n",
              "  <tbody>\n",
              "    <tr>\n",
              "      <th>0</th>\n",
              "      <td>4029.489540</td>\n",
              "      <td>9</td>\n",
              "      <td>100</td>\n",
              "      <td>1.0</td>\n",
              "      <td>1.0</td>\n",
              "      <td>0.0</td>\n",
              "      <td>0.0</td>\n",
              "      <td>601</td>\n",
              "      <td>0</td>\n",
              "      <td>0</td>\n",
              "      <td>7</td>\n",
              "      <td>1</td>\n",
              "      <td>0</td>\n",
              "      <td>1</td>\n",
              "      <td>0</td>\n",
              "      <td>0</td>\n",
              "      <td>0</td>\n",
              "      <td>0</td>\n",
              "      <td>0</td>\n",
              "      <td>0</td>\n",
              "      <td>0</td>\n",
              "      <td>0</td>\n",
              "      <td>0</td>\n",
              "      <td>1</td>\n",
              "      <td>0</td>\n",
              "      <td>0</td>\n",
              "      <td>1</td>\n",
              "      <td>0</td>\n",
              "      <td>0</td>\n",
              "      <td>0</td>\n",
              "      <td>0</td>\n",
              "      <td>1</td>\n",
              "      <td>0</td>\n",
              "      <td>0</td>\n",
              "      <td>1</td>\n",
              "      <td>0</td>\n",
              "      <td>0</td>\n",
              "      <td>1</td>\n",
              "      <td>0</td>\n",
              "      <td>0</td>\n",
              "      <td>0</td>\n",
              "    </tr>\n",
              "    <tr>\n",
              "      <th>1</th>\n",
              "      <td>12889.019160</td>\n",
              "      <td>9</td>\n",
              "      <td>100</td>\n",
              "      <td>23.0</td>\n",
              "      <td>27.0</td>\n",
              "      <td>1.0</td>\n",
              "      <td>0.0</td>\n",
              "      <td>600</td>\n",
              "      <td>0</td>\n",
              "      <td>0</td>\n",
              "      <td>8</td>\n",
              "      <td>1</td>\n",
              "      <td>0</td>\n",
              "      <td>0</td>\n",
              "      <td>0</td>\n",
              "      <td>1</td>\n",
              "      <td>0</td>\n",
              "      <td>0</td>\n",
              "      <td>0</td>\n",
              "      <td>0</td>\n",
              "      <td>0</td>\n",
              "      <td>0</td>\n",
              "      <td>0</td>\n",
              "      <td>1</td>\n",
              "      <td>0</td>\n",
              "      <td>0</td>\n",
              "      <td>1</td>\n",
              "      <td>0</td>\n",
              "      <td>0</td>\n",
              "      <td>0</td>\n",
              "      <td>0</td>\n",
              "      <td>1</td>\n",
              "      <td>0</td>\n",
              "      <td>0</td>\n",
              "      <td>1</td>\n",
              "      <td>0</td>\n",
              "      <td>0</td>\n",
              "      <td>0</td>\n",
              "      <td>0</td>\n",
              "      <td>0</td>\n",
              "      <td>1</td>\n",
              "    </tr>\n",
              "    <tr>\n",
              "      <th>3</th>\n",
              "      <td>8668.664381</td>\n",
              "      <td>9</td>\n",
              "      <td>100</td>\n",
              "      <td>12.0</td>\n",
              "      <td>12.0</td>\n",
              "      <td>0.0</td>\n",
              "      <td>0.0</td>\n",
              "      <td>601</td>\n",
              "      <td>0</td>\n",
              "      <td>0</td>\n",
              "      <td>8</td>\n",
              "      <td>1</td>\n",
              "      <td>0</td>\n",
              "      <td>0</td>\n",
              "      <td>0</td>\n",
              "      <td>1</td>\n",
              "      <td>0</td>\n",
              "      <td>0</td>\n",
              "      <td>0</td>\n",
              "      <td>0</td>\n",
              "      <td>0</td>\n",
              "      <td>0</td>\n",
              "      <td>0</td>\n",
              "      <td>1</td>\n",
              "      <td>0</td>\n",
              "      <td>0</td>\n",
              "      <td>1</td>\n",
              "      <td>0</td>\n",
              "      <td>0</td>\n",
              "      <td>0</td>\n",
              "      <td>0</td>\n",
              "      <td>1</td>\n",
              "      <td>0</td>\n",
              "      <td>0</td>\n",
              "      <td>1</td>\n",
              "      <td>0</td>\n",
              "      <td>0</td>\n",
              "      <td>0</td>\n",
              "      <td>0</td>\n",
              "      <td>0</td>\n",
              "      <td>1</td>\n",
              "    </tr>\n",
              "    <tr>\n",
              "      <th>4</th>\n",
              "      <td>10681.660375</td>\n",
              "      <td>10</td>\n",
              "      <td>100</td>\n",
              "      <td>5.0</td>\n",
              "      <td>5.0</td>\n",
              "      <td>8.0</td>\n",
              "      <td>0.0</td>\n",
              "      <td>605</td>\n",
              "      <td>0</td>\n",
              "      <td>0</td>\n",
              "      <td>12</td>\n",
              "      <td>1</td>\n",
              "      <td>0</td>\n",
              "      <td>0</td>\n",
              "      <td>0</td>\n",
              "      <td>1</td>\n",
              "      <td>0</td>\n",
              "      <td>0</td>\n",
              "      <td>0</td>\n",
              "      <td>0</td>\n",
              "      <td>0</td>\n",
              "      <td>0</td>\n",
              "      <td>0</td>\n",
              "      <td>1</td>\n",
              "      <td>0</td>\n",
              "      <td>1</td>\n",
              "      <td>0</td>\n",
              "      <td>0</td>\n",
              "      <td>0</td>\n",
              "      <td>0</td>\n",
              "      <td>0</td>\n",
              "      <td>1</td>\n",
              "      <td>0</td>\n",
              "      <td>0</td>\n",
              "      <td>1</td>\n",
              "      <td>1</td>\n",
              "      <td>0</td>\n",
              "      <td>0</td>\n",
              "      <td>0</td>\n",
              "      <td>0</td>\n",
              "      <td>0</td>\n",
              "    </tr>\n",
              "    <tr>\n",
              "      <th>5</th>\n",
              "      <td>8012.189620</td>\n",
              "      <td>10</td>\n",
              "      <td>100</td>\n",
              "      <td>1.0</td>\n",
              "      <td>2.0</td>\n",
              "      <td>9.0</td>\n",
              "      <td>0.0</td>\n",
              "      <td>600</td>\n",
              "      <td>0</td>\n",
              "      <td>0</td>\n",
              "      <td>5</td>\n",
              "      <td>1</td>\n",
              "      <td>0</td>\n",
              "      <td>0</td>\n",
              "      <td>1</td>\n",
              "      <td>0</td>\n",
              "      <td>0</td>\n",
              "      <td>0</td>\n",
              "      <td>0</td>\n",
              "      <td>0</td>\n",
              "      <td>0</td>\n",
              "      <td>0</td>\n",
              "      <td>0</td>\n",
              "      <td>1</td>\n",
              "      <td>1</td>\n",
              "      <td>0</td>\n",
              "      <td>0</td>\n",
              "      <td>0</td>\n",
              "      <td>0</td>\n",
              "      <td>0</td>\n",
              "      <td>0</td>\n",
              "      <td>1</td>\n",
              "      <td>0</td>\n",
              "      <td>0</td>\n",
              "      <td>1</td>\n",
              "      <td>0</td>\n",
              "      <td>0</td>\n",
              "      <td>0</td>\n",
              "      <td>1</td>\n",
              "      <td>0</td>\n",
              "      <td>0</td>\n",
              "    </tr>\n",
              "    <tr>\n",
              "      <th>6</th>\n",
              "      <td>7298.253984</td>\n",
              "      <td>9</td>\n",
              "      <td>100</td>\n",
              "      <td>9.0</td>\n",
              "      <td>9.0</td>\n",
              "      <td>0.0</td>\n",
              "      <td>0.0</td>\n",
              "      <td>600</td>\n",
              "      <td>0</td>\n",
              "      <td>0</td>\n",
              "      <td>6</td>\n",
              "      <td>1</td>\n",
              "      <td>0</td>\n",
              "      <td>0</td>\n",
              "      <td>0</td>\n",
              "      <td>1</td>\n",
              "      <td>0</td>\n",
              "      <td>0</td>\n",
              "      <td>0</td>\n",
              "      <td>0</td>\n",
              "      <td>0</td>\n",
              "      <td>0</td>\n",
              "      <td>0</td>\n",
              "      <td>1</td>\n",
              "      <td>0</td>\n",
              "      <td>0</td>\n",
              "      <td>1</td>\n",
              "      <td>0</td>\n",
              "      <td>0</td>\n",
              "      <td>0</td>\n",
              "      <td>0</td>\n",
              "      <td>1</td>\n",
              "      <td>0</td>\n",
              "      <td>0</td>\n",
              "      <td>1</td>\n",
              "      <td>0</td>\n",
              "      <td>0</td>\n",
              "      <td>0</td>\n",
              "      <td>0</td>\n",
              "      <td>0</td>\n",
              "      <td>1</td>\n",
              "    </tr>\n",
              "    <tr>\n",
              "      <th>7</th>\n",
              "      <td>8576.624386</td>\n",
              "      <td>9</td>\n",
              "      <td>100</td>\n",
              "      <td>8.0</td>\n",
              "      <td>8.0</td>\n",
              "      <td>0.0</td>\n",
              "      <td>0.0</td>\n",
              "      <td>606</td>\n",
              "      <td>0</td>\n",
              "      <td>0</td>\n",
              "      <td>12</td>\n",
              "      <td>1</td>\n",
              "      <td>0</td>\n",
              "      <td>1</td>\n",
              "      <td>0</td>\n",
              "      <td>0</td>\n",
              "      <td>0</td>\n",
              "      <td>0</td>\n",
              "      <td>0</td>\n",
              "      <td>0</td>\n",
              "      <td>0</td>\n",
              "      <td>0</td>\n",
              "      <td>0</td>\n",
              "      <td>1</td>\n",
              "      <td>0</td>\n",
              "      <td>1</td>\n",
              "      <td>0</td>\n",
              "      <td>0</td>\n",
              "      <td>0</td>\n",
              "      <td>0</td>\n",
              "      <td>0</td>\n",
              "      <td>1</td>\n",
              "      <td>1</td>\n",
              "      <td>0</td>\n",
              "      <td>0</td>\n",
              "      <td>0</td>\n",
              "      <td>0</td>\n",
              "      <td>0</td>\n",
              "      <td>1</td>\n",
              "      <td>0</td>\n",
              "      <td>0</td>\n",
              "    </tr>\n",
              "    <tr>\n",
              "      <th>8</th>\n",
              "      <td>7031.448365</td>\n",
              "      <td>10</td>\n",
              "      <td>100</td>\n",
              "      <td>3.0</td>\n",
              "      <td>3.0</td>\n",
              "      <td>0.0</td>\n",
              "      <td>0.0</td>\n",
              "      <td>601</td>\n",
              "      <td>1</td>\n",
              "      <td>1</td>\n",
              "      <td>6</td>\n",
              "      <td>0</td>\n",
              "      <td>1</td>\n",
              "      <td>0</td>\n",
              "      <td>0</td>\n",
              "      <td>1</td>\n",
              "      <td>0</td>\n",
              "      <td>0</td>\n",
              "      <td>0</td>\n",
              "      <td>0</td>\n",
              "      <td>0</td>\n",
              "      <td>0</td>\n",
              "      <td>0</td>\n",
              "      <td>1</td>\n",
              "      <td>0</td>\n",
              "      <td>0</td>\n",
              "      <td>1</td>\n",
              "      <td>0</td>\n",
              "      <td>0</td>\n",
              "      <td>0</td>\n",
              "      <td>0</td>\n",
              "      <td>1</td>\n",
              "      <td>0</td>\n",
              "      <td>0</td>\n",
              "      <td>1</td>\n",
              "      <td>1</td>\n",
              "      <td>0</td>\n",
              "      <td>0</td>\n",
              "      <td>0</td>\n",
              "      <td>0</td>\n",
              "      <td>0</td>\n",
              "    </tr>\n",
              "    <tr>\n",
              "      <th>9</th>\n",
              "      <td>7751.625187</td>\n",
              "      <td>9</td>\n",
              "      <td>100</td>\n",
              "      <td>2.0</td>\n",
              "      <td>2.0</td>\n",
              "      <td>0.0</td>\n",
              "      <td>0.0</td>\n",
              "      <td>605</td>\n",
              "      <td>0</td>\n",
              "      <td>0</td>\n",
              "      <td>12</td>\n",
              "      <td>0</td>\n",
              "      <td>1</td>\n",
              "      <td>0</td>\n",
              "      <td>0</td>\n",
              "      <td>1</td>\n",
              "      <td>0</td>\n",
              "      <td>0</td>\n",
              "      <td>0</td>\n",
              "      <td>0</td>\n",
              "      <td>0</td>\n",
              "      <td>0</td>\n",
              "      <td>0</td>\n",
              "      <td>1</td>\n",
              "      <td>0</td>\n",
              "      <td>1</td>\n",
              "      <td>0</td>\n",
              "      <td>0</td>\n",
              "      <td>0</td>\n",
              "      <td>0</td>\n",
              "      <td>0</td>\n",
              "      <td>1</td>\n",
              "      <td>0</td>\n",
              "      <td>0</td>\n",
              "      <td>1</td>\n",
              "      <td>0</td>\n",
              "      <td>0</td>\n",
              "      <td>1</td>\n",
              "      <td>0</td>\n",
              "      <td>0</td>\n",
              "      <td>0</td>\n",
              "    </tr>\n",
              "    <tr>\n",
              "      <th>10</th>\n",
              "      <td>6745.656485</td>\n",
              "      <td>10</td>\n",
              "      <td>100</td>\n",
              "      <td>3.0</td>\n",
              "      <td>3.0</td>\n",
              "      <td>0.0</td>\n",
              "      <td>0.0</td>\n",
              "      <td>602</td>\n",
              "      <td>0</td>\n",
              "      <td>0</td>\n",
              "      <td>12</td>\n",
              "      <td>1</td>\n",
              "      <td>0</td>\n",
              "      <td>0</td>\n",
              "      <td>0</td>\n",
              "      <td>1</td>\n",
              "      <td>0</td>\n",
              "      <td>0</td>\n",
              "      <td>0</td>\n",
              "      <td>0</td>\n",
              "      <td>0</td>\n",
              "      <td>0</td>\n",
              "      <td>0</td>\n",
              "      <td>1</td>\n",
              "      <td>0</td>\n",
              "      <td>1</td>\n",
              "      <td>0</td>\n",
              "      <td>0</td>\n",
              "      <td>0</td>\n",
              "      <td>0</td>\n",
              "      <td>0</td>\n",
              "      <td>1</td>\n",
              "      <td>0</td>\n",
              "      <td>1</td>\n",
              "      <td>0</td>\n",
              "      <td>0</td>\n",
              "      <td>1</td>\n",
              "      <td>0</td>\n",
              "      <td>0</td>\n",
              "      <td>0</td>\n",
              "      <td>0</td>\n",
              "    </tr>\n",
              "  </tbody>\n",
              "</table>\n",
              "</div>"
            ],
            "text/plain": [
              "     AdjSalMonth  months_employed  fte  dist_exp  state_exp  out_of_state_exp  \\\n",
              "0    4029.489540                9  100       1.0        1.0               0.0   \n",
              "1   12889.019160                9  100      23.0       27.0               1.0   \n",
              "3    8668.664381                9  100      12.0       12.0               0.0   \n",
              "4   10681.660375               10  100       5.0        5.0               8.0   \n",
              "5    8012.189620               10  100       1.0        2.0               9.0   \n",
              "6    7298.253984                9  100       9.0        9.0               0.0   \n",
              "7    8576.624386                9  100       8.0        8.0               0.0   \n",
              "8    7031.448365               10  100       3.0        3.0               0.0   \n",
              "9    7751.625187                9  100       2.0        2.0               0.0   \n",
              "10   6745.656485               10  100       3.0        3.0               0.0   \n",
              "\n",
              "    pct_admin  first_3  multi_assign_2  multi_assign_3  grade_taught  Female  \\\n",
              "0         0.0      601               0               0             7       1   \n",
              "1         0.0      600               0               0             8       1   \n",
              "3         0.0      601               0               0             8       1   \n",
              "4         0.0      605               0               0            12       1   \n",
              "5         0.0      600               0               0             5       1   \n",
              "6         0.0      600               0               0             6       1   \n",
              "7         0.0      606               0               0            12       1   \n",
              "8         0.0      601               1               1             6       0   \n",
              "9         0.0      605               0               0            12       0   \n",
              "10        0.0      602               0               0            12       1   \n",
              "\n",
              "    Male  Bachelors  Doctorate  Masters  Edu_None  Edu_Other  AmerIn_Alaska  \\\n",
              "0      0          1          0        0         0          0              0   \n",
              "1      0          0          0        1         0          0              0   \n",
              "3      0          0          0        1         0          0              0   \n",
              "4      0          0          0        1         0          0              0   \n",
              "5      0          0          1        0         0          0              0   \n",
              "6      0          0          0        1         0          0              0   \n",
              "7      0          1          0        0         0          0              0   \n",
              "8      1          0          0        1         0          0              0   \n",
              "9      1          0          0        1         0          0              0   \n",
              "10     0          0          0        1         0          0              0   \n",
              "\n",
              "    Asian_Pacific  Black  Hispanic  Eth_unknown  White  Elem_Teacher  \\\n",
              "0               0      0         0            0      1             0   \n",
              "1               0      0         0            0      1             0   \n",
              "3               0      0         0            0      1             0   \n",
              "4               0      0         0            0      1             0   \n",
              "5               0      0         0            0      1             1   \n",
              "6               0      0         0            0      1             0   \n",
              "7               0      0         0            0      1             0   \n",
              "8               0      0         0            0      1             0   \n",
              "9               0      0         0            0      1             0   \n",
              "10              0      0         0            0      1             0   \n",
              "\n",
              "    HS_Teacher  JuniorHS_Teacher  Kinder_Teacher  PreK_Teacher  \\\n",
              "0            0                 1               0             0   \n",
              "1            0                 1               0             0   \n",
              "3            0                 1               0             0   \n",
              "4            1                 0               0             0   \n",
              "5            0                 0               0             0   \n",
              "6            0                 1               0             0   \n",
              "7            1                 0               0             0   \n",
              "8            0                 1               0             0   \n",
              "9            1                 0               0             0   \n",
              "10           1                 0               0             0   \n",
              "\n",
              "    SpecEd_Teacher  Multi_Taught  OneSch_Taught  Chicago  Other  Suburb  \\\n",
              "0                0             0              1        0      0       1   \n",
              "1                0             0              1        0      0       1   \n",
              "3                0             0              1        0      0       1   \n",
              "4                0             0              1        0      0       1   \n",
              "5                0             0              1        0      0       1   \n",
              "6                0             0              1        0      0       1   \n",
              "7                0             0              1        1      0       0   \n",
              "8                0             0              1        0      0       1   \n",
              "9                0             0              1        0      0       1   \n",
              "10               0             0              1        0      1       0   \n",
              "\n",
              "    Lit/Language  Humanities/SS  Math/Science  Art/PE  SpecialEd  Misc.  \n",
              "0              0              0             1       0          0      0  \n",
              "1              0              0             0       0          0      1  \n",
              "3              0              0             0       0          0      1  \n",
              "4              1              0             0       0          0      0  \n",
              "5              0              0             0       1          0      0  \n",
              "6              0              0             0       0          0      1  \n",
              "7              0              0             0       1          0      0  \n",
              "8              1              0             0       0          0      0  \n",
              "9              0              0             1       0          0      0  \n",
              "10             0              1             0       0          0      0  "
            ]
          },
          "metadata": {
            "tags": []
          },
          "execution_count": 3
        }
      ]
    },
    {
      "cell_type": "code",
      "metadata": {
        "id": "0V9T-l85MN3a",
        "colab_type": "code",
        "outputId": "21f23494-89bd-44a8-83a3-aea65e798a6e",
        "colab": {
          "base_uri": "https://localhost:8080/",
          "height": 34
        }
      },
      "source": [
        "df_num.shape"
      ],
      "execution_count": 0,
      "outputs": [
        {
          "output_type": "execute_result",
          "data": {
            "text/plain": [
              "(1301569, 41)"
            ]
          },
          "metadata": {
            "tags": []
          },
          "execution_count": 3
        }
      ]
    },
    {
      "cell_type": "code",
      "metadata": {
        "id": "PUwOhQl6MzpK",
        "colab_type": "code",
        "outputId": "c051bc8e-501d-4bef-e50e-b4e63aafbb20",
        "colab": {
          "base_uri": "https://localhost:8080/",
          "height": 438
        }
      },
      "source": [
        "# download categorical dataframe\n",
        "df_cat = pd.read_csv('drive/My Drive/df_cat.csv', index_col=0)\n",
        "df_cat.head(10)"
      ],
      "execution_count": 0,
      "outputs": [
        {
          "output_type": "stream",
          "text": [
            "/usr/local/lib/python3.6/dist-packages/IPython/core/interactiveshell.py:2718: DtypeWarning: Columns (2) have mixed types. Specify dtype option on import or set low_memory=False.\n",
            "  interactivity=interactivity, compiler=compiler, result=result)\n",
            "/usr/local/lib/python3.6/dist-packages/numpy/lib/arraysetops.py:569: FutureWarning: elementwise comparison failed; returning scalar instead, but in the future will perform elementwise comparison\n",
            "  mask |= (ar1 == a)\n"
          ],
          "name": "stderr"
        },
        {
          "output_type": "execute_result",
          "data": {
            "text/html": [
              "<div>\n",
              "<style scoped>\n",
              "    .dataframe tbody tr th:only-of-type {\n",
              "        vertical-align: middle;\n",
              "    }\n",
              "\n",
              "    .dataframe tbody tr th {\n",
              "        vertical-align: top;\n",
              "    }\n",
              "\n",
              "    .dataframe thead th {\n",
              "        text-align: right;\n",
              "    }\n",
              "</style>\n",
              "<table border=\"1\" class=\"dataframe\">\n",
              "  <thead>\n",
              "    <tr style=\"text-align: right;\">\n",
              "      <th></th>\n",
              "      <th>AdjSalMonth</th>\n",
              "      <th>sch_num</th>\n",
              "      <th>gender</th>\n",
              "      <th>emply_desc</th>\n",
              "      <th>months_employed</th>\n",
              "      <th>fte</th>\n",
              "      <th>dist_exp</th>\n",
              "      <th>state_exp</th>\n",
              "      <th>out_of_state_exp</th>\n",
              "      <th>pos_cd</th>\n",
              "      <th>low_grade</th>\n",
              "      <th>high_grade</th>\n",
              "      <th>pct_admin</th>\n",
              "      <th>first_3</th>\n",
              "      <th>Zip_Type</th>\n",
              "      <th>multi_assign_2</th>\n",
              "      <th>multi_assign_3</th>\n",
              "      <th>eth_groups</th>\n",
              "      <th>edu_groups</th>\n",
              "      <th>grade_taught</th>\n",
              "      <th>loc_taught</th>\n",
              "      <th>assign1_groups</th>\n",
              "    </tr>\n",
              "  </thead>\n",
              "  <tbody>\n",
              "    <tr>\n",
              "      <th>0</th>\n",
              "      <td>4029.489540</td>\n",
              "      <td>1003</td>\n",
              "      <td>F</td>\n",
              "      <td>Full-Time</td>\n",
              "      <td>9</td>\n",
              "      <td>100</td>\n",
              "      <td>1.0</td>\n",
              "      <td>1.0</td>\n",
              "      <td>0.0</td>\n",
              "      <td>20</td>\n",
              "      <td>00</td>\n",
              "      <td>07</td>\n",
              "      <td>0.0</td>\n",
              "      <td>601</td>\n",
              "      <td>Suburb</td>\n",
              "      <td>0</td>\n",
              "      <td>0</td>\n",
              "      <td>White</td>\n",
              "      <td>Bachelors</td>\n",
              "      <td>7</td>\n",
              "      <td>OneSch_Taught</td>\n",
              "      <td>3</td>\n",
              "    </tr>\n",
              "    <tr>\n",
              "      <th>1</th>\n",
              "      <td>12889.019160</td>\n",
              "      <td>1005</td>\n",
              "      <td>F</td>\n",
              "      <td>Full-Time</td>\n",
              "      <td>9</td>\n",
              "      <td>100</td>\n",
              "      <td>23.0</td>\n",
              "      <td>27.0</td>\n",
              "      <td>1.0</td>\n",
              "      <td>20</td>\n",
              "      <td>07</td>\n",
              "      <td>08</td>\n",
              "      <td>0.0</td>\n",
              "      <td>600</td>\n",
              "      <td>Suburb</td>\n",
              "      <td>0</td>\n",
              "      <td>0</td>\n",
              "      <td>White</td>\n",
              "      <td>Masters</td>\n",
              "      <td>8</td>\n",
              "      <td>OneSch_Taught</td>\n",
              "      <td>6</td>\n",
              "    </tr>\n",
              "    <tr>\n",
              "      <th>3</th>\n",
              "      <td>8668.664381</td>\n",
              "      <td>1003</td>\n",
              "      <td>F</td>\n",
              "      <td>Full-Time</td>\n",
              "      <td>9</td>\n",
              "      <td>100</td>\n",
              "      <td>12.0</td>\n",
              "      <td>12.0</td>\n",
              "      <td>0.0</td>\n",
              "      <td>20</td>\n",
              "      <td>07</td>\n",
              "      <td>08</td>\n",
              "      <td>0.0</td>\n",
              "      <td>601</td>\n",
              "      <td>Suburb</td>\n",
              "      <td>0</td>\n",
              "      <td>0</td>\n",
              "      <td>White</td>\n",
              "      <td>Masters</td>\n",
              "      <td>8</td>\n",
              "      <td>OneSch_Taught</td>\n",
              "      <td>6</td>\n",
              "    </tr>\n",
              "    <tr>\n",
              "      <th>4</th>\n",
              "      <td>10681.660375</td>\n",
              "      <td>2</td>\n",
              "      <td>F</td>\n",
              "      <td>Full-Time</td>\n",
              "      <td>10</td>\n",
              "      <td>100</td>\n",
              "      <td>5.0</td>\n",
              "      <td>5.0</td>\n",
              "      <td>8.0</td>\n",
              "      <td>22</td>\n",
              "      <td>09</td>\n",
              "      <td>12</td>\n",
              "      <td>0.0</td>\n",
              "      <td>605</td>\n",
              "      <td>Suburb</td>\n",
              "      <td>0</td>\n",
              "      <td>0</td>\n",
              "      <td>White</td>\n",
              "      <td>Masters</td>\n",
              "      <td>12</td>\n",
              "      <td>OneSch_Taught</td>\n",
              "      <td>1</td>\n",
              "    </tr>\n",
              "    <tr>\n",
              "      <th>5</th>\n",
              "      <td>8012.189620</td>\n",
              "      <td>2002</td>\n",
              "      <td>F</td>\n",
              "      <td>Full-Time</td>\n",
              "      <td>10</td>\n",
              "      <td>100</td>\n",
              "      <td>1.0</td>\n",
              "      <td>2.0</td>\n",
              "      <td>9.0</td>\n",
              "      <td>19</td>\n",
              "      <td>01</td>\n",
              "      <td>05</td>\n",
              "      <td>0.0</td>\n",
              "      <td>600</td>\n",
              "      <td>Suburb</td>\n",
              "      <td>0</td>\n",
              "      <td>0</td>\n",
              "      <td>White</td>\n",
              "      <td>Doctorate</td>\n",
              "      <td>5</td>\n",
              "      <td>OneSch_Taught</td>\n",
              "      <td>4</td>\n",
              "    </tr>\n",
              "    <tr>\n",
              "      <th>6</th>\n",
              "      <td>7298.253984</td>\n",
              "      <td>2002</td>\n",
              "      <td>F</td>\n",
              "      <td>Full-Time</td>\n",
              "      <td>9</td>\n",
              "      <td>100</td>\n",
              "      <td>9.0</td>\n",
              "      <td>9.0</td>\n",
              "      <td>0.0</td>\n",
              "      <td>20</td>\n",
              "      <td>00</td>\n",
              "      <td>06</td>\n",
              "      <td>0.0</td>\n",
              "      <td>600</td>\n",
              "      <td>Suburb</td>\n",
              "      <td>0</td>\n",
              "      <td>0</td>\n",
              "      <td>White</td>\n",
              "      <td>Masters</td>\n",
              "      <td>6</td>\n",
              "      <td>OneSch_Taught</td>\n",
              "      <td>6</td>\n",
              "    </tr>\n",
              "    <tr>\n",
              "      <th>7</th>\n",
              "      <td>8576.624386</td>\n",
              "      <td>30</td>\n",
              "      <td>F</td>\n",
              "      <td>Full-Time</td>\n",
              "      <td>9</td>\n",
              "      <td>100</td>\n",
              "      <td>8.0</td>\n",
              "      <td>8.0</td>\n",
              "      <td>0.0</td>\n",
              "      <td>22</td>\n",
              "      <td>09</td>\n",
              "      <td>12</td>\n",
              "      <td>0.0</td>\n",
              "      <td>606</td>\n",
              "      <td>Chicago</td>\n",
              "      <td>0</td>\n",
              "      <td>0</td>\n",
              "      <td>White</td>\n",
              "      <td>Bachelors</td>\n",
              "      <td>12</td>\n",
              "      <td>OneSch_Taught</td>\n",
              "      <td>4</td>\n",
              "    </tr>\n",
              "    <tr>\n",
              "      <th>8</th>\n",
              "      <td>7031.448365</td>\n",
              "      <td>1017</td>\n",
              "      <td>M</td>\n",
              "      <td>Full-Time</td>\n",
              "      <td>10</td>\n",
              "      <td>100</td>\n",
              "      <td>3.0</td>\n",
              "      <td>3.0</td>\n",
              "      <td>0.0</td>\n",
              "      <td>20</td>\n",
              "      <td>00</td>\n",
              "      <td>06</td>\n",
              "      <td>0.0</td>\n",
              "      <td>601</td>\n",
              "      <td>Suburb</td>\n",
              "      <td>1</td>\n",
              "      <td>1</td>\n",
              "      <td>White</td>\n",
              "      <td>Masters</td>\n",
              "      <td>6</td>\n",
              "      <td>OneSch_Taught</td>\n",
              "      <td>1</td>\n",
              "    </tr>\n",
              "    <tr>\n",
              "      <th>9</th>\n",
              "      <td>7751.625187</td>\n",
              "      <td>13</td>\n",
              "      <td>M</td>\n",
              "      <td>Full-Time</td>\n",
              "      <td>9</td>\n",
              "      <td>100</td>\n",
              "      <td>2.0</td>\n",
              "      <td>2.0</td>\n",
              "      <td>0.0</td>\n",
              "      <td>22</td>\n",
              "      <td>09</td>\n",
              "      <td>12</td>\n",
              "      <td>0.0</td>\n",
              "      <td>605</td>\n",
              "      <td>Suburb</td>\n",
              "      <td>0</td>\n",
              "      <td>0</td>\n",
              "      <td>White</td>\n",
              "      <td>Masters</td>\n",
              "      <td>12</td>\n",
              "      <td>OneSch_Taught</td>\n",
              "      <td>3</td>\n",
              "    </tr>\n",
              "    <tr>\n",
              "      <th>10</th>\n",
              "      <td>6745.656485</td>\n",
              "      <td>1</td>\n",
              "      <td>F</td>\n",
              "      <td>Full-Time</td>\n",
              "      <td>10</td>\n",
              "      <td>100</td>\n",
              "      <td>3.0</td>\n",
              "      <td>3.0</td>\n",
              "      <td>0.0</td>\n",
              "      <td>22</td>\n",
              "      <td>09</td>\n",
              "      <td>12</td>\n",
              "      <td>0.0</td>\n",
              "      <td>602</td>\n",
              "      <td>Other</td>\n",
              "      <td>0</td>\n",
              "      <td>0</td>\n",
              "      <td>White</td>\n",
              "      <td>Masters</td>\n",
              "      <td>12</td>\n",
              "      <td>OneSch_Taught</td>\n",
              "      <td>2</td>\n",
              "    </tr>\n",
              "  </tbody>\n",
              "</table>\n",
              "</div>"
            ],
            "text/plain": [
              "     AdjSalMonth sch_num gender emply_desc  months_employed  fte  dist_exp  \\\n",
              "0    4029.489540    1003      F  Full-Time                9  100       1.0   \n",
              "1   12889.019160    1005      F  Full-Time                9  100      23.0   \n",
              "3    8668.664381    1003      F  Full-Time                9  100      12.0   \n",
              "4   10681.660375       2      F  Full-Time               10  100       5.0   \n",
              "5    8012.189620    2002      F  Full-Time               10  100       1.0   \n",
              "6    7298.253984    2002      F  Full-Time                9  100       9.0   \n",
              "7    8576.624386      30      F  Full-Time                9  100       8.0   \n",
              "8    7031.448365    1017      M  Full-Time               10  100       3.0   \n",
              "9    7751.625187      13      M  Full-Time                9  100       2.0   \n",
              "10   6745.656485       1      F  Full-Time               10  100       3.0   \n",
              "\n",
              "    state_exp  out_of_state_exp  pos_cd low_grade high_grade  pct_admin  \\\n",
              "0         1.0               0.0      20        00         07        0.0   \n",
              "1        27.0               1.0      20        07         08        0.0   \n",
              "3        12.0               0.0      20        07         08        0.0   \n",
              "4         5.0               8.0      22        09         12        0.0   \n",
              "5         2.0               9.0      19        01         05        0.0   \n",
              "6         9.0               0.0      20        00         06        0.0   \n",
              "7         8.0               0.0      22        09         12        0.0   \n",
              "8         3.0               0.0      20        00         06        0.0   \n",
              "9         2.0               0.0      22        09         12        0.0   \n",
              "10        3.0               0.0      22        09         12        0.0   \n",
              "\n",
              "    first_3 Zip_Type  multi_assign_2  multi_assign_3 eth_groups edu_groups  \\\n",
              "0       601   Suburb               0               0      White  Bachelors   \n",
              "1       600   Suburb               0               0      White    Masters   \n",
              "3       601   Suburb               0               0      White    Masters   \n",
              "4       605   Suburb               0               0      White    Masters   \n",
              "5       600   Suburb               0               0      White  Doctorate   \n",
              "6       600   Suburb               0               0      White    Masters   \n",
              "7       606  Chicago               0               0      White  Bachelors   \n",
              "8       601   Suburb               1               1      White    Masters   \n",
              "9       605   Suburb               0               0      White    Masters   \n",
              "10      602    Other               0               0      White    Masters   \n",
              "\n",
              "    grade_taught     loc_taught  assign1_groups  \n",
              "0              7  OneSch_Taught               3  \n",
              "1              8  OneSch_Taught               6  \n",
              "3              8  OneSch_Taught               6  \n",
              "4             12  OneSch_Taught               1  \n",
              "5              5  OneSch_Taught               4  \n",
              "6              6  OneSch_Taught               6  \n",
              "7             12  OneSch_Taught               4  \n",
              "8              6  OneSch_Taught               1  \n",
              "9             12  OneSch_Taught               3  \n",
              "10            12  OneSch_Taught               2  "
            ]
          },
          "metadata": {
            "tags": []
          },
          "execution_count": 4
        }
      ]
    },
    {
      "cell_type": "code",
      "metadata": {
        "id": "Gc6PB1Y8NC8N",
        "colab_type": "code",
        "outputId": "8990b652-025f-418f-a7e7-797ceb6a7324",
        "colab": {
          "base_uri": "https://localhost:8080/",
          "height": 34
        }
      },
      "source": [
        "df_cat.shape"
      ],
      "execution_count": 0,
      "outputs": [
        {
          "output_type": "execute_result",
          "data": {
            "text/plain": [
              "(1301569, 22)"
            ]
          },
          "metadata": {
            "tags": []
          },
          "execution_count": 5
        }
      ]
    },
    {
      "cell_type": "markdown",
      "metadata": {
        "id": "eTPJKRe5llua",
        "colab_type": "text"
      },
      "source": [
        "**FEATURE SELECTION**\n",
        "\n",
        "---\n",
        "Methods:\n",
        "- Low Variance\n",
        "- Stepwise Recursive Backwards Feature Removal\n",
        "- Wrapper Select\n",
        "- Univariate Feature Selection - Mutual Info Regression\n",
        "- Full Blown Wrapper Select (Any type of model)"
      ]
    },
    {
      "cell_type": "code",
      "metadata": {
        "id": "5taE1bzZmN6_",
        "colab_type": "code",
        "colab": {}
      },
      "source": [
        "### VARIABLES FOR FEATURE SELECTION ###\n",
        "\n",
        "feat_select = 1     # Feature Selection ON - 1 or OFF - 0                                                                                        \n",
        "fs_type = 3         # Feature Selection TYPE (1 = Stepwise Backwards Removal, 2 = Wrapper Select, 3 = Univariate Selection, 4 = Full Blown Wrapper)\n",
        "lv_filter = 1       # Low Variance FIlter ON - 1 or OFF - 0\n",
        "feat_start = 1      # Feature Start Column \n",
        "k_cnt = 5           # Number of 'TOP' Ranking Features\n",
        "\n",
        "rand_st = 1\n",
        "data = []\n",
        "target = []"
      ],
      "execution_count": 0,
      "outputs": []
    },
    {
      "cell_type": "code",
      "metadata": {
        "id": "6EsReKhyLZeN",
        "colab_type": "code",
        "outputId": "b859cb8e-1459-4396-c769-95d85d59d455",
        "colab": {
          "base_uri": "https://localhost:8080/",
          "height": 68
        }
      },
      "source": [
        "header = []\n",
        "for q in df_num:\n",
        "  header.append(q)\n",
        "\n",
        "for x in df_num.itertuples(index=False):\n",
        "  if x[0] == '':\n",
        "    continue\n",
        "  else:\n",
        "    target.append(x[0])\n",
        "  \n",
        "  temp=[]\n",
        "  for i in range(feat_start, len(df_num.columns)):\n",
        "    if x[i] == '':\n",
        "      continue\n",
        "    else:\n",
        "      temp.append(float(x[i]))\n",
        "                  \n",
        "  data.append(temp)\n",
        " \n",
        "#Test Print\n",
        "print(len(target),len(data))\n",
        "print('\\n')\n",
        "\n",
        "data_np=np.asarray(data)\n",
        "target_np=np.asarray(target)"
      ],
      "execution_count": 0,
      "outputs": [
        {
          "output_type": "stream",
          "text": [
            "1295444 1295444\n",
            "\n",
            "\n"
          ],
          "name": "stdout"
        }
      ]
    },
    {
      "cell_type": "code",
      "metadata": {
        "id": "GDT9xTZiHQMY",
        "colab_type": "code",
        "outputId": "340b9931-fe3c-466d-a844-f67d047b8aa7",
        "colab": {
          "base_uri": "https://localhost:8080/",
          "height": 119
        }
      },
      "source": [
        "### LOW VARIANCE FILTER ###\n",
        "if lv_filter==1:\n",
        "  print('### LOW VARIANCE FILTER is ON ###', '\\n')\n",
        "    \n",
        "  #LV Threshold\n",
        "  sel = VarianceThreshold(threshold=0.5)                                      #Removes any feature with less than 20% variance\n",
        "  fit_mod=sel.fit(data_np)\n",
        "  fitted=sel.transform(data_np)\n",
        "  sel_idx=fit_mod.get_support()\n",
        "\n",
        "  #Get lists of selected and non-selected features (names and indexes)\n",
        "  temp=[]\n",
        "  temp_idx=[]\n",
        "  temp_del=[]\n",
        "  for i in range(len(data_np[0])):\n",
        "    if sel_idx[i]==1:                                                           #Selected Features get added to temp header\n",
        "      temp.append(header[i+feat_start])\n",
        "      temp_idx.append(i)\n",
        "    else:                                                                       #Indexes of non-selected features get added to delete arra\n",
        "      temp_del.append(i)\n",
        "\n",
        "  print('Selected', temp)\n",
        "  print('Features (total, selected):', len(data_np[0]), len(temp))\n",
        "  print('\\n')\n",
        "    "
      ],
      "execution_count": 0,
      "outputs": [
        {
          "output_type": "stream",
          "text": [
            "### LOW VARIANCE FILTER is ON ### \n",
            "\n",
            "Selected ['fte', 'dist_exp', 'state_exp', 'out_of_state_exp', 'pct_admin', 'first_3', 'grade_taught']\n",
            "Features (total, selected): 40 7\n",
            "\n",
            "\n"
          ],
          "name": "stdout"
        }
      ]
    },
    {
      "cell_type": "code",
      "metadata": {
        "id": "OJAXzra16kGW",
        "colab_type": "code",
        "outputId": "0206a2b0-2e6b-49b3-edce-8d15e45da132",
        "colab": {
          "base_uri": "https://localhost:8080/",
          "height": 68
        }
      },
      "source": [
        "### FEATURE SELECTION METHODS ###\n",
        "\n",
        "if feat_select == 1:\n",
        "  print('### FEATURE SELECTION is ON ###', '\\n')\n",
        "  \n",
        "  ### STEPWISE RECURSIVE BACKWARDS ###\n",
        "  if fs_type == 1:\n",
        "    print('Stepwise Recursive Backwards - Random Forest: ')\n",
        "    rgr = RandomForestRegressor(n_estimators=500, max_depth=None, min_samples_split=3, criterion='mse', random_state=rand_st)\n",
        "    sel = RFE(rgr, n_features_to_select=k_cnt, step=.1)\n",
        "      \n",
        "    fit_mod=sel.fit(data_np, target_np)\n",
        "    print(sel.ranking_)\n",
        "    sel_idx=fit_mod.get_support()  \n",
        "    \n",
        "  ### WRAPPER SELECT ###\n",
        "  if fs_type == 2:\n",
        "    print ('Wrapper Select: ')\n",
        "    rgr= SVR(kernel='linear', gamma=0.1, C=1.0)\n",
        "    sel = SelectFromModel(rgr, prefit=False, threshold='mean', max_features=None)\n",
        "    \n",
        "    fit_mod=sel.fit(data_np, target_np)    \n",
        "    sel_idx=fit_mod.get_support()\n",
        "    \n",
        "  ### UNIVARIATE FEATURE SELECTION ###\n",
        "  if fs_type == 3:\n",
        "    print ('Univariate Feature Selection - Mutual Info: ')\n",
        "    sel=SelectKBest(mutual_info_regression, k=k_cnt)\n",
        "    fit_mod=sel.fit(data, target)\n",
        "    sel_idx=fit_mod.get_support()\n",
        "\n",
        "    #Print ranked variables out sorted\n",
        "    temp=[]\n",
        "    scores=fit_mod.scores_\n",
        "    for i in range(feat_start, len(header)):\n",
        "      temp.append([header[i], float(scores[i-feat_start])])\n",
        "      print('Ranked Features')\n",
        "      temp_sort=sorted(temp, key=itemgetter(1), reverse=True)\n",
        "      for i in range(len(temp_sort)):\n",
        "        print(i, temp_sort[i][0], ':', temp_sort[i][1])\n",
        "      print('\\n')\n",
        "    \n",
        "    ### FULL BLOWN WRAPPER ###\n",
        "    if fs_type == 4:\n",
        "      start_ts=time.time()\n",
        "      sel_idx=[]                                                                                      #Empty array to hold optimal selected feature set\n",
        "      best_score=sys.float_info.max                                                                   #For regression compare RMSE, lower is better, so start with max sys float value\n",
        "      feat_cnt=len(data[0])\n",
        "\n",
        "      #Create Wrapper model\n",
        "      rgr= SVR(kernel='linear', gamma=0.1, C=1.0)                    #This could be any kind of regressor model         \n",
        "        \n",
        "      #Loop thru feature sets\n",
        "      roll_idx=0\n",
        "      combo_ctr=0\n",
        "      feat_arr=[0 for col in range(feat_cnt)]                                         #Initialize feature array\n",
        "      for idx in range(feat_cnt):\n",
        "        roll_idx=idx\n",
        "        feat_space_search(feat_arr, idx)                                           #Recurse\n",
        "        feat_arr=[0 for col in range(feat_cnt)]                                     #Reset feature array after each iteration\n",
        "        \n",
        "      print('# of Feature Combos Tested:', combo_ctr)\n",
        "      print(best_score, sel_idx, len(data[0]))\n",
        "      print(\"Wrapper Feat Sel Runtime:\", time.time()-start_ts)\n",
        "  \n",
        "  # PRINT LIST OF SELECTED & NON-SELECTED FEATURES\n",
        "  temp=[]\n",
        "  temp_idx=[]\n",
        "  temp_del=[]\n",
        "  for i in range(len(data_np[0])):\n",
        "      if sel_idx[i]==1:                                                           #Selected Features get added to temp header\n",
        "          temp.append(header[i+feat_start])\n",
        "          temp_idx.append(i)\n",
        "      else:                                                                       #Indexes of non-selected features get added to delete array\n",
        "          temp_del.append(i)\n",
        "  print('Selected', temp)\n",
        "  print('Features (total/selected):', len(data_np[0]), len(temp))\n",
        "  print('\\n')\n",
        "    \n",
        "  # PRINT LIST OF SELECTED & NON-SELECTED FEATURES\n",
        "  #header = header[0:feat_start]\n",
        "  #for field in temp:\n",
        "  #     header.append(field)\n",
        "  #data_np = np.delete(data_np, temp_del, axis=1) "
      ],
      "execution_count": 0,
      "outputs": [
        {
          "output_type": "stream",
          "text": [
            "### FEATURE SELECTION is ON ### \n",
            "\n",
            "Univariate Feature Selection - Mutual Info: \n"
          ],
          "name": "stdout"
        }
      ]
    },
    {
      "cell_type": "code",
      "metadata": {
        "id": "Xz9R0eFEUwE2",
        "colab_type": "code",
        "colab": {}
      },
      "source": [
        "#create new data frames based on FS results - 5, 7, or 8 features\n",
        "df_fs5 = df_num.filter(['AdjSalMonth','fte','dist_exp','state_exp','first_3','Bachelors'], axis=1)\n",
        "df_fs7 = df_num.filter(['AdjSalMonth','months_employed','fte','dist_exp','state_exp','first_3','grade_taught','Bachelors'], axis=1)\n",
        "df_fs8 = df_num.filter(['AdjSalMonth','months_employed','dist_exp','state_exp','out_of_state_exp','pct_admin','first_3','grade_taught'], axis=1)"
      ],
      "execution_count": 0,
      "outputs": []
    },
    {
      "cell_type": "code",
      "metadata": {
        "id": "V4jXP27nUC3x",
        "colab_type": "code",
        "outputId": "98e53699-7ebf-4b8c-8b66-9308f02b1063",
        "colab": {
          "base_uri": "https://localhost:8080/",
          "height": 204
        }
      },
      "source": [
        "df_fs5.head(5)"
      ],
      "execution_count": 0,
      "outputs": [
        {
          "output_type": "execute_result",
          "data": {
            "text/html": [
              "<div>\n",
              "<style scoped>\n",
              "    .dataframe tbody tr th:only-of-type {\n",
              "        vertical-align: middle;\n",
              "    }\n",
              "\n",
              "    .dataframe tbody tr th {\n",
              "        vertical-align: top;\n",
              "    }\n",
              "\n",
              "    .dataframe thead th {\n",
              "        text-align: right;\n",
              "    }\n",
              "</style>\n",
              "<table border=\"1\" class=\"dataframe\">\n",
              "  <thead>\n",
              "    <tr style=\"text-align: right;\">\n",
              "      <th></th>\n",
              "      <th>AdjSalMonth</th>\n",
              "      <th>fte</th>\n",
              "      <th>dist_exp</th>\n",
              "      <th>state_exp</th>\n",
              "      <th>first_3</th>\n",
              "      <th>Bachelors</th>\n",
              "    </tr>\n",
              "  </thead>\n",
              "  <tbody>\n",
              "    <tr>\n",
              "      <th>0</th>\n",
              "      <td>4029.489540</td>\n",
              "      <td>100</td>\n",
              "      <td>1.0</td>\n",
              "      <td>1.0</td>\n",
              "      <td>601</td>\n",
              "      <td>1</td>\n",
              "    </tr>\n",
              "    <tr>\n",
              "      <th>1</th>\n",
              "      <td>12889.019160</td>\n",
              "      <td>100</td>\n",
              "      <td>23.0</td>\n",
              "      <td>27.0</td>\n",
              "      <td>600</td>\n",
              "      <td>0</td>\n",
              "    </tr>\n",
              "    <tr>\n",
              "      <th>3</th>\n",
              "      <td>8668.664381</td>\n",
              "      <td>100</td>\n",
              "      <td>12.0</td>\n",
              "      <td>12.0</td>\n",
              "      <td>601</td>\n",
              "      <td>0</td>\n",
              "    </tr>\n",
              "    <tr>\n",
              "      <th>4</th>\n",
              "      <td>10681.660375</td>\n",
              "      <td>100</td>\n",
              "      <td>5.0</td>\n",
              "      <td>5.0</td>\n",
              "      <td>605</td>\n",
              "      <td>0</td>\n",
              "    </tr>\n",
              "    <tr>\n",
              "      <th>5</th>\n",
              "      <td>8012.189620</td>\n",
              "      <td>100</td>\n",
              "      <td>1.0</td>\n",
              "      <td>2.0</td>\n",
              "      <td>600</td>\n",
              "      <td>0</td>\n",
              "    </tr>\n",
              "  </tbody>\n",
              "</table>\n",
              "</div>"
            ],
            "text/plain": [
              "    AdjSalMonth  fte  dist_exp  state_exp  first_3  Bachelors\n",
              "0   4029.489540  100       1.0        1.0      601          1\n",
              "1  12889.019160  100      23.0       27.0      600          0\n",
              "3   8668.664381  100      12.0       12.0      601          0\n",
              "4  10681.660375  100       5.0        5.0      605          0\n",
              "5   8012.189620  100       1.0        2.0      600          0"
            ]
          },
          "metadata": {
            "tags": []
          },
          "execution_count": 5
        }
      ]
    },
    {
      "cell_type": "code",
      "metadata": {
        "id": "RKbRLmUhUGDg",
        "colab_type": "code",
        "outputId": "8a1c5483-9ef9-4842-f696-40a4b79d7b6c",
        "colab": {
          "base_uri": "https://localhost:8080/",
          "height": 204
        }
      },
      "source": [
        "df_fs7.head(5)"
      ],
      "execution_count": 0,
      "outputs": [
        {
          "output_type": "execute_result",
          "data": {
            "text/html": [
              "<div>\n",
              "<style scoped>\n",
              "    .dataframe tbody tr th:only-of-type {\n",
              "        vertical-align: middle;\n",
              "    }\n",
              "\n",
              "    .dataframe tbody tr th {\n",
              "        vertical-align: top;\n",
              "    }\n",
              "\n",
              "    .dataframe thead th {\n",
              "        text-align: right;\n",
              "    }\n",
              "</style>\n",
              "<table border=\"1\" class=\"dataframe\">\n",
              "  <thead>\n",
              "    <tr style=\"text-align: right;\">\n",
              "      <th></th>\n",
              "      <th>AdjSalMonth</th>\n",
              "      <th>months_employed</th>\n",
              "      <th>fte</th>\n",
              "      <th>dist_exp</th>\n",
              "      <th>state_exp</th>\n",
              "      <th>first_3</th>\n",
              "      <th>grade_taught</th>\n",
              "      <th>Bachelors</th>\n",
              "    </tr>\n",
              "  </thead>\n",
              "  <tbody>\n",
              "    <tr>\n",
              "      <th>0</th>\n",
              "      <td>4029.489540</td>\n",
              "      <td>9</td>\n",
              "      <td>100</td>\n",
              "      <td>1.0</td>\n",
              "      <td>1.0</td>\n",
              "      <td>601</td>\n",
              "      <td>7</td>\n",
              "      <td>1</td>\n",
              "    </tr>\n",
              "    <tr>\n",
              "      <th>1</th>\n",
              "      <td>12889.019160</td>\n",
              "      <td>9</td>\n",
              "      <td>100</td>\n",
              "      <td>23.0</td>\n",
              "      <td>27.0</td>\n",
              "      <td>600</td>\n",
              "      <td>8</td>\n",
              "      <td>0</td>\n",
              "    </tr>\n",
              "    <tr>\n",
              "      <th>3</th>\n",
              "      <td>8668.664381</td>\n",
              "      <td>9</td>\n",
              "      <td>100</td>\n",
              "      <td>12.0</td>\n",
              "      <td>12.0</td>\n",
              "      <td>601</td>\n",
              "      <td>8</td>\n",
              "      <td>0</td>\n",
              "    </tr>\n",
              "    <tr>\n",
              "      <th>4</th>\n",
              "      <td>10681.660375</td>\n",
              "      <td>10</td>\n",
              "      <td>100</td>\n",
              "      <td>5.0</td>\n",
              "      <td>5.0</td>\n",
              "      <td>605</td>\n",
              "      <td>12</td>\n",
              "      <td>0</td>\n",
              "    </tr>\n",
              "    <tr>\n",
              "      <th>5</th>\n",
              "      <td>8012.189620</td>\n",
              "      <td>10</td>\n",
              "      <td>100</td>\n",
              "      <td>1.0</td>\n",
              "      <td>2.0</td>\n",
              "      <td>600</td>\n",
              "      <td>5</td>\n",
              "      <td>0</td>\n",
              "    </tr>\n",
              "  </tbody>\n",
              "</table>\n",
              "</div>"
            ],
            "text/plain": [
              "    AdjSalMonth  months_employed  fte  dist_exp  state_exp  first_3  \\\n",
              "0   4029.489540                9  100       1.0        1.0      601   \n",
              "1  12889.019160                9  100      23.0       27.0      600   \n",
              "3   8668.664381                9  100      12.0       12.0      601   \n",
              "4  10681.660375               10  100       5.0        5.0      605   \n",
              "5   8012.189620               10  100       1.0        2.0      600   \n",
              "\n",
              "   grade_taught  Bachelors  \n",
              "0             7          1  \n",
              "1             8          0  \n",
              "3             8          0  \n",
              "4            12          0  \n",
              "5             5          0  "
            ]
          },
          "metadata": {
            "tags": []
          },
          "execution_count": 6
        }
      ]
    },
    {
      "cell_type": "code",
      "metadata": {
        "id": "gsly8mMMUGNj",
        "colab_type": "code",
        "outputId": "06a4e70e-5558-4d7b-ff85-588d3721d0a8",
        "colab": {
          "base_uri": "https://localhost:8080/",
          "height": 204
        }
      },
      "source": [
        "df_fs8.head(5)"
      ],
      "execution_count": 0,
      "outputs": [
        {
          "output_type": "execute_result",
          "data": {
            "text/html": [
              "<div>\n",
              "<style scoped>\n",
              "    .dataframe tbody tr th:only-of-type {\n",
              "        vertical-align: middle;\n",
              "    }\n",
              "\n",
              "    .dataframe tbody tr th {\n",
              "        vertical-align: top;\n",
              "    }\n",
              "\n",
              "    .dataframe thead th {\n",
              "        text-align: right;\n",
              "    }\n",
              "</style>\n",
              "<table border=\"1\" class=\"dataframe\">\n",
              "  <thead>\n",
              "    <tr style=\"text-align: right;\">\n",
              "      <th></th>\n",
              "      <th>AdjSalMonth</th>\n",
              "      <th>months_employed</th>\n",
              "      <th>dist_exp</th>\n",
              "      <th>state_exp</th>\n",
              "      <th>out_of_state_exp</th>\n",
              "      <th>pct_admin</th>\n",
              "      <th>first_3</th>\n",
              "      <th>grade_taught</th>\n",
              "    </tr>\n",
              "  </thead>\n",
              "  <tbody>\n",
              "    <tr>\n",
              "      <th>0</th>\n",
              "      <td>4029.489540</td>\n",
              "      <td>9</td>\n",
              "      <td>1.0</td>\n",
              "      <td>1.0</td>\n",
              "      <td>0.0</td>\n",
              "      <td>0.0</td>\n",
              "      <td>601</td>\n",
              "      <td>7</td>\n",
              "    </tr>\n",
              "    <tr>\n",
              "      <th>1</th>\n",
              "      <td>12889.019160</td>\n",
              "      <td>9</td>\n",
              "      <td>23.0</td>\n",
              "      <td>27.0</td>\n",
              "      <td>1.0</td>\n",
              "      <td>0.0</td>\n",
              "      <td>600</td>\n",
              "      <td>8</td>\n",
              "    </tr>\n",
              "    <tr>\n",
              "      <th>3</th>\n",
              "      <td>8668.664381</td>\n",
              "      <td>9</td>\n",
              "      <td>12.0</td>\n",
              "      <td>12.0</td>\n",
              "      <td>0.0</td>\n",
              "      <td>0.0</td>\n",
              "      <td>601</td>\n",
              "      <td>8</td>\n",
              "    </tr>\n",
              "    <tr>\n",
              "      <th>4</th>\n",
              "      <td>10681.660375</td>\n",
              "      <td>10</td>\n",
              "      <td>5.0</td>\n",
              "      <td>5.0</td>\n",
              "      <td>8.0</td>\n",
              "      <td>0.0</td>\n",
              "      <td>605</td>\n",
              "      <td>12</td>\n",
              "    </tr>\n",
              "    <tr>\n",
              "      <th>5</th>\n",
              "      <td>8012.189620</td>\n",
              "      <td>10</td>\n",
              "      <td>1.0</td>\n",
              "      <td>2.0</td>\n",
              "      <td>9.0</td>\n",
              "      <td>0.0</td>\n",
              "      <td>600</td>\n",
              "      <td>5</td>\n",
              "    </tr>\n",
              "  </tbody>\n",
              "</table>\n",
              "</div>"
            ],
            "text/plain": [
              "    AdjSalMonth  months_employed  dist_exp  state_exp  out_of_state_exp  \\\n",
              "0   4029.489540                9       1.0        1.0               0.0   \n",
              "1  12889.019160                9      23.0       27.0               1.0   \n",
              "3   8668.664381                9      12.0       12.0               0.0   \n",
              "4  10681.660375               10       5.0        5.0               8.0   \n",
              "5   8012.189620               10       1.0        2.0               9.0   \n",
              "\n",
              "   pct_admin  first_3  grade_taught  \n",
              "0        0.0      601             7  \n",
              "1        0.0      600             8  \n",
              "3        0.0      601             8  \n",
              "4        0.0      605            12  \n",
              "5        0.0      600             5  "
            ]
          },
          "metadata": {
            "tags": []
          },
          "execution_count": 7
        }
      ]
    },
    {
      "cell_type": "markdown",
      "metadata": {
        "id": "O1ZTyOc5oBfX",
        "colab_type": "text"
      },
      "source": [
        "**DATA SPLIT**\n",
        "\n",
        "---\n",
        "\n"
      ]
    },
    {
      "cell_type": "code",
      "metadata": {
        "id": "LaE6FNayNevA",
        "colab_type": "code",
        "outputId": "6a17797f-d051-43d0-f2ce-dbb7e9aae625",
        "colab": {
          "base_uri": "https://localhost:8080/",
          "height": 158
        }
      },
      "source": [
        "### TEST TRAIN VALIDATION SPLIT on TOTAL ###\n",
        "\n",
        "num_instances = df_num.shape[0]\n",
        "\n",
        "Y = df_num['AdjSalMonth']\n",
        "X = df_num.drop(['AdjSalMonth'], axis=1)\n",
        "\n",
        "# Creating the train/test split\n",
        "Y_train, Y_test, X_train, X_test = train_test_split(Y, X, test_size=0.3, random_state=33)  \n",
        "\n",
        "# Splitting df_train into the train and then holding some out for validation\n",
        "Y_train, Y_val, X_train, X_val = train_test_split(Y_train, X_train, test_size=0.143, random_state=33)\n",
        "\n",
        "print(\"Confirming Splits...\")\n",
        "print(\"Y_TRAIN: \" + str(Y_train.shape[0]) + \" = \" + str(round((Y_train.shape[0]/num_instances)*100, 2)) + \"%\")\n",
        "print(\"Y_TEST: \" + str(Y_test.shape[0]) + \" = \" + str(round((Y_test.shape[0]/num_instances)*100, 2)) + \"%\")\n",
        "print(\"Y_VALIDATION: \" + str(Y_val.shape[0]) + \" = \" + str(round((Y_val.shape[0]/num_instances)*100, 2)) + \"%\")\n",
        "\n",
        "print()\n",
        "print(\"X_TRAIN: \" + str(X_train.shape[0]) +  \", \" + str(X_train.shape[1]) + \" = \" + str(round((X_train.shape[0]/num_instances)*100, 2)) + \"%\")\n",
        "print(\"X_TEST: \" + str(X_test.shape[0]) +  \", \" + str(X_test.shape[1]) + \" = \" + str(round((X_test.shape[0]/num_instances)*100, 2)) + \"%\")\n",
        "print(\"X_VALIDATION: \" + str(X_val.shape[0]) +  \", \" + str(X_val.shape[1]) + \" = \" + str(round((X_val.shape[0]/num_instances)*100, 2)) + \"%\")\n",
        "\n",
        "# This is a *close* Train/Test/Validation split of 60/30/10\n",
        "\n",
        "# X_train, Y_train is the data set we should train all the models with\n",
        "# X_test, Y_test is the data we will be testing our models on to assess accuracy\n",
        "# X_val, Y_val is the validation data set "
      ],
      "execution_count": 0,
      "outputs": [
        {
          "output_type": "stream",
          "text": [
            "Confirming Splits...\n",
            "Y_TRAIN: 780810 = 59.99%\n",
            "Y_TEST: 390471 = 30.0%\n",
            "Y_VALIDATION: 130288 = 10.01%\n",
            "\n",
            "X_TRAIN: 780810, 40 = 59.99%\n",
            "X_TEST: 390471, 40 = 30.0%\n",
            "X_VALIDATION: 130288, 40 = 10.01%\n"
          ],
          "name": "stdout"
        }
      ]
    },
    {
      "cell_type": "code",
      "metadata": {
        "id": "IUdziuEmU5S2",
        "colab_type": "code",
        "outputId": "926a02cc-e247-4b4f-9b36-2e1d6b198766",
        "colab": {
          "base_uri": "https://localhost:8080/",
          "height": 153
        }
      },
      "source": [
        "### TEST TRAIN VALIDATION SPLIT on 5 Feature Dataset ###\n",
        "\n",
        "num_instances = df_fs5.shape[0]\n",
        "\n",
        "Y_fs5 = df_fs5['AdjSalMonth']\n",
        "X_fs5 = df_fs5.drop(['AdjSalMonth'], axis=1)\n",
        "\n",
        "# Creating the train/test split\n",
        "Y_train_fs5, Y_test_fs5, X_train_fs5, X_test_fs5 = train_test_split(Y_fs5, X_fs5, test_size=0.3, random_state=33)  \n",
        "\n",
        "# Splitting df_train into the train and then holding some out for validation\n",
        "Y_train_fs5, Y_val_fs5, X_train_fs5, X_val_fs5 = train_test_split(Y_train_fs5, X_train_fs5, test_size=0.143, random_state=33)\n",
        "\n",
        "print(\"Confirming Splits...\")\n",
        "print(\"Y_TRAIN: \" + str(Y_train_fs5.shape[0]) + \" = \" + str(round((Y_train_fs5.shape[0]/num_instances)*100, 2)) + \"%\")\n",
        "print(\"Y_TEST: \" + str(Y_test_fs5.shape[0]) + \" = \" + str(round((Y_test_fs5.shape[0]/num_instances)*100, 2)) + \"%\")\n",
        "print(\"Y_VALIDATION: \" + str(Y_val_fs5.shape[0]) + \" = \" + str(round((Y_val_fs5.shape[0]/num_instances)*100, 2)) + \"%\")\n",
        "\n",
        "print()\n",
        "print(\"X_TRAIN: \" + str(X_train_fs5.shape[0]) +  \", \" + str(X_train_fs5.shape[1]) + \" = \" + str(round((X_train_fs5.shape[0]/num_instances)*100, 2)) + \"%\")\n",
        "print(\"X_TEST: \" + str(X_test_fs5.shape[0]) +  \", \" + str(X_test_fs5.shape[1]) + \" = \" + str(round((X_test_fs5.shape[0]/num_instances)*100, 2)) + \"%\")\n",
        "print(\"X_VALIDATION: \" + str(X_val_fs5.shape[0]) +  \", \" + str(X_val_fs5.shape[1]) + \" = \" + str(round((X_val_fs5.shape[0]/num_instances)*100, 2)) + \"%\")\n",
        "\n",
        "# This is a *close* Train/Test/Validation split of 60/30/10\n",
        "\n",
        "# X_train, Y_train is the data set we should train all the models with\n",
        "# X_test, Y_test is the data we will be testing our models on to assess accuracy\n",
        "# X_val, Y_val is the validation data set "
      ],
      "execution_count": 0,
      "outputs": [
        {
          "output_type": "stream",
          "text": [
            "Confirming Splits...\n",
            "Y_TRAIN: 780810 = 59.99%\n",
            "Y_TEST: 390471 = 30.0%\n",
            "Y_VALIDATION: 130288 = 10.01%\n",
            "\n",
            "X_TRAIN: 780810, 5 = 59.99%\n",
            "X_TEST: 390471, 5 = 30.0%\n",
            "X_VALIDATION: 130288, 5 = 10.01%\n"
          ],
          "name": "stdout"
        }
      ]
    },
    {
      "cell_type": "code",
      "metadata": {
        "id": "rBuP4GO8U8FA",
        "colab_type": "code",
        "outputId": "2825a580-803a-4278-ad83-7c4f495a75c1",
        "colab": {
          "base_uri": "https://localhost:8080/",
          "height": 153
        }
      },
      "source": [
        "### TEST TRAIN VALIDATION SPLIT on 7 Feature Dataset ###\n",
        "\n",
        "num_instances = df_fs5.shape[0]\n",
        "\n",
        "Y_fs7 = df_fs7['AdjSalMonth']\n",
        "X_fs7 = df_fs7.drop(['AdjSalMonth'], axis=1)\n",
        "\n",
        "# Creating the train/test split\n",
        "Y_train_fs7, Y_test_fs7, X_train_fs7, X_test_fs7 = train_test_split(Y_fs7, X_fs7, test_size=0.3, random_state=33)  \n",
        "\n",
        "# Splitting df_train into the train and then holding some out for validation\n",
        "Y_train_fs7, Y_val_fs7, X_train_fs7, X_val_fs7 = train_test_split(Y_train_fs7, X_train_fs7, test_size=0.143, random_state=33)\n",
        "\n",
        "print(\"Confirming Splits...\")\n",
        "print(\"Y_TRAIN: \" + str(Y_train_fs7.shape[0]) + \" = \" + str(round((Y_train_fs7.shape[0]/num_instances)*100, 2)) + \"%\")\n",
        "print(\"Y_TEST: \" + str(Y_test_fs7.shape[0]) + \" = \" + str(round((Y_test_fs7.shape[0]/num_instances)*100, 2)) + \"%\")\n",
        "print(\"Y_VALIDATION: \" + str(Y_val_fs7.shape[0]) + \" = \" + str(round((Y_val_fs7.shape[0]/num_instances)*100, 2)) + \"%\")\n",
        "\n",
        "print()\n",
        "print(\"X_TRAIN: \" + str(X_train_fs7.shape[0]) +  \", \" + str(X_train_fs7.shape[1]) + \" = \" + str(round((X_train_fs7.shape[0]/num_instances)*100, 2)) + \"%\")\n",
        "print(\"X_TEST: \" + str(X_test_fs7.shape[0]) +  \", \" + str(X_test_fs7.shape[1]) + \" = \" + str(round((X_test_fs7.shape[0]/num_instances)*100, 2)) + \"%\")\n",
        "print(\"X_VALIDATION: \" + str(X_val_fs7.shape[0]) +  \", \" + str(X_val_fs7.shape[1]) + \" = \" + str(round((X_val_fs7.shape[0]/num_instances)*100, 2)) + \"%\")\n",
        "\n",
        "# This is a *close* Train/Test/Validation split of 60/30/10\n",
        "\n",
        "# X_train, Y_train is the data set we should train all the models with\n",
        "# X_test, Y_test is the data we will be testing our models on to assess accuracy\n",
        "# X_val, Y_val is the validation data set "
      ],
      "execution_count": 0,
      "outputs": [
        {
          "output_type": "stream",
          "text": [
            "Confirming Splits...\n",
            "Y_TRAIN: 780810 = 59.99%\n",
            "Y_TEST: 390471 = 30.0%\n",
            "Y_VALIDATION: 130288 = 10.01%\n",
            "\n",
            "X_TRAIN: 780810, 7 = 59.99%\n",
            "X_TEST: 390471, 7 = 30.0%\n",
            "X_VALIDATION: 130288, 7 = 10.01%\n"
          ],
          "name": "stdout"
        }
      ]
    },
    {
      "cell_type": "code",
      "metadata": {
        "id": "Kc9E_TyMU_dS",
        "colab_type": "code",
        "outputId": "59eb56d7-e671-4e25-8d39-e0a8f589b6ed",
        "colab": {
          "base_uri": "https://localhost:8080/",
          "height": 153
        }
      },
      "source": [
        "### TEST TRAIN VALIDATION SPLIT on 8 Feature Dataset ###\n",
        "\n",
        "num_instances = df_fs8.shape[0]\n",
        "\n",
        "Y_fs8 = df_fs8['AdjSalMonth']\n",
        "X_fs8 = df_fs8.drop(['AdjSalMonth'], axis=1)\n",
        "\n",
        "# Creating the train/test split\n",
        "Y_train_fs8, Y_test_fs8, X_train_fs8, X_test_fs8 = train_test_split(Y_fs8, X_fs8, test_size=0.3, random_state=33)  \n",
        "\n",
        "# Splitting df_train into the train and then holding some out for validation\n",
        "Y_train_fs8, Y_val_fs8, X_train_fs8, X_val_fs8 = train_test_split(Y_train_fs8, X_train_fs8, test_size=0.143, random_state=33)\n",
        "\n",
        "print(\"Confirming Splits...\")\n",
        "print(\"Y_TRAIN: \" + str(Y_train_fs8.shape[0]) + \" = \" + str(round((Y_train_fs8.shape[0]/num_instances)*100, 2)) + \"%\")\n",
        "print(\"Y_TEST: \" + str(Y_test_fs8.shape[0]) + \" = \" + str(round((Y_test_fs8.shape[0]/num_instances)*100, 2)) + \"%\")\n",
        "print(\"Y_VALIDATION: \" + str(Y_val_fs8.shape[0]) + \" = \" + str(round((Y_val_fs8.shape[0]/num_instances)*100, 2)) + \"%\")\n",
        "\n",
        "print()\n",
        "print(\"X_TRAIN: \" + str(X_train_fs8.shape[0]) +  \", \" + str(X_train_fs8.shape[1]) + \" = \" + str(round((X_train_fs8.shape[0]/num_instances)*100, 2)) + \"%\")\n",
        "print(\"X_TEST: \" + str(X_test_fs8.shape[0]) +  \", \" + str(X_test_fs8.shape[1]) + \" = \" + str(round((X_test_fs8.shape[0]/num_instances)*100, 2)) + \"%\")\n",
        "print(\"X_VALIDATION: \" + str(X_val_fs8.shape[0]) +  \", \" + str(X_val_fs8.shape[1]) + \" = \" + str(round((X_val_fs8.shape[0]/num_instances)*100, 2)) + \"%\")\n",
        "\n",
        "# This is a *close* Train/Test/Validation split of 60/30/10\n",
        "\n",
        "# X_train, Y_train is the data set we should train all the models with\n",
        "# X_test, Y_test is the data we will be testing our models on to assess accuracy\n",
        "# X_val, Y_val is the validation data set "
      ],
      "execution_count": 0,
      "outputs": [
        {
          "output_type": "stream",
          "text": [
            "Confirming Splits...\n",
            "Y_TRAIN: 780810 = 59.99%\n",
            "Y_TEST: 390471 = 30.0%\n",
            "Y_VALIDATION: 130288 = 10.01%\n",
            "\n",
            "X_TRAIN: 780810, 7 = 59.99%\n",
            "X_TEST: 390471, 7 = 30.0%\n",
            "X_VALIDATION: 130288, 7 = 10.01%\n"
          ],
          "name": "stdout"
        }
      ]
    },
    {
      "cell_type": "markdown",
      "metadata": {
        "id": "bbpYMBdYWjFa",
        "colab_type": "text"
      },
      "source": [
        "_____________________________________________________\n",
        "\n",
        "BEGINNING OF MODELS RUN WITH FULL FEATURES"
      ]
    },
    {
      "cell_type": "code",
      "metadata": {
        "id": "XklwXZ7COEUU",
        "colab_type": "code",
        "outputId": "3d772cae-c840-409a-db2f-ab7c436a6521",
        "colab": {
          "base_uri": "https://localhost:8080/",
          "height": 153
        }
      },
      "source": [
        "### LINEAR REGRESSION ###\n",
        "\n",
        "linear_model = LinearRegression()\n",
        "linear_model.fit(X_train,Y_train)\n",
        "r_squared = linear_model.score(X_train, Y_train)\n",
        "\n",
        "print(\"Linear Regression Results\\n\")\n",
        "print(\"COEFFICIENT OF DETERMINATION: \", round(r_squared, 5))\n",
        "\n",
        "train_r_squared = linear_model.score(X_train, Y_train)\n",
        "test_r_squared = linear_model.score(X_test, Y_test)\n",
        "print(\"COEFFICIENT OF DETERMINATION - Train: \", train_r_squared)\n",
        "print(\"COEFFICIENT OF DETERMINATION - Test: \", test_r_squared)\n",
        "\n",
        "RMSE = math.sqrt(metrics.mean_squared_error(Y_train, linear_model.predict(X_train)))\n",
        "print(\"\\nLinear Regression RMSE: \", RMSE)\n",
        "EV = metrics.explained_variance_score(Y_train, linear_model.predict(X_train))\n",
        "print(\"Linear Regression Explained Variance: \", EV) "
      ],
      "execution_count": 0,
      "outputs": [
        {
          "output_type": "stream",
          "text": [
            "Linear Regression Results\n",
            "\n",
            "COEFFICIENT OF DETERMINATION:  0.58683\n",
            "COEFFICIENT OF DETERMINATION - Train:  0.5868277780093627\n",
            "COEFFICIENT OF DETERMINATION - Test:  0.5941099707824977\n",
            "\n",
            "Linear Regression RMSE:  1700.20480712542\n",
            "Linear Regression Explained Variance:  0.5868277780093628\n"
          ],
          "name": "stdout"
        }
      ]
    },
    {
      "cell_type": "code",
      "metadata": {
        "id": "atbZEDpJOKba",
        "colab_type": "code",
        "colab": {}
      },
      "source": [
        "# Plot output\n",
        "predicted = linear_model.predict(X_test)\n",
        "\n",
        "fig, ax = plt.subplots()\n",
        "ax.scatter(Y_test, predicted, edgecolors=(0, 0, 0))\n",
        "ax.plot([Y_test.min(), Y_test.max()], [Y_test.min(), Y_test.max()], 'k--', lw=4)\n",
        "ax.set_xlabel('Actual')\n",
        "ax.set_ylabel('Predicted')\n",
        "plt.title('Predicted vs. Actual')\n",
        "plt.show()"
      ],
      "execution_count": 0,
      "outputs": []
    },
    {
      "cell_type": "code",
      "metadata": {
        "id": "IUddL08POt9y",
        "colab_type": "code",
        "colab": {}
      },
      "source": [
        "from yellowbrick.regressor import ResidualsPlot\n",
        "\n",
        "# Instantiate the linear model and visualizer\n",
        "linear = LinearRegression()\n",
        "visualizer = ResidualsPlot(linear)\n",
        "\n",
        "visualizer.fit(X_train, Y_train)  # Fit the training data to the model\n",
        "visualizer.score(X_test, Y_test)  # Evaluate the model on the test data\n",
        "visualizer.poof() "
      ],
      "execution_count": 0,
      "outputs": []
    },
    {
      "cell_type": "code",
      "metadata": {
        "id": "k7ldpF2MIGEp",
        "colab_type": "code",
        "colab": {}
      },
      "source": [
        "### Decision Tree - All Depth###\n",
        "from sklearn.tree import DecisionTreeRegressor\n",
        "decision_tree = DecisionTreeRegressor()\n",
        "decision_tree.fit(X_train,Y_train)\n",
        "r_squared = decision_tree.score(X_train, Y_train)\n",
        "\n",
        "print(\"Decision Tree Results\\n\")\n",
        "print(\"COEFFICIENT OF DETERMINATION: \", round(r_squared, 5))\n",
        "\n",
        "train_r_squared = decision_tree.score(X_train, Y_train)\n",
        "test_r_squared = decision_tree.score(X_test, Y_test)\n",
        "print(\"COEFFICIENT OF DETERMINATION - Train: \", train_r_squared)\n",
        "print(\"COEFFICIENT OF DETERMINATION - Test: \", test_r_squared)\n",
        "\n",
        "RMSE = math.sqrt(metrics.mean_squared_error(Y_train, decision_tree.predict(X_train)))\n",
        "print(\"\\nDecision Tree RMSE: \", RMSE)\n",
        "EV = metrics.explained_variance_score(Y_train, decision_tree.predict(X_train))\n",
        "print(\"Decision Tree Explained Variance: \", EV) "
      ],
      "execution_count": 0,
      "outputs": []
    },
    {
      "cell_type": "code",
      "metadata": {
        "id": "jTF59vqCKMXb",
        "colab_type": "code",
        "colab": {}
      },
      "source": [
        "### Decision Tree - 3 Levels###\n",
        "from sklearn.tree import DecisionTreeRegressor\n",
        "rgr = DecisionTreeRegressor(criterion='mse', splitter='best', max_depth=3, min_samples_split=2, min_samples_leaf=1, max_features=None)\n",
        "rgr.fit(X_train,Y_train)\n",
        "scores_r2 = rgr.score(X_train,Y_train)                                                                                                                          \n",
        "print('Decision Tree R-Squared:', scores_r2)"
      ],
      "execution_count": 0,
      "outputs": []
    },
    {
      "cell_type": "code",
      "metadata": {
        "id": "fK5_DaxPPZFv",
        "colab_type": "code",
        "colab": {}
      },
      "source": [
        "from graphviz import Source\n",
        "from sklearn import tree\n",
        "from IPython.display import SVG\n",
        "import time\n",
        "\n",
        "\n",
        "graph = Source(tree.export_graphviz(rgr, out_file=None,filled = True,feature_names=X_train.columns.values))\n",
        "display(SVG(graph.pipe(format='svg')))"
      ],
      "execution_count": 0,
      "outputs": []
    },
    {
      "cell_type": "code",
      "metadata": {
        "id": "7St48ZR7Pnyy",
        "colab_type": "code",
        "colab": {}
      },
      "source": [
        "import math\n",
        "scorers = {'Neg_MSE': 'neg_mean_squared_error', 'expl_var': 'explained_variance'} \n",
        "    \n",
        "#SciKit Decision Tree Regressor - Cross Val\n",
        "start_ts=time.time()\n",
        "rgr = DecisionTreeRegressor(criterion='mse', splitter='best', max_depth=3, min_samples_split=2, min_samples_leaf=1, max_features=None) \n",
        "scores = cross_validate(rgr, X_train, y = Y_train, scoring = scorers, cv = 5)   \n",
        "\n",
        "scores_RMSE = np.asarray([math.sqrt(-x) for x in scores['test_Neg_MSE']])                                       #Turns negative MSE scores into RMSE\n",
        "scores_Expl_Var = scores['test_expl_var']\n",
        "print(\"Decision Tree RMSE: %0.2f (+/- %0.2f)\" % ((scores_RMSE.mean()), (scores_RMSE.std() * 2)))\n",
        "print(\"Decision Tree Expl Var: %0.2f (+/- %0.2f)\" % ((scores_Expl_Var.mean()), (scores_Expl_Var.std() * 2)))\n",
        "print(\"CV Runtime:\", time.time()-start_ts)"
      ],
      "execution_count": 0,
      "outputs": []
    },
    {
      "cell_type": "code",
      "metadata": {
        "id": "_xmu1RncP58K",
        "colab_type": "code",
        "colab": {}
      },
      "source": [
        "#Predict\n",
        "rgr.fit(X_train,Y_train)\n",
        "y_1 = rgr.predict(X_train)"
      ],
      "execution_count": 0,
      "outputs": []
    },
    {
      "cell_type": "code",
      "metadata": {
        "id": "27zVQsKTP_l_",
        "colab_type": "code",
        "colab": {}
      },
      "source": [
        "#Plot of Residuals\n",
        "plt.scatter(x=Y_train, y=y_1-Y_train)\n",
        "plt.title('Decision Tree Residuals')\n",
        "plt.ylabel('Residual (Predicted - Actual)')\n",
        "plt.xlabel('Actual')\n",
        "plt.show()"
      ],
      "execution_count": 0,
      "outputs": []
    },
    {
      "cell_type": "code",
      "metadata": {
        "id": "lQ4tUDtfQGtS",
        "colab_type": "code",
        "outputId": "a8552099-cc4f-4c20-df60-f0fab8fadae6",
        "colab": {
          "base_uri": "https://localhost:8080/",
          "height": 71
        }
      },
      "source": [
        "#normalizing data for KNN\n",
        "from sklearn.preprocessing import MinMaxScaler\n",
        "min_max_scaler = MinMaxScaler().fit(X_train_fs7)\n",
        "X_trainN_fs7 = min_max_scaler.transform(X_train_fs7)\n",
        "X_testN_fs7 = min_max_scaler.transform(X_test_fs7)\n",
        "X_valN_fs7 = min_max_scaler.transform(X_val_fs7)"
      ],
      "execution_count": 0,
      "outputs": [
        {
          "output_type": "stream",
          "text": [
            "/usr/local/lib/python3.6/dist-packages/sklearn/preprocessing/data.py:334: DataConversionWarning: Data with input dtype int64, float64 were all converted to float64 by MinMaxScaler.\n",
            "  return self.partial_fit(X, y)\n"
          ],
          "name": "stderr"
        }
      ]
    },
    {
      "cell_type": "markdown",
      "metadata": {
        "id": "h_rzYC2jlJj7",
        "colab_type": "text"
      },
      "source": [
        ""
      ]
    },
    {
      "cell_type": "code",
      "metadata": {
        "id": "nYFEpS-GQTJ9",
        "colab_type": "code",
        "colab": {}
      },
      "source": [
        "#KNN cont'd\n",
        "import time\n",
        "print('KNN Results')\n",
        "print()\n",
        "start_ts=time.time()\n",
        "knn = KNeighborsRegressor(n_neighbors=5, weights='uniform', algorithm='auto', leaf_size=30, metric='euclidean', metric_params=None).fit(X_trainN_fs7, Y_train_fs7)\n",
        "\n",
        "train_r2_salKNN = knn.score(X_trainN_fs7, Y_train_fs7)\n",
        "test_r2_salKNN = knn.score(X_testN_fs7, Y_test_fs7)\n",
        "print(\"COEFFICIENT OF DETERMINATION - Train\", train_r2_salKNN)\n",
        "print(\"COEFFICIENT OF DETERMINATION - Test\", test_r2_salKNN)\n",
        "print()\n",
        "\n",
        "RMSE = math.sqrt(metrics.mean_squared_error(Y_test_fs7, knn.predict(X_testN)))\n",
        "print('KNN RMSE:', RMSE)\n",
        "Expl_Var = metrics.explained_variance_score(Y_test_fs7, knn.predict(X_testN))\n",
        "print('KNN Explained Variance:', Expl_Var) \n",
        "\n",
        "print(\"CV Runtime:\", time.time()-start_ts)"
      ],
      "execution_count": 0,
      "outputs": []
    },
    {
      "cell_type": "code",
      "metadata": {
        "id": "7fFvvTNGQoIt",
        "colab_type": "code",
        "colab": {}
      },
      "source": [
        "'''#KNN visualizations - plot output\n",
        "\n",
        "predicted = knn.predict(X_testN)\n",
        "\n",
        "fig, ax = plt.subplots()\n",
        "ax.scatter(Y_test, predicted, edgecolors=(0, 0, 0))\n",
        "ax.plot([Y_test.min(), Y_test.max()], [Y_test.min(), Y_test.max()], 'k--', lw=4)\n",
        "ax.set_xlabel('Actual')\n",
        "ax.set_ylabel('Predicted')\n",
        "plt.title('Predicted vs. Actual')\n",
        "plt.show()\n",
        "'''"
      ],
      "execution_count": 0,
      "outputs": []
    },
    {
      "cell_type": "code",
      "metadata": {
        "id": "aBvjXzZscPUV",
        "colab_type": "code",
        "outputId": "82017b61-714e-4f4c-b492-aff1d270cddc",
        "colab": {
          "base_uri": "https://localhost:8080/",
          "height": 158
        }
      },
      "source": [
        "### RANDOM FORESTS ###\n",
        "print('Random Forest Results on teacher salary data')\n",
        "print()\n",
        "start_ts=time.time()\n",
        "RF = RandomForestRegressor(n_estimators=100, criterion='mse', max_features=.33, max_depth=4, min_samples_split=2, random_state=12).fit(X_train, Y_train)\n",
        "\n",
        "train_r2_salaryRF = RF.score(X_train, Y_train)\n",
        "test_r2_salaryRF = RF.score(X_test, Y_test)\n",
        "print(\"COEFFICIENT OF DETERMINATION - Train\", train_r2_salaryRF)\n",
        "print(\"COEFFICIENT OF DETERMINATION - Test\", test_r2_salaryRF)\n",
        "print()\n",
        "\n",
        "RMSE_salRF = math.sqrt(metrics.mean_squared_error(Y_test, RF.predict(X_test)))\n",
        "print('Random Forest RMSE on salary data:', RMSE_salRF)\n",
        "ExplVar_salRF = metrics.explained_variance_score(Y_test, RF.predict(X_test))\n",
        "print('Random Forest Explained Variance on salary data:', ExplVar_salRF) \n",
        "\n",
        "print(\"CV Runtime:\", time.time()-start_ts)"
      ],
      "execution_count": 0,
      "outputs": [
        {
          "output_type": "stream",
          "text": [
            "Random Forest Results on teacher salary data\n",
            "\n",
            "COEFFICIENT OF DETERMINATION - Train 0.5979713605726064\n",
            "COEFFICIENT OF DETERMINATION - Test 0.5956943300767105\n",
            "\n",
            "Random Forest RMSE on salary data: 1668.7308949704586\n",
            "Random Forest Explained Variance on salary data: 0.5956955741433703\n",
            "CV Runtime: 72.76884746551514\n"
          ],
          "name": "stdout"
        }
      ]
    },
    {
      "cell_type": "code",
      "metadata": {
        "id": "WJSn865Bcg5p",
        "colab_type": "code",
        "colab": {}
      },
      "source": [
        "#Random forest visualizations - printing results\n",
        "important_features_dict = {}\n",
        "features = X_train.columns.tolist()\n",
        "for x,i in enumerate(RF.feature_importances_):\n",
        "    important_features_dict[x]=i\n",
        "\n",
        "# the index of the most important features in decreasing order\n",
        "lst = sorted(important_features_dict,\n",
        "                                 key=important_features_dict.get,\n",
        "                                 reverse=True)\n",
        "\n",
        "print('Most important features:')\n",
        "for i in lst:\n",
        "  print(features[i])"
      ],
      "execution_count": 0,
      "outputs": []
    },
    {
      "cell_type": "code",
      "metadata": {
        "id": "6hgSCZAlc0Vi",
        "colab_type": "code",
        "colab": {}
      },
      "source": [
        "#Random forest plot outputs - salary data\n",
        "predicted = RF.predict(X_test)\n",
        "\n",
        "fig, ax = plt.subplots()\n",
        "ax.scatter(Y_test, predicted, edgecolors=(0, 0, 0))\n",
        "ax.plot([Y_test.min(), Y_test.max()], [Y_test.min(), Y_test.max()], 'k--', lw=4)\n",
        "ax.set_xlabel('Actual')\n",
        "ax.set_ylabel('Predicted')\n",
        "plt.title('Predicted vs. Actual')\n",
        "plt.show()"
      ],
      "execution_count": 0,
      "outputs": []
    },
    {
      "cell_type": "code",
      "metadata": {
        "id": "8zx2Hz5dc9CW",
        "colab_type": "code",
        "colab": {}
      },
      "source": [
        "from yellowbrick.regressor import ResidualsPlot\n",
        "\n",
        "visualizer = ResidualsPlot(RF)\n",
        "\n",
        "visualizer.fit(X_train, Y_train)  # Fit the training data to the model\n",
        "visualizer.score(X_test, Y_test)  # Evaluate the model on the test data\n",
        "visualizer.poof()"
      ],
      "execution_count": 0,
      "outputs": []
    },
    {
      "cell_type": "code",
      "metadata": {
        "id": "NqBhsNk7dHon",
        "colab_type": "code",
        "outputId": "9b3dd5a4-ef45-4d5c-de76-94d5f73c7b17",
        "colab": {
          "base_uri": "https://localhost:8080/",
          "height": 141
        }
      },
      "source": [
        "### GRADIENT BOOSTING ###\n",
        "print(\"Gradient Boosting Results\\n\")\n",
        "\n",
        "GB = GradientBoostingRegressor(n_estimators=100, loss='ls', learning_rate=0.1, max_depth=3, min_samples_split=3, random_state=88).fit(X_train, Y_train)\n",
        "\n",
        "train_r_squared = GB.score(X_train, Y_train)\n",
        "test_r_squared = GB.score(X_test, Y_test)\n",
        "print(\"COEFFICIENT OF DETERMINATION - Train\", train_r_squared)\n",
        "print(\"COEFFICIENT OF DETERMINATION - Test\", test_r_squared)\n",
        "print()\n",
        "\n",
        "RMSE = math.sqrt(metrics.mean_squared_error(Y_test, GB.predict(X_test)))\n",
        "print('Gradient Boosting RMSE:', RMSE)\n",
        "EV = metrics.explained_variance_score(Y_test, GB.predict(X_test))\n",
        "print('Gradient Boosting Explained Variance:', EV) "
      ],
      "execution_count": 0,
      "outputs": [
        {
          "output_type": "stream",
          "text": [
            "Gradient Boosting Results\n",
            "\n",
            "COEFFICIENT OF DETERMINATION - Train 0.7395076090923358\n",
            "COEFFICIENT OF DETERMINATION - Test 0.7306469704392493\n",
            "\n",
            "Gradient Boosting RMSE: 1362.0477181461608\n",
            "Gradient Boosting Explained Variance: 0.7306469959158983\n"
          ],
          "name": "stdout"
        }
      ]
    },
    {
      "cell_type": "code",
      "metadata": {
        "id": "z7ICZuaqdgjo",
        "colab_type": "code",
        "colab": {}
      },
      "source": [
        "#Gradient boosting plot outputs - salary data\n",
        "predicted = GB.predict(X_test)\n",
        "\n",
        "fig, ax = plt.subplots()\n",
        "ax.scatter(Y_test, predicted, edgecolors=(0, 0, 0))\n",
        "ax.plot([Y_test.min(), Y_test.max()], [Y_test.min(), Y_test.max()], 'k--', lw=4)\n",
        "ax.set_xlabel('Actual')\n",
        "ax.set_ylabel('Predicted')\n",
        "plt.title('Predicted vs. Actual')\n",
        "plt.show()"
      ],
      "execution_count": 0,
      "outputs": []
    },
    {
      "cell_type": "code",
      "metadata": {
        "id": "KJcq4cIBeNFD",
        "colab_type": "code",
        "colab": {}
      },
      "source": [
        "from yellowbrick.regressor import ResidualsPlot\n",
        "\n",
        "visualizer = ResidualsPlot(GB)\n",
        "\n",
        "visualizer.fit(X_train, Y_train)  # Fit the training data to the model\n",
        "visualizer.score(X_test, Y_test)  # Evaluate the model on the test data\n",
        "visualizer.poof()"
      ],
      "execution_count": 0,
      "outputs": []
    },
    {
      "cell_type": "code",
      "metadata": {
        "id": "yj9j1fBqepWj",
        "colab_type": "code",
        "colab": {}
      },
      "source": [
        "'''### SVM - Either Linear, RBF, Sigmoid, Poly ###\n",
        "print(\"SVM Results\\n\")\n",
        "SVM = SVR(kernel='linear', gamma='auto', C=1.0).fit(X_train, Y_train)\n",
        "\n",
        "train_r_squared = SVM.score(X_train, Y_train)\n",
        "test_r_squared = SVM.score(X_train, Y_train)\n",
        "print(\"COEFFICIENT OF DETERMINATION - Train\", train_r_squared)\n",
        "print(\"COEFFICIENT OF DETERMINATION - Test\", test_r_squared)\n",
        "print()\n",
        "\n",
        "RMSE = math.sqrt(metrics.mean_squared_error(y_test_scores, SVM.predict(X_test)))\n",
        "print('SVM RMSE:', RMSE)\n",
        "Expl_Var = metrics.explained_variance_score(y_test_scores, SVM.predict(X_test))\n",
        "print('SVM Explained Variance:', Expl_Var) \n",
        "'''"
      ],
      "execution_count": 0,
      "outputs": []
    },
    {
      "cell_type": "code",
      "metadata": {
        "id": "MfHFga9nfJIJ",
        "colab_type": "code",
        "outputId": "f83ecf38-110c-43c5-abfd-43da15f53eed",
        "colab": {
          "base_uri": "https://localhost:8080/",
          "height": 158
        }
      },
      "source": [
        "### CatBOOST ###\n",
        "\n",
        "### TEST TRAIN VALIDATION SPLIT ###\n",
        "\n",
        "num_instances = df_cat.shape[0]\n",
        "\n",
        "Y = df_cat['AdjSalMonth']\n",
        "X = df_cat.drop(['AdjSalMonth'], axis=1)\n",
        "\n",
        "# Creating the train/test split\n",
        "Y_train_cat, Y_test_cat, X_train_cat, X_test_cat = train_test_split(Y, X, test_size=0.3, random_state=33)  \n",
        "\n",
        "# Splitting df_train into the train and then holding some out for validation\n",
        "Y_train_cat, Y_val_cat, X_train_cat, X_val_cat = train_test_split(Y_train_cat, X_train_cat, test_size=0.143, random_state=33)\n",
        "\n",
        "print(\"Confirming Splits...\")\n",
        "print(\"Y_TRAIN_Cat: \" + str(Y_train_cat.shape[0]) + \" = \" + str(round((Y_train_cat.shape[0]/num_instances)*100, 2)) + \"%\")\n",
        "print(\"Y_TEST_cat: \" + str(Y_test_cat.shape[0]) + \" = \" + str(round((Y_test_cat.shape[0]/num_instances)*100, 2)) + \"%\")\n",
        "print(\"Y_VALIDATION_cat: \" + str(Y_val_cat.shape[0]) + \" = \" + str(round((Y_val_cat.shape[0]/num_instances)*100, 2)) + \"%\")\n",
        "\n",
        "print()\n",
        "print(\"X_TRAIN_cat: \" + str(X_train_cat.shape[0]) +  \", \" + str(X_train_cat.shape[1]) + \" = \" + str(round((X_train_cat.shape[0]/num_instances)*100, 2)) + \"%\")\n",
        "print(\"X_TEST_cat: \" + str(X_test_cat.shape[0]) +  \", \" + str(X_test_cat.shape[1]) + \" = \" + str(round((X_test_cat.shape[0]/num_instances)*100, 2)) + \"%\")\n",
        "print(\"X_VALIDATION_cat: \" + str(X_val_cat.shape[0]) +  \", \" + str(X_val_cat.shape[1]) + \" = \" + str(round((X_val_cat.shape[0]/num_instances)*100, 2)) + \"%\")\n",
        "\n",
        "# This is a *close* Train/Test/Validation split of 60/30/10\n"
      ],
      "execution_count": 0,
      "outputs": [
        {
          "output_type": "stream",
          "text": [
            "Confirming Splits...\n",
            "Y_TRAIN_Cat: 780810 = 59.99%\n",
            "Y_TEST_cat: 390471 = 30.0%\n",
            "Y_VALIDATION_cat: 130288 = 10.01%\n",
            "\n",
            "X_TRAIN_cat: 780810, 21 = 59.99%\n",
            "X_TEST_cat: 390471, 21 = 30.0%\n",
            "X_VALIDATION_cat: 130288, 21 = 10.01%\n"
          ],
          "name": "stdout"
        }
      ]
    },
    {
      "cell_type": "code",
      "metadata": {
        "id": "bsCY_qQFf1pO",
        "colab_type": "code",
        "outputId": "8a6ac9ea-a5ba-4ea1-92af-95d63e0ee353",
        "colab": {
          "base_uri": "https://localhost:8080/",
          "height": 212
        }
      },
      "source": [
        "!pip install catboost"
      ],
      "execution_count": 0,
      "outputs": [
        {
          "output_type": "stream",
          "text": [
            "Collecting catboost\n",
            "\u001b[?25l  Downloading https://files.pythonhosted.org/packages/5a/8a/a867c35770291646b085e9248814eb32dbe2aa824715b08e40cd92d0a83e/catboost-0.15.1-cp36-none-manylinux1_x86_64.whl (61.0MB)\n",
            "\u001b[K     |████████████████████████████████| 61.1MB 1.3MB/s \n",
            "\u001b[?25hRequirement already satisfied: numpy>=1.16.0 in /usr/local/lib/python3.6/dist-packages (from catboost) (1.16.4)\n",
            "Requirement already satisfied: graphviz in /usr/local/lib/python3.6/dist-packages (from catboost) (0.10.1)\n",
            "Requirement already satisfied: pandas>=0.19.1 in /usr/local/lib/python3.6/dist-packages (from catboost) (0.24.2)\n",
            "Requirement already satisfied: six in /usr/local/lib/python3.6/dist-packages (from catboost) (1.12.0)\n",
            "Requirement already satisfied: pytz>=2011k in /usr/local/lib/python3.6/dist-packages (from pandas>=0.19.1->catboost) (2018.9)\n",
            "Requirement already satisfied: python-dateutil>=2.5.0 in /usr/local/lib/python3.6/dist-packages (from pandas>=0.19.1->catboost) (2.5.3)\n",
            "Installing collected packages: catboost\n",
            "Successfully installed catboost-0.15.1\n"
          ],
          "name": "stdout"
        }
      ]
    },
    {
      "cell_type": "code",
      "metadata": {
        "id": "Wk1K9eBcgawZ",
        "colab_type": "code",
        "outputId": "c5faea34-4b22-42dc-98bf-124ee10bbbbe",
        "colab": {
          "base_uri": "https://localhost:8080/",
          "height": 141
        }
      },
      "source": [
        "from catboost import CatBoostRegressor\n",
        "\n",
        "print(\"CatBoost Results\\n\")\n",
        "model=CatBoostRegressor(n_estimators=100, random_seed=44, logging_level='Silent')\n",
        "model.fit(X_train_cat, Y_train_cat, cat_features=([0, 1, 2, 8, 9, 10, 12, 13, 14, 15, 16, 17, 19, 20]), \n",
        "          eval_set=(X_test_cat, Y_test_cat))\n",
        "\n",
        "RMSE_train = math.sqrt(metrics.mean_squared_error(Y_train_cat, model.predict(X_train_cat)))\n",
        "print('CatBoost Train RMSE:', RMSE_train)\n",
        "RMSE_test = math.sqrt(metrics.mean_squared_error(Y_test_cat, model.predict(X_test_cat)))\n",
        "print('CatBoost Test RMSE:', RMSE_test)\n",
        "print()\n",
        "EV_train = metrics.explained_variance_score(Y_train_cat, model.predict(X_train_cat))\n",
        "print('CatBoost Train Explained Variance:', EV_train) \n",
        "EV_test = metrics.explained_variance_score(Y_test_cat, model.predict(X_test_cat))\n",
        "print('CatBoost Test Explained Variance:', EV_test)"
      ],
      "execution_count": 0,
      "outputs": [
        {
          "output_type": "stream",
          "text": [
            "CatBoost Results\n",
            "\n",
            "CatBoost Train RMSE: 1448.4943788143544\n",
            "CatBoost Test RMSE: 1453.3227811418521\n",
            "\n",
            "CatBoost Train Explained Variance: 0.7195983004477134\n",
            "CatBoost Test Explained Variance: 0.7129062721746708\n"
          ],
          "name": "stdout"
        }
      ]
    },
    {
      "cell_type": "code",
      "metadata": {
        "id": "E8s14W2LiNaI",
        "colab_type": "code",
        "colab": {}
      },
      "source": [
        "important_features_dict = {}\n",
        "features = X_train_cat.columns.tolist()\n",
        "for x,i in enumerate(model.feature_importances_):\n",
        "    important_features_dict[x]=i\n",
        "\n",
        "# the index of the most important features in decreasing order\n",
        "lst = sorted(important_features_dict,\n",
        "                                 key=important_features_dict.get,\n",
        "                                 reverse=True)\n",
        "\n",
        "print('Most important features:')\n",
        "for i in lst:\n",
        "  print(features[i])"
      ],
      "execution_count": 0,
      "outputs": []
    },
    {
      "cell_type": "code",
      "metadata": {
        "id": "bCFbB4Ktif2n",
        "colab_type": "code",
        "colab": {}
      },
      "source": [
        "predicted = model.predict(X_test_cat)\n",
        "\n",
        "fig, ax = plt.subplots()\n",
        "ax.scatter(Y_test_cat, predicted, edgecolors=(0, 0, 0))\n",
        "ax.plot([Y_test_cat.min(), Y_test_cat.max()], [Y_test_cat.min(), Y_test_cat.max()], 'k--', lw=4)\n",
        "ax.set_xlabel('Actual')\n",
        "ax.set_ylabel('Predicted')\n",
        "plt.title('Predicted vs. Actual')\n",
        "plt.show()"
      ],
      "execution_count": 0,
      "outputs": []
    },
    {
      "cell_type": "markdown",
      "metadata": {
        "id": "HLqj8wCYWvEV",
        "colab_type": "text"
      },
      "source": [
        "___________________________________________________________________________________________\n",
        "\n",
        "BEGINNING OF MODELS RUN WITH FIVE FEATURES SELECTED\n"
      ]
    },
    {
      "cell_type": "code",
      "metadata": {
        "colab_type": "code",
        "id": "u1lta9ULW7mP",
        "outputId": "0c70832a-5716-4e65-bd0e-017fab9469bb",
        "colab": {
          "base_uri": "https://localhost:8080/",
          "height": 153
        }
      },
      "source": [
        "### LINEAR REGRESSION on FIVE FEATURES###\n",
        "\n",
        "linear_model = LinearRegression()\n",
        "linear_model.fit(X_train_fs5,Y_train_fs5)\n",
        "r_squared = linear_model.score(X_train_fs5, Y_train_fs5)\n",
        "\n",
        "print(\"Linear Regression Results\\n\")\n",
        "print(\"COEFFICIENT OF DETERMINATION: \", round(r_squared, 5))\n",
        "\n",
        "train_r_squared = linear_model.score(X_train_fs5, Y_train_fs5)\n",
        "test_r_squared = linear_model.score(X_test_fs5, Y_test_fs5)\n",
        "print(\"COEFFICIENT OF DETERMINATION - Train: \", train_r_squared)\n",
        "print(\"COEFFICIENT OF DETERMINATION - Test: \", test_r_squared)\n",
        "\n",
        "RMSE = math.sqrt(metrics.mean_squared_error(Y_train_fs5, linear_model.predict(X_train_fs5)))\n",
        "print(\"\\nLinear Regression RMSE: \", RMSE)\n",
        "EV = metrics.explained_variance_score(Y_train_fs5, linear_model.predict(X_train_fs5))\n",
        "print(\"Linear Regression Explained Variance: \", EV) "
      ],
      "execution_count": 0,
      "outputs": [
        {
          "output_type": "stream",
          "text": [
            "Linear Regression Results\n",
            "\n",
            "COEFFICIENT OF DETERMINATION:  0.50882\n",
            "COEFFICIENT OF DETERMINATION - Train:  0.5088204908895909\n",
            "COEFFICIENT OF DETERMINATION - Test:  0.5197850869371469\n",
            "\n",
            "Linear Regression RMSE:  1853.769797946865\n",
            "Linear Regression Explained Variance:  0.508820490889591\n"
          ],
          "name": "stdout"
        }
      ]
    },
    {
      "cell_type": "code",
      "metadata": {
        "id": "ESSQkHcbfAFn",
        "colab_type": "code",
        "outputId": "adf3c8c6-0e75-422c-a358-38ffdc13a6f4",
        "colab": {
          "base_uri": "https://localhost:8080/",
          "height": 153
        }
      },
      "source": [
        "### RANDOM FORESTS WITH FIVE FEATURES SELECTED ###\n",
        "print('Random Forest Results on teacher salary data')\n",
        "print()\n",
        "start_ts=time.time()\n",
        "RF = RandomForestRegressor(n_estimators=100, criterion='mse', max_features=.33, max_depth=4, min_samples_split=2, random_state=12).fit(X_train_fs5,Y_train_fs5)\n",
        "\n",
        "train_r2_salaryRF = RF.score(X_train_fs5, Y_train_fs5)\n",
        "test_r2_salaryRF = RF.score(X_test_fs5, Y_test_fs5)\n",
        "print(\"COEFFICIENT OF DETERMINATION - Train\", train_r2_salaryRF)\n",
        "print(\"COEFFICIENT OF DETERMINATION - Test\", test_r2_salaryRF)\n",
        "print()\n",
        "\n",
        "RMSE_salRF = math.sqrt(metrics.mean_squared_error(Y_test_fs5, RF.predict(X_test_fs5)))\n",
        "print('Random Forest RMSE on salary data:', RMSE_salRF)\n",
        "ExplVar_RF = metrics.explained_variance_score(Y_test_fs5, RF.predict(X_test_fs5))\n",
        "print('Random Forest Explained Variance on salary data:', ExplVar_RF) \n",
        "\n",
        "print(\"CV Runtime:\", time.time()-start_ts)"
      ],
      "execution_count": 0,
      "outputs": [
        {
          "output_type": "stream",
          "text": [
            "Random Forest Results on teacher salary data\n",
            "\n",
            "COEFFICIENT OF DETERMINATION - Train 0.5539043914368982\n",
            "COEFFICIENT OF DETERMINATION - Test 0.5577595682335936\n",
            "\n",
            "Random Forest RMSE on salary data: 1745.2619217640445\n",
            "Random Forest Explained Variance on salary data: 0.5577621792934988\n",
            "CV Runtime: 24.92237687110901\n"
          ],
          "name": "stdout"
        }
      ]
    },
    {
      "cell_type": "code",
      "metadata": {
        "id": "hwfZVa80hBh7",
        "colab_type": "code",
        "outputId": "6017f2ea-a357-4056-8b51-238251c97467",
        "colab": {
          "base_uri": "https://localhost:8080/",
          "height": 153
        }
      },
      "source": [
        "### GRADIENT BOOSTING WITH FIVE FEATURES###\n",
        "print(\"Gradient Boosting Results\\n\")\n",
        "start_ts=time.time()\n",
        "\n",
        "GB = GradientBoostingRegressor(n_estimators=100, loss='ls', learning_rate=0.1, max_depth=3, min_samples_split=3, random_state=88).fit(X_train_fs5, Y_train_fs5)\n",
        "\n",
        "train_r2_GB = GB.score(X_train_fs5, Y_train_fs5)\n",
        "test_r2_GB = GB.score(X_test_fs5, Y_test_fs5)\n",
        "print(\"COEFFICIENT OF DETERMINATION - Train\", train_r2_GB)\n",
        "print(\"COEFFICIENT OF DETERMINATION - Test\", test_r2_GB)\n",
        "print()\n",
        "\n",
        "RMSE = math.sqrt(metrics.mean_squared_error(Y_test_fs5, GB.predict(X_test_fs5)))\n",
        "print('Gradient Boosting RMSE:', RMSE)\n",
        "EV = metrics.explained_variance_score(Y_test_fs5, GB.predict(X_test_fs5))\n",
        "print('Gradient Boosting Explained Variance:', EV) \n",
        "print(\"CV Runtime:\", time.time()-start_ts)"
      ],
      "execution_count": 0,
      "outputs": [
        {
          "output_type": "stream",
          "text": [
            "Gradient Boosting Results\n",
            "\n",
            "COEFFICIENT OF DETERMINATION - Train 0.6579957349577314\n",
            "COEFFICIENT OF DETERMINATION - Test 0.6560538728642362\n",
            "\n",
            "Gradient Boosting RMSE: 1539.1346040729622\n",
            "Gradient Boosting Explained Variance: 0.6560553753321008\n",
            "CV Runtime: 49.857590198516846\n"
          ],
          "name": "stdout"
        }
      ]
    },
    {
      "cell_type": "markdown",
      "metadata": {
        "id": "RpPUDWYBepbh",
        "colab_type": "text"
      },
      "source": [
        "_____________________\n",
        "\n",
        "BEGINNING OF MODELS RUN WITH SEVEN FEATURES SELECTED"
      ]
    },
    {
      "cell_type": "code",
      "metadata": {
        "colab_type": "code",
        "id": "2rDJTHBVW7mS",
        "outputId": "f9a2c5b3-443e-4367-e2fa-e2fbcbdc1c2f",
        "colab": {
          "base_uri": "https://localhost:8080/",
          "height": 153
        }
      },
      "source": [
        "### LINEAR REGRESSION on SEVEN FEATURES###\n",
        "\n",
        "linear_model = LinearRegression()\n",
        "linear_model.fit(X_train_fs7,Y_train_fs7)\n",
        "r_squared = linear_model.score(X_train_fs7, Y_train_fs7)\n",
        "\n",
        "print(\"Linear Regression Results\\n\")\n",
        "print(\"COEFFICIENT OF DETERMINATION: \", round(r_squared, 5))\n",
        "\n",
        "train_r_squared = linear_model.score(X_train_fs7, Y_train_fs7)\n",
        "test_r_squared = linear_model.score(X_test_fs7, Y_test_fs7)\n",
        "print(\"COEFFICIENT OF DETERMINATION - Train: \", train_r_squared)\n",
        "print(\"COEFFICIENT OF DETERMINATION - Test: \", test_r_squared)\n",
        "\n",
        "RMSE = math.sqrt(metrics.mean_squared_error(Y_train_fs7, linear_model.predict(X_train_fs7)))\n",
        "print(\"\\nLinear Regression RMSE: \", RMSE)\n",
        "EV = metrics.explained_variance_score(Y_train_fs7, linear_model.predict(X_train_fs7))\n",
        "print(\"Linear Regression Explained Variance: \", EV) "
      ],
      "execution_count": 0,
      "outputs": [
        {
          "output_type": "stream",
          "text": [
            "Linear Regression Results\n",
            "\n",
            "COEFFICIENT OF DETERMINATION:  0.5573\n",
            "COEFFICIENT OF DETERMINATION - Train:  0.5572997463576648\n",
            "COEFFICIENT OF DETERMINATION - Test:  0.5648532671418016\n",
            "\n",
            "Linear Regression RMSE:  1759.9104387953157\n",
            "Linear Regression Explained Variance:  0.5572997463576648\n"
          ],
          "name": "stdout"
        }
      ]
    },
    {
      "cell_type": "code",
      "metadata": {
        "id": "TYc_KaqYf7ao",
        "colab_type": "code",
        "outputId": "5f455980-a496-4a9d-e7c0-46ca39f2d551",
        "colab": {
          "base_uri": "https://localhost:8080/",
          "height": 153
        }
      },
      "source": [
        "### RANDOM FORESTS WITH SEVEN FEATURES SELECTED ###\n",
        "print('Random Forest Results on teacher salary data')\n",
        "print()\n",
        "start_ts=time.time()\n",
        "RF = RandomForestRegressor(n_estimators=100, criterion='mse', max_features=.33, max_depth=4, min_samples_split=2, random_state=12).fit(X_train_fs7,Y_train_fs7)\n",
        "\n",
        "train_r2_salaryRF = RF.score(X_train_fs7, Y_train_fs7)\n",
        "test_r2_salaryRF = RF.score(X_test_fs7, Y_test_fs7)\n",
        "print(\"COEFFICIENT OF DETERMINATION - Train\", train_r2_salaryRF)\n",
        "print(\"COEFFICIENT OF DETERMINATION - Test\", test_r2_salaryRF)\n",
        "print()\n",
        "\n",
        "RMSE_salRF = math.sqrt(metrics.mean_squared_error(Y_test_fs7, RF.predict(X_test_fs7)))\n",
        "print('Random Forest RMSE on salary data:', RMSE_salRF)\n",
        "ExplVar_RF = metrics.explained_variance_score(Y_test_fs7, RF.predict(X_test_fs7))\n",
        "print('Random Forest Explained Variance on salary data:', ExplVar_RF) \n",
        "\n",
        "print(\"CV Runtime:\", time.time()-start_ts)"
      ],
      "execution_count": 0,
      "outputs": [
        {
          "output_type": "stream",
          "text": [
            "Random Forest Results on teacher salary data\n",
            "\n",
            "COEFFICIENT OF DETERMINATION - Train 0.5980832520613691\n",
            "COEFFICIENT OF DETERMINATION - Test 0.5948849144961919\n",
            "\n",
            "Random Forest RMSE on salary data: 1670.4004503864062\n",
            "Random Forest Explained Variance on salary data: 0.5948864646277956\n",
            "CV Runtime: 31.65142250061035\n"
          ],
          "name": "stdout"
        }
      ]
    },
    {
      "cell_type": "code",
      "metadata": {
        "id": "7V4ctMJxh49P",
        "colab_type": "code",
        "outputId": "18bef3bb-f5a9-4eb1-9950-db8b5c850f41",
        "colab": {
          "base_uri": "https://localhost:8080/",
          "height": 153
        }
      },
      "source": [
        "### GRADIENT BOOSTING WITH SEVEN FEATURES###\n",
        "print(\"Gradient Boosting Results\\n\")\n",
        "start_ts=time.time()\n",
        "\n",
        "GB = GradientBoostingRegressor(n_estimators=100, loss='ls', learning_rate=0.1, max_depth=3, min_samples_split=3, random_state=88).fit(X_train_fs7, Y_train_fs7)\n",
        "\n",
        "train_r2_GB = GB.score(X_train_fs7, Y_train_fs7)\n",
        "test_r2_GB = GB.score(X_test_fs7, Y_test_fs7)\n",
        "print(\"COEFFICIENT OF DETERMINATION - Train\", train_r2_GB)\n",
        "print(\"COEFFICIENT OF DETERMINATION - Test\", test_r2_GB)\n",
        "print()\n",
        "\n",
        "RMSE = math.sqrt(metrics.mean_squared_error(Y_test_fs7, GB.predict(X_test_fs7)))\n",
        "print('Gradient Boosting RMSE:', RMSE)\n",
        "EV = metrics.explained_variance_score(Y_test_fs7, GB.predict(X_test_fs7))\n",
        "print('Gradient Boosting Explained Variance:', EV) \n",
        "print(\"CV Runtime:\", time.time()-start_ts)"
      ],
      "execution_count": 0,
      "outputs": [
        {
          "output_type": "stream",
          "text": [
            "Gradient Boosting Results\n",
            "\n",
            "COEFFICIENT OF DETERMINATION - Train 0.733446153413807\n",
            "COEFFICIENT OF DETERMINATION - Test 0.723919628037696\n",
            "\n",
            "Gradient Boosting RMSE: 1378.9520231185745\n",
            "Gradient Boosting Explained Variance: 0.7239198536213511\n",
            "CV Runtime: 58.83814978599548\n"
          ],
          "name": "stdout"
        }
      ]
    },
    {
      "cell_type": "markdown",
      "metadata": {
        "id": "p-PzJFSte4Xq",
        "colab_type": "text"
      },
      "source": [
        "_________\n",
        "\n",
        "BEGINNING OF MODELS WITH EIGHT FEATURES SELECTED"
      ]
    },
    {
      "cell_type": "code",
      "metadata": {
        "id": "B5nWoe3YXqep",
        "colab_type": "code",
        "outputId": "28f4589d-3a8c-44d3-b337-7c70f0c08c66",
        "colab": {
          "base_uri": "https://localhost:8080/",
          "height": 153
        }
      },
      "source": [
        "### LINEAR REGRESSION on EIGHT FEATURES###\n",
        "\n",
        "linear_model = LinearRegression()\n",
        "linear_model.fit(X_train_fs8,Y_train_fs8)\n",
        "r_squared = linear_model.score(X_train_fs8, Y_train_fs8)\n",
        "\n",
        "print(\"Linear Regression Results\\n\")\n",
        "print(\"COEFFICIENT OF DETERMINATION: \", round(r_squared, 5))\n",
        "\n",
        "train_r_squared = linear_model.score(X_train_fs8, Y_train_fs8)\n",
        "test_r_squared = linear_model.score(X_test_fs8, Y_test_fs8)\n",
        "print(\"COEFFICIENT OF DETERMINATION - Train: \", train_r_squared)\n",
        "print(\"COEFFICIENT OF DETERMINATION - Test: \", test_r_squared)\n",
        "\n",
        "RMSE = math.sqrt(metrics.mean_squared_error(Y_train_fs8, linear_model.predict(X_train_fs8)))\n",
        "print(\"\\nLinear Regression RMSE: \", RMSE)\n",
        "EV = metrics.explained_variance_score(Y_train_fs8, linear_model.predict(X_train_fs8))\n",
        "print(\"Linear Regression Explained Variance: \", EV) "
      ],
      "execution_count": 0,
      "outputs": [
        {
          "output_type": "stream",
          "text": [
            "Linear Regression Results\n",
            "\n",
            "COEFFICIENT OF DETERMINATION:  0.47988\n",
            "COEFFICIENT OF DETERMINATION - Train:  0.47987732818343076\n",
            "COEFFICIENT OF DETERMINATION - Test:  0.48526985815314827\n",
            "\n",
            "Linear Regression RMSE:  1907.6055367614495\n",
            "Linear Regression Explained Variance:  0.47987732818343076\n"
          ],
          "name": "stdout"
        }
      ]
    },
    {
      "cell_type": "code",
      "metadata": {
        "id": "-L52Jpv7gZs-",
        "colab_type": "code",
        "outputId": "edcf7aac-a968-4b8f-9fc7-0b01e915a2c0",
        "colab": {
          "base_uri": "https://localhost:8080/",
          "height": 274
        }
      },
      "source": [
        "### RANDOM FORESTS WITH EIGHT FEATURES SELECTED ###\n",
        "print('Random Forest Results on teacher salary data')\n",
        "print()\n",
        "start_ts=time.time()\n",
        "RF = RandomForestRegressor(n_estimators=100, criterion='mse', max_features=.33, max_depth=4, min_samples_split=2, random_state=12).fit(X_train_fs8,Y_train_fs8)\n",
        "\n",
        "train_r2_salaryRF = RF.score(X_train_fs8, Y_train_fs8)\n",
        "test_r2_salaryRF = RF.score(X_test_fs8, Y_test_fs8)\n",
        "print(\"COEFFICIENT OF DETERMINATION - Train\", train_r2_salaryRF)\n",
        "print(\"COEFFICIENT OF DETERMINATION - Test\", test_r2_salaryRF)\n",
        "print()\n",
        "\n",
        "RMSE_salRF = math.sqrt(metrics.mean_squared_error(Y_test_fs8, RF.predict(X_test_fs8)))\n",
        "print('Random Forest RMSE on salary data:', RMSE_salRF)\n",
        "ExplVar_RF = metrics.explained_variance_score(Y_test_fs8, RF.predict(X_test_fs8))\n",
        "print('Random Forest Explained Variance on salary data:', ExplVar_RF) \n",
        "\n",
        "print(\"CV Runtime:\", time.time()-start_ts)"
      ],
      "execution_count": 0,
      "outputs": [
        {
          "output_type": "stream",
          "text": [
            "Random Forest Results on teacher salary data\n",
            "\n"
          ],
          "name": "stdout"
        },
        {
          "output_type": "error",
          "ename": "NameError",
          "evalue": "ignored",
          "traceback": [
            "\u001b[0;31m---------------------------------------------------------------------------\u001b[0m",
            "\u001b[0;31mNameError\u001b[0m                                 Traceback (most recent call last)",
            "\u001b[0;32m<ipython-input-12-846121c79066>\u001b[0m in \u001b[0;36m<module>\u001b[0;34m()\u001b[0m\n\u001b[1;32m      2\u001b[0m \u001b[0mprint\u001b[0m\u001b[0;34m(\u001b[0m\u001b[0;34m)\u001b[0m\u001b[0;34m\u001b[0m\u001b[0;34m\u001b[0m\u001b[0m\n\u001b[1;32m      3\u001b[0m \u001b[0mstart_ts\u001b[0m\u001b[0;34m=\u001b[0m\u001b[0mtime\u001b[0m\u001b[0;34m.\u001b[0m\u001b[0mtime\u001b[0m\u001b[0;34m(\u001b[0m\u001b[0;34m)\u001b[0m\u001b[0;34m\u001b[0m\u001b[0;34m\u001b[0m\u001b[0m\n\u001b[0;32m----> 4\u001b[0;31m \u001b[0mRF\u001b[0m \u001b[0;34m=\u001b[0m \u001b[0mRandomForestRegressor\u001b[0m\u001b[0;34m(\u001b[0m\u001b[0mn_estimators\u001b[0m\u001b[0;34m=\u001b[0m\u001b[0;36m100\u001b[0m\u001b[0;34m,\u001b[0m \u001b[0mcriterion\u001b[0m\u001b[0;34m=\u001b[0m\u001b[0;34m'mse'\u001b[0m\u001b[0;34m,\u001b[0m \u001b[0mmax_features\u001b[0m\u001b[0;34m=\u001b[0m\u001b[0;36m.33\u001b[0m\u001b[0;34m,\u001b[0m \u001b[0mmax_depth\u001b[0m\u001b[0;34m=\u001b[0m\u001b[0;36m4\u001b[0m\u001b[0;34m,\u001b[0m \u001b[0mmin_samples_split\u001b[0m\u001b[0;34m=\u001b[0m\u001b[0;36m2\u001b[0m\u001b[0;34m,\u001b[0m \u001b[0mrandom_state\u001b[0m\u001b[0;34m=\u001b[0m\u001b[0;36m12\u001b[0m\u001b[0;34m)\u001b[0m\u001b[0;34m.\u001b[0m\u001b[0mfit\u001b[0m\u001b[0;34m(\u001b[0m\u001b[0mX_train_fs8\u001b[0m\u001b[0;34m,\u001b[0m\u001b[0mY_train_fs8\u001b[0m\u001b[0;34m)\u001b[0m\u001b[0;34m\u001b[0m\u001b[0;34m\u001b[0m\u001b[0m\n\u001b[0m\u001b[1;32m      5\u001b[0m \u001b[0;34m\u001b[0m\u001b[0m\n\u001b[1;32m      6\u001b[0m \u001b[0mtrain_r2_salaryRF\u001b[0m \u001b[0;34m=\u001b[0m \u001b[0mRF\u001b[0m\u001b[0;34m.\u001b[0m\u001b[0mscore\u001b[0m\u001b[0;34m(\u001b[0m\u001b[0mX_train_fs8\u001b[0m\u001b[0;34m,\u001b[0m \u001b[0mY_train_fs8\u001b[0m\u001b[0;34m)\u001b[0m\u001b[0;34m\u001b[0m\u001b[0;34m\u001b[0m\u001b[0m\n",
            "\u001b[0;31mNameError\u001b[0m: name 'X_train_fs8' is not defined"
          ]
        }
      ]
    },
    {
      "cell_type": "code",
      "metadata": {
        "id": "USOdf2TmifJp",
        "colab_type": "code",
        "colab": {}
      },
      "source": [
        "### GRADIENT BOOSTING WITH Eight FEATURES###\n",
        "print(\"Gradient Boosting Results\\n\")\n",
        "start_ts=time.time()\n",
        "\n",
        "GB = GradientBoostingRegressor(n_estimators=100, loss='ls', learning_rate=0.1, max_depth=3, min_samples_split=3, random_state=88).fit(X_train_fs8, Y_train_fs8)\n",
        "\n",
        "train_r2_GB = GB.score(X_train_fs8, Y_train_fs8)\n",
        "test_r2_GB = GB.score(X_test_fs8, Y_test_fs8)\n",
        "print(\"COEFFICIENT OF DETERMINATION - Train\", train_r2_GB)\n",
        "print(\"COEFFICIENT OF DETERMINATION - Test\", test_r2_GB)\n",
        "print()\n",
        "\n",
        "RMSE = math.sqrt(metrics.mean_squared_error(Y_test_fs8, GB.predict(X_test_fs8)))\n",
        "print('Gradient Boosting RMSE:', RMSE)\n",
        "EV = metrics.explained_variance_score(Y_test_fs8, GB.predict(X_test_fs8))\n",
        "print('Gradient Boosting Explained Variance:', EV) \n",
        "print(\"CV Runtime:\", time.time()-start_ts)"
      ],
      "execution_count": 0,
      "outputs": []
    },
    {
      "cell_type": "markdown",
      "metadata": {
        "id": "Vr01i5-NioSv",
        "colab_type": "text"
      },
      "source": [
        "____________________\n",
        "PARAMETER OPTIMIZATION"
      ]
    },
    {
      "cell_type": "code",
      "metadata": {
        "id": "mIV-iBv-O4Gv",
        "colab_type": "code",
        "colab": {}
      },
      "source": [
        "### TEST TRAIN VALIDATION SPLIT with FS###\n",
        "\n",
        "num_instances = df_num.shape[0]\n",
        "\n",
        "Y_FS = df_num['AdjSalMonth']\n",
        "X_FS = df_num[['months_employed', 'fte', 'dist_exp', 'state_exp', 'first_3', 'grade_taught', 'Bachelors']]\n",
        "\n",
        "# Creating the train/test split\n",
        "Y_FS_train, Y_FS_test, X_FS_train, X_FS_test = train_test_split(Y_FS, X_FS, test_size=0.3, random_state=33)  \n",
        "\n",
        "# Splitting df_train into the train and then holding some out for validation\n",
        "Y_FS_train, Y_FS_val, X_FS_train, X_FS_val = train_test_split(Y_FS_train, X_FS_train, test_size=0.143, random_state=33)\n",
        "\n",
        "print(\"Confirming Splits...\")\n",
        "print(\"Y_FS_TRAIN: \" + str(Y_FS_train.shape[0]) + \" = \" + str(round((Y_FS_train.shape[0]/num_instances)*100, 2)) + \"%\")\n",
        "print(\"Y_FS_TEST: \" + str(Y_FS_test.shape[0]) + \" = \" + str(round((Y_FS_test.shape[0]/num_instances)*100, 2)) + \"%\")\n",
        "print(\"Y_FS_VALIDATION: \" + str(Y_FS_val.shape[0]) + \" = \" + str(round((Y_FS_val.shape[0]/num_instances)*100, 2)) + \"%\")\n",
        "\n",
        "print()\n",
        "print(\"X_FS_TRAIN: \" + str(X_FS_train.shape[0]) +  \", \" + str(X_FS_train.shape[1]) + \" = \" + str(round((X_FS_train.shape[0]/num_instances)*100, 2)) + \"%\")\n",
        "print(\"X_FS_TEST: \" + str(X_FS_test.shape[0]) +  \", \" + str(X_FS_test.shape[1]) + \" = \" + str(round((X_FS_test.shape[0]/num_instances)*100, 2)) + \"%\")\n",
        "print(\"X_FS_VALIDATION: \" + str(X_FS_val.shape[0]) +  \", \" + str(X_FS_val.shape[1]) + \" = \" + str(round((X_FS_val.shape[0]/num_instances)*100, 2)) + \"%\")"
      ],
      "execution_count": 0,
      "outputs": []
    },
    {
      "cell_type": "code",
      "metadata": {
        "id": "cyrdoSsBO4Jf",
        "colab_type": "code",
        "outputId": "5a7740c9-fadb-4fcb-f2eb-10cfd931e7e6",
        "colab": {
          "base_uri": "https://localhost:8080/",
          "height": 158
        }
      },
      "source": [
        "### LINEAR REGRESSION ###\n",
        "\n",
        "linear_model = LinearRegression()\n",
        "linear_model.fit(X_FS_train,Y_FS_train)\n",
        "r_squared = linear_model.score(X_FS_train, Y_FS_train)\n",
        "\n",
        "print(\"Linear Regression Results\\n\")\n",
        "print(\"COEFFICIENT OF DETERMINATION: \", round(r_squared, 5))\n",
        "\n",
        "train_FS_r_squared = linear_model.score(X_FS_train, Y_FS_train)\n",
        "test_FS_r_squared = linear_model.score(X_FS_test, Y_FS_test)\n",
        "print(\"COEFFICIENT OF DETERMINATION - Train: \", train_FS_r_squared)\n",
        "print(\"COEFFICIENT OF DETERMINATION - Test: \", test_FS_r_squared)\n",
        "\n",
        "RMSE = math.sqrt(metrics.mean_squared_error(Y_FS_train, linear_model.predict(X_FS_train)))\n",
        "print(\"\\nLinear Regression RMSE: \", RMSE)\n",
        "EV = metrics.explained_variance_score(Y_FS_train, linear_model.predict(X_FS_train))\n",
        "print(\"Linear Regression Explained Variance: \", EV) "
      ],
      "execution_count": 0,
      "outputs": [
        {
          "output_type": "stream",
          "text": [
            "Linear Regression Results\n",
            "\n",
            "COEFFICIENT OF DETERMINATION:  0.5573\n",
            "COEFFICIENT OF DETERMINATION - Train:  0.5572997463576648\n",
            "COEFFICIENT OF DETERMINATION - Test:  0.5648532671418016\n",
            "\n",
            "Linear Regression RMSE:  1759.9104387953157\n",
            "Linear Regression Explained Variance:  0.5572997463576648\n"
          ],
          "name": "stdout"
        }
      ]
    },
    {
      "cell_type": "code",
      "metadata": {
        "id": "FKVlwlsJO4MU",
        "colab_type": "code",
        "outputId": "af84603f-2688-4708-88bf-ac1ab8a4b7f3",
        "colab": {
          "base_uri": "https://localhost:8080/",
          "height": 158
        }
      },
      "source": [
        "### Decision Tree - All Depth###\n",
        "from sklearn.tree import DecisionTreeRegressor\n",
        "decision_tree = DecisionTreeRegressor()\n",
        "decision_tree.fit(X_FS_train,Y_FS_train)\n",
        "r_squared = decision_tree.score(X_FS_train, Y_FS_train)\n",
        "\n",
        "print(\"Decision Tree Results\\n\")\n",
        "print(\"COEFFICIENT OF DETERMINATION: \", round(r_squared, 5))\n",
        "\n",
        "train_FS_r_squared = decision_tree.score(X_FS_train, Y_FS_train)\n",
        "test_FS_r_squared = decision_tree.score(X_FS_test, Y_FS_test)\n",
        "print(\"COEFFICIENT OF DETERMINATION - Train: \", train_FS_r_squared)\n",
        "print(\"COEFFICIENT OF DETERMINATION - Test: \", test_FS_r_squared)\n",
        "\n",
        "RMSE = math.sqrt(metrics.mean_squared_error(Y_FS_train, decision_tree.predict(X_FS_train)))\n",
        "print(\"\\nDecision Tree RMSE: \", RMSE)\n",
        "EV = metrics.explained_variance_score(Y_FS_train, decision_tree.predict(X_FS_train))\n",
        "print(\"Decision Tree Explained Variance: \", EV) "
      ],
      "execution_count": 0,
      "outputs": [
        {
          "output_type": "stream",
          "text": [
            "Decision Tree Results\n",
            "\n",
            "COEFFICIENT OF DETERMINATION:  0.85251\n",
            "COEFFICIENT OF DETERMINATION - Train:  0.8525115316308082\n",
            "COEFFICIENT OF DETERMINATION - Test:  0.6770750887325399\n",
            "\n",
            "Decision Tree RMSE:  1015.8152178839136\n",
            "Decision Tree Explained Variance:  0.8525115316308083\n"
          ],
          "name": "stdout"
        }
      ]
    },
    {
      "cell_type": "code",
      "metadata": {
        "id": "34Pw_-4qO4Pf",
        "colab_type": "code",
        "outputId": "798218f7-e6d9-498a-c60f-1cf7a2a04ff8",
        "colab": {
          "base_uri": "https://localhost:8080/",
          "height": 158
        }
      },
      "source": [
        "### RANDOM FORESTS ###\n",
        "print('Random Forest Results on teacher salary data')\n",
        "print()\n",
        "start_ts=time.time()\n",
        "RF = RandomForestRegressor(n_estimators=100, criterion='mse', max_features=.33, max_depth=4, min_samples_split=2, random_state=12).fit(X_FS_train, Y_FS_train)\n",
        "\n",
        "train_FS_r2_salaryRF = RF.score(X_FS_train, Y_FS_train)\n",
        "test_FS_r2_salaryRF = RF.score(X_FS_test, Y_FS_test)\n",
        "print(\"COEFFICIENT OF DETERMINATION - Train\", train_FS_r2_salaryRF)\n",
        "print(\"COEFFICIENT OF DETERMINATION - Test\", test_FS_r2_salaryRF)\n",
        "print()\n",
        "\n",
        "RMSE_salRF = math.sqrt(metrics.mean_squared_error(Y_FS_test, RF.predict(X_FS_test)))\n",
        "print('Random Forest RMSE on salary data:', RMSE_salRF)\n",
        "ExplVar_salRF = metrics.explained_variance_score(Y_FS_test, RF.predict(X_FS_test))\n",
        "print('Random Forest Explained Variance on salary data:', ExplVar_salRF) \n",
        "\n",
        "print(\"CV Runtime:\", time.time()-start_ts)"
      ],
      "execution_count": 0,
      "outputs": [
        {
          "output_type": "stream",
          "text": [
            "Random Forest Results on teacher salary data\n",
            "\n",
            "COEFFICIENT OF DETERMINATION - Train 0.5980832520613691\n",
            "COEFFICIENT OF DETERMINATION - Test 0.5948849144961919\n",
            "\n",
            "Random Forest RMSE on salary data: 1670.4004503864062\n",
            "Random Forest Explained Variance on salary data: 0.5948864646277956\n",
            "CV Runtime: 28.798956871032715\n"
          ],
          "name": "stdout"
        }
      ]
    },
    {
      "cell_type": "code",
      "metadata": {
        "id": "SsR4tBIgPsSd",
        "colab_type": "code",
        "outputId": "f4c973d0-c034-4c1b-d11e-286ee07dc06a",
        "colab": {
          "base_uri": "https://localhost:8080/",
          "height": 158
        }
      },
      "source": [
        "### GRADIENT BOOSTING ###\n",
        "print(\"Gradient Boosting Results\\n\")\n",
        "start_ts=time.time()\n",
        "\n",
        "GB = GradientBoostingRegressor(n_estimators=100, loss='ls', learning_rate=0.1, max_depth=3, min_samples_split=3, random_state=88).fit(X_FS_train, Y_FS_train)\n",
        "\n",
        "train_FS_r_squared = GB.score(X_FS_train, Y_FS_train)\n",
        "test_FS_r_squared = GB.score(X_FS_test, Y_FS_test)\n",
        "print(\"COEFFICIENT OF DETERMINATION - Train\", train_FS_r_squared)\n",
        "print(\"COEFFICIENT OF DETERMINATION - Test\", test_FS_r_squared)\n",
        "print()\n",
        "\n",
        "RMSE = math.sqrt(metrics.mean_squared_error(Y_FS_test, GB.predict(X_FS_test)))\n",
        "print('Gradient Boosting RMSE:', RMSE)\n",
        "EV = metrics.explained_variance_score(Y_FS_test, GB.predict(X_FS_test))\n",
        "print('Gradient Boosting Explained Variance:', EV) \n",
        "print(\"CV Runtime:\", time.time()-start_ts)"
      ],
      "execution_count": 0,
      "outputs": [
        {
          "output_type": "stream",
          "text": [
            "Gradient Boosting Results\n",
            "\n",
            "COEFFICIENT OF DETERMINATION - Train 0.733446153413807\n",
            "COEFFICIENT OF DETERMINATION - Test 0.723919628037696\n",
            "\n",
            "Gradient Boosting RMSE: 1378.9520231185745\n",
            "Gradient Boosting Explained Variance: 0.7239198536213511\n",
            "CV Runtime: 52.55981993675232\n"
          ],
          "name": "stdout"
        }
      ]
    },
    {
      "cell_type": "code",
      "metadata": {
        "id": "MeIZXnofPsVY",
        "colab_type": "code",
        "outputId": "3b53f15a-b38c-4b6a-dd4f-419e7c1b0392",
        "colab": {
          "base_uri": "https://localhost:8080/",
          "height": 176
        }
      },
      "source": [
        "### GRADIENT BOOSTING-Parameter Testing###\n",
        "print(\"Gradient Boosting Results\\n\")\n",
        "start_ts=time.time()\n",
        "GB = GradientBoostingRegressor(n_estimators=300, loss='ls', learning_rate=0.5, max_depth=3, min_samples_split=10, random_state=88).fit(X_FS_train, Y_FS_train)\n",
        "\n",
        "train_FS_r_squared = GB.score(X_FS_train, Y_FS_train)\n",
        "test_FS_r_squared = GB.score(X_FS_test, Y_FS_test)\n",
        "val_FS_r_squared = GB.score(X_FS_val, Y_FS_val)\n",
        "print(\"COEFFICIENT OF DETERMINATION - Train\", train_FS_r_squared)\n",
        "print(\"COEFFICIENT OF DETERMINATION - Test\", test_FS_r_squared)\n",
        "print(\"COEFFICIENT OF DETERMINATION - Validation\", val_FS_r_squared)\n",
        "print()\n",
        "\n",
        "RMSE = math.sqrt(metrics.mean_squared_error(Y_FS_test, GB.predict(X_FS_test)))\n",
        "print('Gradient Boosting RMSE:', RMSE)\n",
        "EV = metrics.explained_variance_score(Y_FS_test, GB.predict(X_FS_test))\n",
        "print('Gradient Boosting Explained Variance:', EV) \n",
        "print(\"CV Runtime:\", time.time()-start_ts)"
      ],
      "execution_count": 0,
      "outputs": [
        {
          "output_type": "stream",
          "text": [
            "Gradient Boosting Results\n",
            "\n",
            "COEFFICIENT OF DETERMINATION - Train 0.7750778077585099\n",
            "COEFFICIENT OF DETERMINATION - Test 0.7522141389638844\n",
            "COEFFICIENT OF DETERMINATION - Validation 0.7486950665381664\n",
            "\n",
            "Gradient Boosting RMSE: 1306.3803861472109\n",
            "Gradient Boosting Explained Variance: 0.7522142999242081\n",
            "CV Runtime: 145.85729551315308\n"
          ],
          "name": "stdout"
        }
      ]
    },
    {
      "cell_type": "markdown",
      "metadata": {
        "id": "RcdvNBNDKqOv",
        "colab_type": "text"
      },
      "source": [
        "_____________________\n",
        "\n",
        "PARAMETER OPTIMIZATION FOR RANDOM FOREST"
      ]
    },
    {
      "cell_type": "code",
      "metadata": {
        "id": "cboKQSmNKpW1",
        "colab_type": "code",
        "outputId": "472c2316-4229-4d5c-a695-196c7b2e7a09",
        "colab": {
          "base_uri": "https://localhost:8080/",
          "height": 153
        }
      },
      "source": [
        "### RANDOM FORESTS WITH SEVEN FEATURES SELECTED - MSE criterion ###\n",
        "print('Random Forest Results on teacher salary data')\n",
        "print()\n",
        "start_ts=time.time()\n",
        "RF = RandomForestRegressor(n_estimators=100, criterion='mse', max_features=.33, max_depth=4, min_samples_split=2, random_state=12).fit(X_train_fs7,Y_train_fs7)\n",
        "\n",
        "train_r2_salaryRF = RF.score(X_train_fs7, Y_train_fs7)\n",
        "test_r2_salaryRF = RF.score(X_test_fs7, Y_test_fs7)\n",
        "print(\"COEFFICIENT OF DETERMINATION - Train\", train_r2_salaryRF)\n",
        "print(\"COEFFICIENT OF DETERMINATION - Test\", test_r2_salaryRF)\n",
        "print()\n",
        "\n",
        "RMSE_salRF = math.sqrt(metrics.mean_squared_error(Y_test_fs7, RF.predict(X_test_fs7)))\n",
        "print('Random Forest RMSE on salary data:', RMSE_salRF)\n",
        "ExplVar_RF = metrics.explained_variance_score(Y_test_fs7, RF.predict(X_test_fs7))\n",
        "print('Random Forest Explained Variance on salary data:', ExplVar_RF) \n",
        "\n",
        "print(\"CV Runtime:\", time.time()-start_ts)"
      ],
      "execution_count": 0,
      "outputs": [
        {
          "output_type": "stream",
          "text": [
            "Random Forest Results on teacher salary data\n",
            "\n",
            "COEFFICIENT OF DETERMINATION - Train 0.5980832520613691\n",
            "COEFFICIENT OF DETERMINATION - Test 0.5948849144961919\n",
            "\n",
            "Random Forest RMSE on salary data: 1670.4004503864062\n",
            "Random Forest Explained Variance on salary data: 0.5948864646277956\n",
            "CV Runtime: 36.8925940990448\n"
          ],
          "name": "stdout"
        }
      ]
    },
    {
      "cell_type": "code",
      "metadata": {
        "id": "d8m02-YpLA1x",
        "colab_type": "code",
        "outputId": "dad53699-108b-4262-b4f6-b8143938dd05",
        "colab": {
          "base_uri": "https://localhost:8080/",
          "height": 51
        }
      },
      "source": [
        "### RANDOM FORESTS WITH SEVEN FEATURES SELECTED - MAE criterion - does not run###\n",
        "print('Random Forest Results on teacher salary data')\n",
        "print()\n",
        "start_ts=time.time()\n",
        "RF = RandomForestRegressor(n_estimators=100, criterion='mae', max_features=.33, max_depth=4, min_samples_split=2, random_state=12).fit(X_train_fs7,Y_train_fs7)\n",
        "\n",
        "train_r2_salaryRF = RF.score(X_train_fs7, Y_train_fs7)\n",
        "test_r2_salaryRF = RF.score(X_test_fs7, Y_test_fs7)\n",
        "print(\"COEFFICIENT OF DETERMINATION - Train\", train_r2_salaryRF)\n",
        "print(\"COEFFICIENT OF DETERMINATION - Test\", test_r2_salaryRF)\n",
        "print()\n",
        "\n",
        "RMSE_salRF = math.sqrt(metrics.mean_squared_error(Y_test_fs7, RF.predict(X_test_fs7)))\n",
        "print('Random Forest RMSE on salary data:', RMSE_salRF)\n",
        "ExplVar_RF = metrics.explained_variance_score(Y_test_fs7, RF.predict(X_test_fs7))\n",
        "print('Random Forest Explained Variance on salary data:', ExplVar_RF) \n",
        "\n",
        "print(\"CV Runtime:\", time.time()-start_ts)"
      ],
      "execution_count": 0,
      "outputs": [
        {
          "output_type": "stream",
          "text": [
            "Random Forest Results on teacher salary data\n",
            "\n"
          ],
          "name": "stdout"
        }
      ]
    },
    {
      "cell_type": "code",
      "metadata": {
        "id": "gKygrcD4Lr6r",
        "colab_type": "code",
        "colab": {}
      },
      "source": [
        ""
      ],
      "execution_count": 0,
      "outputs": []
    },
    {
      "cell_type": "code",
      "metadata": {
        "id": "Fqko2khJLmNb",
        "colab_type": "code",
        "outputId": "aa28412e-c246-4f22-ab5b-7b9a6156ac7c",
        "colab": {
          "base_uri": "https://localhost:8080/",
          "height": 153
        }
      },
      "source": [
        "### RANDOM FORESTS WITH SEVEN FEATURES SELECTED w/ 3 max_depth ###\n",
        "print('Random Forest Results on teacher salary data')\n",
        "print()\n",
        "start_ts=time.time()\n",
        "RF = RandomForestRegressor(n_estimators=100, criterion='mse', max_features=.33, max_depth=3, min_samples_split=2, random_state=12).fit(X_train_fs7,Y_train_fs7)\n",
        "\n",
        "train_r2_salaryRF = RF.score(X_train_fs7, Y_train_fs7)\n",
        "test_r2_salaryRF = RF.score(X_test_fs7, Y_test_fs7)\n",
        "print(\"COEFFICIENT OF DETERMINATION - Train\", train_r2_salaryRF)\n",
        "print(\"COEFFICIENT OF DETERMINATION - Test\", test_r2_salaryRF)\n",
        "print()\n",
        "\n",
        "RMSE_salRF = math.sqrt(metrics.mean_squared_error(Y_test_fs7, RF.predict(X_test_fs7)))\n",
        "print('Random Forest RMSE on salary data:', RMSE_salRF)\n",
        "ExplVar_RF = metrics.explained_variance_score(Y_test_fs7, RF.predict(X_test_fs7))\n",
        "print('Random Forest Explained Variance on salary data:', ExplVar_RF) \n",
        "\n",
        "print(\"CV Runtime:\", time.time()-start_ts)"
      ],
      "execution_count": 0,
      "outputs": [
        {
          "output_type": "stream",
          "text": [
            "Random Forest Results on teacher salary data\n",
            "\n",
            "COEFFICIENT OF DETERMINATION - Train 0.5382492792685966\n",
            "COEFFICIENT OF DETERMINATION - Test 0.5375339656789401\n",
            "\n",
            "Random Forest RMSE on salary data: 1784.7250175468744\n",
            "Random Forest Explained Variance on salary data: 0.537535952678613\n",
            "CV Runtime: 28.61750817298889\n"
          ],
          "name": "stdout"
        }
      ]
    },
    {
      "cell_type": "code",
      "metadata": {
        "id": "EvxEdjbmLu7I",
        "colab_type": "code",
        "outputId": "88f2a786-e6b6-4a6b-88b6-55beb9ead91d",
        "colab": {
          "base_uri": "https://localhost:8080/",
          "height": 153
        }
      },
      "source": [
        "### RANDOM FORESTS WITH SEVEN FEATURES SELECTED w/ 5 max depth ###\n",
        "print('Random Forest Results on teacher salary data')\n",
        "print()\n",
        "start_ts=time.time()\n",
        "RF = RandomForestRegressor(n_estimators=100, criterion='mse', max_features=.33, max_depth=5, min_samples_split=2, random_state=12).fit(X_train_fs7,Y_train_fs7)\n",
        "\n",
        "train_r2_salaryRF = RF.score(X_train_fs7, Y_train_fs7)\n",
        "test_r2_salaryRF = RF.score(X_test_fs7, Y_test_fs7)\n",
        "print(\"COEFFICIENT OF DETERMINATION - Train\", train_r2_salaryRF)\n",
        "print(\"COEFFICIENT OF DETERMINATION - Test\", test_r2_salaryRF)\n",
        "print()\n",
        "\n",
        "RMSE_salRF = math.sqrt(metrics.mean_squared_error(Y_test_fs7, RF.predict(X_test_fs7)))\n",
        "print('Random Forest RMSE on salary data:', RMSE_salRF)\n",
        "ExplVar_RF = metrics.explained_variance_score(Y_test_fs7, RF.predict(X_test_fs7))\n",
        "print('Random Forest Explained Variance on salary data:', ExplVar_RF) \n",
        "\n",
        "print(\"CV Runtime:\", time.time()-start_ts)"
      ],
      "execution_count": 0,
      "outputs": [
        {
          "output_type": "stream",
          "text": [
            "Random Forest Results on teacher salary data\n",
            "\n",
            "COEFFICIENT OF DETERMINATION - Train 0.6409346428045845\n",
            "COEFFICIENT OF DETERMINATION - Test 0.6358123590621114\n",
            "\n",
            "Random Forest RMSE on salary data: 1583.7768564936941\n",
            "Random Forest Explained Variance on salary data: 0.635813655130471\n",
            "CV Runtime: 44.286580324172974\n"
          ],
          "name": "stdout"
        }
      ]
    },
    {
      "cell_type": "code",
      "metadata": {
        "id": "BI6okOg-L0bb",
        "colab_type": "code",
        "outputId": "f8362faf-30a2-4ae3-b679-33e5ae7e3f6f",
        "colab": {
          "base_uri": "https://localhost:8080/",
          "height": 153
        }
      },
      "source": [
        "### RANDOM FORESTS WITH SEVEN FEATURES SELECTED w/ 2 max depth ###\n",
        "print('Random Forest Results on teacher salary data')\n",
        "print()\n",
        "start_ts=time.time()\n",
        "RF = RandomForestRegressor(n_estimators=100, criterion='mse', max_features=.33, max_depth=2, min_samples_split=2, random_state=12).fit(X_train_fs7,Y_train_fs7)\n",
        "\n",
        "train_r2_salaryRF = RF.score(X_train_fs7, Y_train_fs7)\n",
        "test_r2_salaryRF = RF.score(X_test_fs7, Y_test_fs7)\n",
        "print(\"COEFFICIENT OF DETERMINATION - Train\", train_r2_salaryRF)\n",
        "print(\"COEFFICIENT OF DETERMINATION - Test\", test_r2_salaryRF)\n",
        "print()\n",
        "\n",
        "RMSE_salRF = math.sqrt(metrics.mean_squared_error(Y_test_fs7, RF.predict(X_test_fs7)))\n",
        "print('Random Forest RMSE on salary data:', RMSE_salRF)\n",
        "ExplVar_RF = metrics.explained_variance_score(Y_test_fs7, RF.predict(X_test_fs7))\n",
        "print('Random Forest Explained Variance on salary data:', ExplVar_RF) \n",
        "\n",
        "print(\"CV Runtime:\", time.time()-start_ts)"
      ],
      "execution_count": 0,
      "outputs": [
        {
          "output_type": "stream",
          "text": [
            "Random Forest Results on teacher salary data\n",
            "\n",
            "COEFFICIENT OF DETERMINATION - Train 0.4443478401093631\n",
            "COEFFICIENT OF DETERMINATION - Test 0.44660705399643064\n",
            "\n",
            "Random Forest RMSE on salary data: 1952.30739864316\n",
            "Random Forest Explained Variance on salary data: 0.44661049150428944\n",
            "CV Runtime: 20.476091384887695\n"
          ],
          "name": "stdout"
        }
      ]
    },
    {
      "cell_type": "code",
      "metadata": {
        "id": "u_-VVbkKP7hm",
        "colab_type": "code",
        "outputId": "92a0d132-8e53-4096-aea9-bf96965964e1",
        "colab": {
          "base_uri": "https://localhost:8080/",
          "height": 153
        }
      },
      "source": [
        "\n",
        "### RANDOM FORESTS WITH SEVEN FEATURES SELECTED w/ 6 max depth ###\n",
        "print('Random Forest Results on teacher salary data')\n",
        "print()\n",
        "start_ts=time.time()\n",
        "RF = RandomForestRegressor(n_estimators=100, criterion='mse', max_features=.33, max_depth=6, min_samples_split=2, random_state=12).fit(X_train_fs7,Y_train_fs7)\n",
        "\n",
        "train_r2_salaryRF = RF.score(X_train_fs7, Y_train_fs7)\n",
        "test_r2_salaryRF = RF.score(X_test_fs7, Y_test_fs7)\n",
        "print(\"COEFFICIENT OF DETERMINATION - Train\", train_r2_salaryRF)\n",
        "print(\"COEFFICIENT OF DETERMINATION - Test\", test_r2_salaryRF)\n",
        "print()\n",
        "\n",
        "RMSE_salRF = math.sqrt(metrics.mean_squared_error(Y_test_fs7, RF.predict(X_test_fs7)))\n",
        "print('Random Forest RMSE on salary data:', RMSE_salRF)\n",
        "ExplVar_RF = metrics.explained_variance_score(Y_test_fs7, RF.predict(X_test_fs7))\n",
        "print('Random Forest Explained Variance on salary data:', ExplVar_RF) \n",
        "\n",
        "print(\"CV Runtime:\", time.time()-start_ts)"
      ],
      "execution_count": 0,
      "outputs": [
        {
          "output_type": "stream",
          "text": [
            "Random Forest Results on teacher salary data\n",
            "\n",
            "COEFFICIENT OF DETERMINATION - Train 0.6732013370390858\n",
            "COEFFICIENT OF DETERMINATION - Test 0.6649871574951786\n",
            "\n",
            "Random Forest RMSE on salary data: 1519.015196067169\n",
            "Random Forest Explained Variance on salary data: 0.664988319021697\n",
            "CV Runtime: 52.01949501037598\n"
          ],
          "name": "stdout"
        }
      ]
    },
    {
      "cell_type": "code",
      "metadata": {
        "id": "VzWaI948QUAR",
        "colab_type": "code",
        "outputId": "d94cfc40-493d-4bf2-ab97-da9d8c5e5752",
        "colab": {
          "base_uri": "https://localhost:8080/",
          "height": 153
        }
      },
      "source": [
        "### RANDOM FORESTS WITH SEVEN FEATURES SELECTED w/ 7 max depth ###\n",
        "print('Random Forest Results on teacher salary data')\n",
        "print()\n",
        "start_ts=time.time()\n",
        "RF = RandomForestRegressor(n_estimators=100, criterion='mse', max_features=.33, max_depth=7, min_samples_split=2, random_state=12).fit(X_train_fs7,Y_train_fs7)\n",
        "\n",
        "train_r2_salaryRF = RF.score(X_train_fs7, Y_train_fs7)\n",
        "test_r2_salaryRF = RF.score(X_test_fs7, Y_test_fs7)\n",
        "print(\"COEFFICIENT OF DETERMINATION - Train\", train_r2_salaryRF)\n",
        "print(\"COEFFICIENT OF DETERMINATION - Test\", test_r2_salaryRF)\n",
        "print()\n",
        "\n",
        "RMSE_salRF = math.sqrt(metrics.mean_squared_error(Y_test_fs7, RF.predict(X_test_fs7)))\n",
        "print('Random Forest RMSE on salary data:', RMSE_salRF)\n",
        "ExplVar_RF = metrics.explained_variance_score(Y_test_fs7, RF.predict(X_test_fs7))\n",
        "print('Random Forest Explained Variance on salary data:', ExplVar_RF) \n",
        "\n",
        "print(\"CV Runtime:\", time.time()-start_ts)"
      ],
      "execution_count": 0,
      "outputs": [
        {
          "output_type": "stream",
          "text": [
            "Random Forest Results on teacher salary data\n",
            "\n",
            "COEFFICIENT OF DETERMINATION - Train 0.6994901604341252\n",
            "COEFFICIENT OF DETERMINATION - Test 0.6867625852885058\n",
            "\n",
            "Random Forest RMSE on salary data: 1468.8187441309665\n",
            "Random Forest Explained Variance on salary data: 0.6867634731496548\n",
            "CV Runtime: 57.81753945350647\n"
          ],
          "name": "stdout"
        }
      ]
    },
    {
      "cell_type": "code",
      "metadata": {
        "id": "q3F2jEwHQ6T5",
        "colab_type": "code",
        "outputId": "876dd52e-4b23-434b-8dd9-4783e142500f",
        "colab": {
          "base_uri": "https://localhost:8080/",
          "height": 153
        }
      },
      "source": [
        "### RANDOM FORESTS WITH FIVE FEATURES SELECTED w/ adjusting max features paramter ###\n",
        "print('Random Forest Results on teacher salary data')\n",
        "print()\n",
        "start_ts=time.time()\n",
        "RF = RandomForestRegressor(n_estimators=100, criterion='mse', max_depth=5, max_features = 0.25, min_samples_split=2, random_state=12).fit(X_train_fs7,Y_train_fs7)\n",
        "\n",
        "train_r2_salaryRF = RF.score(X_train_fs7, Y_train_fs7)\n",
        "test_r2_salaryRF = RF.score(X_test_fs7, Y_test_fs7)\n",
        "print(\"COEFFICIENT OF DETERMINATION - Train\", train_r2_salaryRF)\n",
        "print(\"COEFFICIENT OF DETERMINATION - Test\", test_r2_salaryRF)\n",
        "print()\n",
        "\n",
        "RMSE_salRF = math.sqrt(metrics.mean_squared_error(Y_test_fs7, RF.predict(X_test_fs7)))\n",
        "print('Random Forest RMSE on salary data:', RMSE_salRF)\n",
        "ExplVar_RF = metrics.explained_variance_score(Y_test_fs7, RF.predict(X_test_fs7))\n",
        "print('Random Forest Explained Variance on salary data:', ExplVar_RF) \n",
        "\n",
        "print(\"CV Runtime:\", time.time()-start_ts)"
      ],
      "execution_count": 0,
      "outputs": [
        {
          "output_type": "stream",
          "text": [
            "Random Forest Results on teacher salary data\n",
            "\n",
            "COEFFICIENT OF DETERMINATION - Train 0.6022346894654216\n",
            "COEFFICIENT OF DETERMINATION - Test 0.5998627372824186\n",
            "\n",
            "Random Forest RMSE on salary data: 1660.106267048145\n",
            "Random Forest Explained Variance on salary data: 0.5998643519688537\n",
            "CV Runtime: 33.69183015823364\n"
          ],
          "name": "stdout"
        }
      ]
    },
    {
      "cell_type": "code",
      "metadata": {
        "id": "8tQ1ednnQ7Hd",
        "colab_type": "code",
        "outputId": "1b37c138-1140-44fb-aa43-1f2d7988845c",
        "colab": {
          "base_uri": "https://localhost:8080/",
          "height": 153
        }
      },
      "source": [
        "### RANDOM FORESTS WITH SEVEN FEATURES SELECTED w/ min samples at 3 ###\n",
        "print('Random Forest Results on teacher salary data')\n",
        "print()\n",
        "start_ts=time.time()\n",
        "RF = RandomForestRegressor(n_estimators=100, criterion='mse', max_features=.33, max_depth=5, min_samples_split=3, random_state=12).fit(X_train_fs7,Y_train_fs7)\n",
        "\n",
        "train_r2_salaryRF = RF.score(X_train_fs7, Y_train_fs7)\n",
        "test_r2_salaryRF = RF.score(X_test_fs7, Y_test_fs7)\n",
        "print(\"COEFFICIENT OF DETERMINATION - Train\", train_r2_salaryRF)\n",
        "print(\"COEFFICIENT OF DETERMINATION - Test\", test_r2_salaryRF)\n",
        "print()\n",
        "\n",
        "RMSE_salRF = math.sqrt(metrics.mean_squared_error(Y_test_fs7, RF.predict(X_test_fs7)))\n",
        "print('Random Forest RMSE on salary data:', RMSE_salRF)\n",
        "ExplVar_RF = metrics.explained_variance_score(Y_test_fs7, RF.predict(X_test_fs7))\n",
        "print('Random Forest Explained Variance on salary data:', ExplVar_RF) \n",
        "\n",
        "print(\"CV Runtime:\", time.time()-start_ts)"
      ],
      "execution_count": 0,
      "outputs": [
        {
          "output_type": "stream",
          "text": [
            "Random Forest Results on teacher salary data\n",
            "\n",
            "COEFFICIENT OF DETERMINATION - Train 0.6409064723515681\n",
            "COEFFICIENT OF DETERMINATION - Test 0.6357298339623736\n",
            "\n",
            "Random Forest RMSE on salary data: 1583.956288639304\n",
            "Random Forest Explained Variance on salary data: 0.6357311007722777\n",
            "CV Runtime: 44.407559633255005\n"
          ],
          "name": "stdout"
        }
      ]
    },
    {
      "cell_type": "code",
      "metadata": {
        "id": "mfc5mJe4RkHR",
        "colab_type": "code",
        "outputId": "1d89653a-a41e-4044-ba08-f23462fedb94",
        "colab": {
          "base_uri": "https://localhost:8080/",
          "height": 153
        }
      },
      "source": [
        "### RANDOM FORESTS WITH SEVEN FEATURES SELECTED w/ min samples at 4 ###\n",
        "print('Random Forest Results on teacher salary data')\n",
        "print()\n",
        "start_ts=time.time()\n",
        "RF = RandomForestRegressor(n_estimators=100, criterion='mse', max_features=.33, max_depth=5, min_samples_split=4, random_state=12).fit(X_train_fs7,Y_train_fs7)\n",
        "\n",
        "train_r2_salaryRF = RF.score(X_train_fs7, Y_train_fs7)\n",
        "test_r2_salaryRF = RF.score(X_test_fs7, Y_test_fs7)\n",
        "print(\"COEFFICIENT OF DETERMINATION - Train\", train_r2_salaryRF)\n",
        "print(\"COEFFICIENT OF DETERMINATION - Test\", test_r2_salaryRF)\n",
        "print()\n",
        "\n",
        "RMSE_salRF = math.sqrt(metrics.mean_squared_error(Y_test_fs7, RF.predict(X_test_fs7)))\n",
        "print('Random Forest RMSE on salary data:', RMSE_salRF)\n",
        "ExplVar_RF = metrics.explained_variance_score(Y_test_fs7, RF.predict(X_test_fs7))\n",
        "print('Random Forest Explained Variance on salary data:', ExplVar_RF) \n",
        "\n",
        "print(\"CV Runtime:\", time.time()-start_ts)"
      ],
      "execution_count": 0,
      "outputs": [
        {
          "output_type": "stream",
          "text": [
            "Random Forest Results on teacher salary data\n",
            "\n",
            "COEFFICIENT OF DETERMINATION - Train 0.6401553892041767\n",
            "COEFFICIENT OF DETERMINATION - Test 0.6350513623311467\n",
            "\n",
            "Random Forest RMSE on salary data: 1585.4307018166935\n",
            "Random Forest Explained Variance on salary data: 0.6350526335932669\n",
            "CV Runtime: 43.75077271461487\n"
          ],
          "name": "stdout"
        }
      ]
    },
    {
      "cell_type": "code",
      "metadata": {
        "id": "P54HupfwSkT0",
        "colab_type": "code",
        "outputId": "123fcdb8-ee41-4ba8-f25e-1b7ec0bbf0b5",
        "colab": {
          "base_uri": "https://localhost:8080/",
          "height": 153
        }
      },
      "source": [
        "### RANDOM FORESTS WITH SEVEN FEATURES SELECTED - final model ###\n",
        "print('Random Forest Results on teacher salary data')\n",
        "print()\n",
        "start_ts=time.time()\n",
        "RF = RandomForestRegressor(n_estimators=50, criterion='mse', max_features=.33, max_depth=5, min_samples_split=2, random_state=12).fit(X_train_fs7,Y_train_fs7)\n",
        "\n",
        "train_r2_salaryRF = RF.score(X_train_fs7, Y_train_fs7)\n",
        "test_r2_salaryRF = RF.score(X_test_fs7, Y_test_fs7)\n",
        "print(\"COEFFICIENT OF DETERMINATION - Train\", train_r2_salaryRF)\n",
        "print(\"COEFFICIENT OF DETERMINATION - Test\", test_r2_salaryRF)\n",
        "print()\n",
        "\n",
        "RMSE_salRF = math.sqrt(metrics.mean_squared_error(Y_test_fs7, RF.predict(X_test_fs7)))\n",
        "print('Random Forest RMSE on salary data:', RMSE_salRF)\n",
        "ExplVar_RF = metrics.explained_variance_score(Y_test_fs7, RF.predict(X_test_fs7))\n",
        "print('Random Forest Explained Variance on salary data:', ExplVar_RF) \n",
        "\n",
        "print(\"CV Runtime:\", time.time()-start_ts)"
      ],
      "execution_count": 0,
      "outputs": [
        {
          "output_type": "stream",
          "text": [
            "Random Forest Results on teacher salary data\n",
            "\n",
            "COEFFICIENT OF DETERMINATION - Train 0.6409194115280918\n",
            "COEFFICIENT OF DETERMINATION - Test 0.6356874921272451\n",
            "\n",
            "Random Forest RMSE on salary data: 1584.048343484098\n",
            "Random Forest Explained Variance on salary data: 0.6356889322292254\n",
            "CV Runtime: 23.183361291885376\n"
          ],
          "name": "stdout"
        }
      ]
    },
    {
      "cell_type": "code",
      "metadata": {
        "id": "ehHMLe6oUN_7",
        "colab_type": "code",
        "outputId": "d65f00ed-c0a9-41b9-b6f1-972da46491ba",
        "colab": {
          "base_uri": "https://localhost:8080/",
          "height": 153
        }
      },
      "source": [
        "### RANDOM FORESTS WITH NO FEATURE SELECTION - final model ###\n",
        "print('Random Forest Results on teacher salary data')\n",
        "print()\n",
        "start_ts=time.time()\n",
        "RF = RandomForestRegressor(n_estimators=50, criterion='mse', max_features=.33, max_depth=5, min_samples_split=2, random_state=12).fit(X_train,Y_train)\n",
        "\n",
        "train_r2_salaryRF = RF.score(X_train, Y_train)\n",
        "test_r2_salaryRF = RF.score(X_test, Y_test)\n",
        "print(\"COEFFICIENT OF DETERMINATION - Train\", train_r2_salaryRF)\n",
        "print(\"COEFFICIENT OF DETERMINATION - Test\", test_r2_salaryRF)\n",
        "print()\n",
        "\n",
        "RMSE_salRF = math.sqrt(metrics.mean_squared_error(Y_test, RF.predict(X_test)))\n",
        "print('Random Forest RMSE on salary data:', RMSE_salRF)\n",
        "ExplVar_RF = metrics.explained_variance_score(Y_test, RF.predict(X_test))\n",
        "print('Random Forest Explained Variance on salary data:', ExplVar_RF) \n",
        "\n",
        "print(\"CV Runtime:\", time.time()-start_ts)"
      ],
      "execution_count": 0,
      "outputs": [
        {
          "output_type": "stream",
          "text": [
            "Random Forest Results on teacher salary data\n",
            "\n",
            "COEFFICIENT OF DETERMINATION - Train 0.6413960041875761\n",
            "COEFFICIENT OF DETERMINATION - Test 0.6358898800136852\n",
            "\n",
            "Random Forest RMSE on salary data: 1583.6082862164444\n",
            "Random Forest Explained Variance on salary data: 0.6358904766741384\n",
            "CV Runtime: 44.42801237106323\n"
          ],
          "name": "stdout"
        }
      ]
    }
  ]
}