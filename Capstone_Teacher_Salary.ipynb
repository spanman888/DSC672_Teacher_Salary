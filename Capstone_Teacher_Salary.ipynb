{
  "nbformat": 4,
  "nbformat_minor": 0,
  "metadata": {
    "colab": {
      "name": "Capstone_Teacher_Salary.ipynb",
      "version": "0.3.2",
      "provenance": [],
      "collapsed_sections": [],
      "include_colab_link": true
    },
    "kernelspec": {
      "name": "python3",
      "display_name": "Python 3"
    },
    "accelerator": "GPU"
  },
  "cells": [
    {
      "cell_type": "markdown",
      "metadata": {
        "id": "view-in-github",
        "colab_type": "text"
      },
      "source": [
        "<a href=\"https://colab.research.google.com/github/spanman888/DSC672_Teacher_Salary/blob/master/Capstone_Teacher_Salary.ipynb\" target=\"_parent\"><img src=\"https://colab.research.google.com/assets/colab-badge.svg\" alt=\"Open In Colab\"/></a>"
      ]
    },
    {
      "metadata": {
        "id": "rkwxIMxpD5I-",
        "colab_type": "code",
        "outputId": "61536e72-f567-4301-b47d-033af3cfdc9f",
        "colab": {
          "base_uri": "https://localhost:8080/",
          "height": 34
        }
      },
      "cell_type": "code",
      "source": [
        "import pandas as pd\n",
        "import os\n",
        "import numpy as np\n",
        "\n",
        "# In order to download files to local file system\n",
        "from google.colab import drive\n",
        "drive.mount('drive')\n",
        "\n"
      ],
      "execution_count": 48,
      "outputs": [
        {
          "output_type": "stream",
          "text": [
            "Drive already mounted at drive; to attempt to forcibly remount, call drive.mount(\"drive\", force_remount=True).\n"
          ],
          "name": "stdout"
        }
      ]
    },
    {
      "metadata": {
        "id": "ssMdHqW6FACM",
        "colab_type": "code",
        "colab": {}
      },
      "cell_type": "code",
      "source": [
        "#Load teacher data from GitHub\n",
        "url2003 = 'https://raw.githubusercontent.com/spanman888/DSC672_Teacher_Salary/master/DSC672_Data/2003_tsr_public_dataset.csv'\n",
        "url2004 = 'https://raw.githubusercontent.com/spanman888/DSC672_Teacher_Salary/master/DSC672_Data/2004_tsr_public_dataset.csv'\n",
        "url2005 = 'https://raw.githubusercontent.com/spanman888/DSC672_Teacher_Salary/master/DSC672_Data/2005_tsr_public_dataset.csv'\n",
        "url2006 = 'https://raw.githubusercontent.com/spanman888/DSC672_Teacher_Salary/master/DSC672_Data/2006_tsr_public_dataset.csv'\n",
        "url2007 = 'https://raw.githubusercontent.com/spanman888/DSC672_Teacher_Salary/master/DSC672_Data/2007_tsr_public_dataset.csv'\n",
        "url2008 = 'https://raw.githubusercontent.com/spanman888/DSC672_Teacher_Salary/master/DSC672_Data/2008_tsr_public_dataset.csv'\n",
        "url2009 = 'https://raw.githubusercontent.com/spanman888/DSC672_Teacher_Salary/master/DSC672_Data/2009_tsr_public_dataset.csv'\n",
        "url2010 = 'https://raw.githubusercontent.com/spanman888/DSC672_Teacher_Salary/master/DSC672_Data/2010_tsr_public_dataset.csv'\n",
        "url2011 = 'https://raw.githubusercontent.com/spanman888/DSC672_Teacher_Salary/master/DSC672_Data/2011_tsr_public_dataset.csv'\n",
        "url2012 = 'https://raw.githubusercontent.com/spanman888/DSC672_Teacher_Salary/master/DSC672_Data/2012-tsr-public-dataset.csv'\n",
        "\n",
        "#Load inflation data from GitHub\n",
        "inflation_GitHub = 'https://github.com/spanman888/DSC672_Teacher_Salary/blob/master/DSC672_Data/CPIAUCNS_2003_2019.xls?raw=true'"
      ],
      "execution_count": 0,
      "outputs": []
    },
    {
      "metadata": {
        "id": "RL8f2w0k9_6T",
        "colab_type": "code",
        "outputId": "614c2119-cd6a-43e2-a8f8-30451929cecb",
        "colab": {
          "base_uri": "https://localhost:8080/",
          "height": 178
        }
      },
      "cell_type": "code",
      "source": [
        "#Combine all teacher data into one dataframe\n",
        "df = pd.concat(map(pd.read_csv, [url2003, url2004,url2005,url2006,url2007,url2008,url2009,url2010,url2011,url2012]))"
      ],
      "execution_count": 50,
      "outputs": [
        {
          "output_type": "stream",
          "text": [
            "/usr/local/lib/python3.6/dist-packages/IPython/core/interactiveshell.py:2882: DtypeWarning: Columns (8) have mixed types. Specify dtype option on import or set low_memory=False.\n",
            "  exec(code_obj, self.user_global_ns, self.user_ns)\n",
            "/usr/local/lib/python3.6/dist-packages/IPython/core/interactiveshell.py:2882: DtypeWarning: Columns (7,34,38) have mixed types. Specify dtype option on import or set low_memory=False.\n",
            "  exec(code_obj, self.user_global_ns, self.user_ns)\n",
            "/usr/local/lib/python3.6/dist-packages/IPython/core/interactiveshell.py:2882: DtypeWarning: Columns (19) have mixed types. Specify dtype option on import or set low_memory=False.\n",
            "  exec(code_obj, self.user_global_ns, self.user_ns)\n",
            "/usr/local/lib/python3.6/dist-packages/IPython/core/interactiveshell.py:2882: DtypeWarning: Columns (1,7,8,14) have mixed types. Specify dtype option on import or set low_memory=False.\n",
            "  exec(code_obj, self.user_global_ns, self.user_ns)\n"
          ],
          "name": "stderr"
        }
      ]
    },
    {
      "metadata": {
        "id": "xYbOH8YhOVxC",
        "colab_type": "code",
        "outputId": "baf8f8b5-872b-4e20-e7c9-c35967adb7f2",
        "colab": {
          "base_uri": "https://localhost:8080/",
          "height": 1118
        }
      },
      "cell_type": "code",
      "source": [
        "#Count number of records for all variables\n",
        "df.count()"
      ],
      "execution_count": 51,
      "outputs": [
        {
          "output_type": "execute_result",
          "data": {
            "text/plain": [
              "fy                     1624887\n",
              "rcdt                   1624887\n",
              "dst_name               1624846\n",
              "dst_addr               1624846\n",
              "dst_city               1624846\n",
              "dst_st                 1624846\n",
              "dst_zip                1624846\n",
              "dst_zip_plus4          1624846\n",
              "sch_num                1624887\n",
              "sch_name               1624866\n",
              "sch_addr               1503783\n",
              "sch_city               1503783\n",
              "sch_st                 1503783\n",
              "sch_zip                1503783\n",
              "sch_zip_plus4          1503783\n",
              "last_name              1624887\n",
              "first_name             1624887\n",
              "mid_init               1624887\n",
              "gender                 1624887\n",
              "race_ethnicity_cd      1624559\n",
              "race_ethnicity_desc    1624468\n",
              "tsr_status_cd          1624887\n",
              "tsr_status_desc        1624887\n",
              "location_cd            1624878\n",
              "location_desc          1624833\n",
              "emply_type             1624887\n",
              "emply_desc             1624665\n",
              "salary                 1624887\n",
              "months_employed        1624887\n",
              "pct_emp                1624887\n",
              "                        ...   \n",
              "dist_exp               1624887\n",
              "state_exp              1624887\n",
              "out_of_state_exp       1624887\n",
              "bacc_coll              1624887\n",
              "bacc_coll_desc         1618497\n",
              "high_degre_cd          1624887\n",
              "high_degre_desc        1624884\n",
              "adv_coll               1624887\n",
              "adv_coll_desc           963950\n",
              "pos_cd                 1624887\n",
              "pos_desc               1624887\n",
              "low_grade              1623250\n",
              "low_grd_desc           1623249\n",
              "high_grade             1624887\n",
              "high_grd_desc          1624798\n",
              "assignment_1           1624887\n",
              "assign1_desc           1624887\n",
              "assignment_2           1624886\n",
              "assign2_desc            362420\n",
              "assignment_3           1624886\n",
              "assign3_desc            107427\n",
              "assignment_4           1146853\n",
              "assign4_desc             44375\n",
              "assignment_5           1146779\n",
              "assign5_desc             25630\n",
              "assignment_6           1146779\n",
              "assign6_desc              8442\n",
              "assignment_7           1146779\n",
              "assign7_desc              2490\n",
              "pct_admin              1624842\n",
              "Length: 61, dtype: int64"
            ]
          },
          "metadata": {
            "tags": []
          },
          "execution_count": 51
        }
      ]
    },
    {
      "metadata": {
        "id": "99sUzqbRbIYU",
        "colab_type": "code",
        "colab": {}
      },
      "cell_type": "code",
      "source": [
        "#moving salary to first column\n",
        "cols = df.columns.tolist()\n",
        "cols.insert(0, cols.pop(cols.index('salary')))\n",
        "cols\n",
        "\n",
        "df = df.reindex(columns= cols)"
      ],
      "execution_count": 0,
      "outputs": []
    },
    {
      "metadata": {
        "id": "tL57-Fp6DJ69",
        "colab_type": "code",
        "colab": {}
      },
      "cell_type": "code",
      "source": [
        "#Create column with first three of zip\n",
        "df['first_3'] = df['dst_zip'].astype(str).str[0:3]\n",
        "\n",
        "#Assign suburb zips to a list\n",
        "suburb = ['600','601','603','604','605','607','608']\n",
        "\n",
        "#Create new Zip_Type column and assign based on first three of zip or where city is Chicago\n",
        "#A suburb is any first three of ZIP that touches the 606XX zip code and is not Chicago\n",
        "df['Zip_Type'] = np.where(df[\"first_3\"].isin(suburb), \"Suburb\", \"Other\")\n",
        "df['Zip_Type'] = np.where(df[\"dst_city\"] == 'Chicago', 'Chicago', df[\"Zip_Type\"])"
      ],
      "execution_count": 0,
      "outputs": []
    },
    {
      "metadata": {
        "id": "d7zqqIi-QhbZ",
        "colab_type": "code",
        "outputId": "7821fd3e-ed9f-496f-ede1-b5b250595e03",
        "colab": {
          "base_uri": "https://localhost:8080/",
          "height": 87
        }
      },
      "cell_type": "code",
      "source": [
        "print(df['Zip_Type'].value_counts())"
      ],
      "execution_count": 54,
      "outputs": [
        {
          "output_type": "stream",
          "text": [
            "Suburb     790630\n",
            "Other      558018\n",
            "Chicago    276239\n",
            "Name: Zip_Type, dtype: int64\n"
          ],
          "name": "stdout"
        }
      ]
    },
    {
      "metadata": {
        "id": "rgzDougDbq5c",
        "colab_type": "code",
        "colab": {}
      },
      "cell_type": "code",
      "source": [
        "#Loading inflation data\n",
        "inflation = pd.read_excel(inflation_GitHub, sheet_name='FRED Graph')\n",
        "\n",
        "#Indexing inflation to latest value in data (2019 data)\n",
        "inflation['CPI_Multiplier'] = inflation['CPIAUCNS'].iloc[-1] / inflation['CPIAUCNS']\n",
        "\n",
        "#Breaking out year and date columns\n",
        "inflation['year'] = inflation['observation_date'].dt.year\n",
        "inflation['month'] = inflation['observation_date'].dt.month\n",
        "\n",
        "#Only keeping Jan 1 values for each year\n",
        "inflation = inflation[inflation['month'] == 1]\n",
        "\n",
        "#Only keeping CPI Multiplier and year\n",
        "inflation = inflation.drop(['observation_date','CPIAUCNS', 'month'], axis=1)\n",
        "\n",
        "#Matching column names with data\n",
        "inflation.columns = ['CPI_Multiplier', 'fy']\n",
        "\n",
        "# merge dataframe\n",
        "df = pd.merge(df, inflation, how='left', on='fy')\n",
        "\n",
        "#Inflation adjusting salary by multiplying salary by CPI Multiplier\n",
        "df['CPIAdjSalary'] = df['salary'] * df['CPI_Multiplier'] \n"
      ],
      "execution_count": 0,
      "outputs": []
    },
    {
      "metadata": {
        "id": "UtPb9YX6i48q",
        "colab_type": "code",
        "colab": {}
      },
      "cell_type": "code",
      "source": [
        "#Adding Inflation Adjusted Salary per Month\n",
        "df['AdjSalMonth'] = df['CPIAdjSalary'] / df['months_employed'] \n",
        "\n",
        "#Adding Non-Inflation Adjusted Salary per Month\n",
        "df['SalMonth'] = df['salary'] / df['months_employed'] "
      ],
      "execution_count": 0,
      "outputs": []
    },
    {
      "metadata": {
        "id": "DuzVU_XykSRJ",
        "colab_type": "code",
        "colab": {}
      },
      "cell_type": "code",
      "source": [
        "#moving CPIAdjSalary to first column\n",
        "cols = df.columns.tolist()\n",
        "cols.insert(0, cols.pop(cols.index('CPIAdjSalary')))\n",
        "cols\n",
        "\n",
        "df = df.reindex(columns= cols)\n"
      ],
      "execution_count": 0,
      "outputs": []
    },
    {
      "metadata": {
        "id": "NabaCjDEkg4v",
        "colab_type": "code",
        "colab": {}
      },
      "cell_type": "code",
      "source": [
        "#removing assignment_4 thru assign7_desc variables; tsr_status variables; state variables; teacher names columns\n",
        "\n",
        "df = df.drop(['assignment_4', 'assign4_desc', 'assignment_5','assign5_desc','assignment_6','assign6_desc','assignment_7','assign7_desc', 'dst_st', 'sch_st','tsr_status_cd', 'tsr_status_desc', 'mid_init','last_name','first_name'], axis=1)\n"
      ],
      "execution_count": 0,
      "outputs": []
    },
    {
      "metadata": {
        "id": "Crc2-MfoWxqN",
        "colab_type": "code",
        "colab": {}
      },
      "cell_type": "code",
      "source": [
        "#removing info on specific bachelor/advanced degree schools\n",
        "df = df.drop(['bacc_coll','bacc_coll_desc','adv_coll','adv_coll_desc'],axis=1)\n"
      ],
      "execution_count": 0,
      "outputs": []
    },
    {
      "metadata": {
        "id": "ahYoXi2x_QJR",
        "colab_type": "code",
        "colab": {}
      },
      "cell_type": "code",
      "source": [
        "#creating variables denoting 2 or 3 assignments\n",
        "def assign(x):\n",
        "    if x > 0:\n",
        "      return 1\n",
        "    else:\n",
        "      return 0\n",
        "\n",
        "df[\"multi_assign_2\"] = df[\"assignment_2\"].apply(assign)\n",
        "df[\"multi_assign_3\"] = df[\"assignment_3\"].apply(assign)"
      ],
      "execution_count": 0,
      "outputs": []
    },
    {
      "metadata": {
        "id": "DfIeywnJVUoX",
        "colab_type": "code",
        "colab": {}
      },
      "cell_type": "code",
      "source": [
        "#removing assignment_2 and assignment_3 variables\n",
        "df = df.drop(['assignment_2','assign2_desc','assignment_3','assign3_desc'],axis=1)"
      ],
      "execution_count": 0,
      "outputs": []
    },
    {
      "metadata": {
        "id": "FH4989KoV3i7",
        "colab_type": "code",
        "colab": {}
      },
      "cell_type": "code",
      "source": [
        "#removing pct_emp varialbe - same values as fte; also removing emply_type\n",
        "df = df.drop(['pct_emp', 'emply_type'],axis=1)"
      ],
      "execution_count": 0,
      "outputs": []
    },
    {
      "metadata": {
        "id": "e0tt7t4CqDcQ",
        "colab_type": "code",
        "colab": {}
      },
      "cell_type": "code",
      "source": [
        "#removing zip code + 4 features variable - postal route not useful for analysis\n",
        "df = df.drop(['dst_zip_plus4'],axis=1)"
      ],
      "execution_count": 0,
      "outputs": []
    },
    {
      "metadata": {
        "id": "h9b10JC8yekL",
        "colab_type": "code",
        "colab": {
          "base_uri": "https://localhost:8080/",
          "height": 247
        },
        "outputId": "0d021046-c0d3-4d34-81c0-c5b0f58f4295"
      },
      "cell_type": "code",
      "source": [
        "!pip install missingno\n",
        "import missingno as msno"
      ],
      "execution_count": 64,
      "outputs": [
        {
          "output_type": "stream",
          "text": [
            "Requirement already satisfied: missingno in /usr/local/lib/python3.6/dist-packages (0.4.1)\n",
            "Requirement already satisfied: matplotlib in /usr/local/lib/python3.6/dist-packages (from missingno) (3.0.3)\n",
            "Requirement already satisfied: seaborn in /usr/local/lib/python3.6/dist-packages (from missingno) (0.9.0)\n",
            "Requirement already satisfied: numpy in /usr/local/lib/python3.6/dist-packages (from missingno) (1.16.3)\n",
            "Requirement already satisfied: scipy in /usr/local/lib/python3.6/dist-packages (from missingno) (1.2.1)\n",
            "Requirement already satisfied: pyparsing!=2.0.4,!=2.1.2,!=2.1.6,>=2.0.1 in /usr/local/lib/python3.6/dist-packages (from matplotlib->missingno) (2.4.0)\n",
            "Requirement already satisfied: cycler>=0.10 in /usr/local/lib/python3.6/dist-packages (from matplotlib->missingno) (0.10.0)\n",
            "Requirement already satisfied: python-dateutil>=2.1 in /usr/local/lib/python3.6/dist-packages (from matplotlib->missingno) (2.5.3)\n",
            "Requirement already satisfied: kiwisolver>=1.0.1 in /usr/local/lib/python3.6/dist-packages (from matplotlib->missingno) (1.0.1)\n",
            "Requirement already satisfied: pandas>=0.15.2 in /usr/local/lib/python3.6/dist-packages (from seaborn->missingno) (0.24.2)\n",
            "Requirement already satisfied: six in /usr/local/lib/python3.6/dist-packages (from cycler>=0.10->matplotlib->missingno) (1.12.0)\n",
            "Requirement already satisfied: setuptools in /usr/local/lib/python3.6/dist-packages (from kiwisolver>=1.0.1->matplotlib->missingno) (40.9.0)\n",
            "Requirement already satisfied: pytz>=2011k in /usr/local/lib/python3.6/dist-packages (from pandas>=0.15.2->seaborn->missingno) (2018.9)\n"
          ],
          "name": "stdout"
        }
      ]
    },
    {
      "metadata": {
        "id": "vrMKYfSeyNP0",
        "colab_type": "code",
        "colab": {
          "base_uri": "https://localhost:8080/",
          "height": 756
        },
        "outputId": "851819e5-ec17-474a-be0c-6dfbf99097de"
      },
      "cell_type": "code",
      "source": [
        "msno.matrix(df)"
      ],
      "execution_count": 65,
      "outputs": [
        {
          "output_type": "execute_result",
          "data": {
            "text/plain": [
              "<matplotlib.axes._subplots.AxesSubplot at 0x7f490fd122b0>"
            ]
          },
          "metadata": {
            "tags": []
          },
          "execution_count": 65
        },
        {
          "output_type": "display_data",
          "data": {
            "image/png": "[encoded data removed]",
            "text/plain": [
              "<Figure size 1800x720 with 2 Axes>"
            ]
          },
          "metadata": {
            "tags": []
          }
        }
      ]
    },
    {
      "metadata": {
        "id": "DlcHxMzZzhSS",
        "colab_type": "text"
      },
      "cell_type": "markdown",
      "source": [
        "This shows that most of the missing data are in the school location columns. There doesn't seem to be a pattern of the missing values. The highest amount of missing variables is 7 for a particular (out of 39 possible variables at this point)."
      ]
    },
    {
      "metadata": {
        "id": "upOKEjGeyOyg",
        "colab_type": "code",
        "colab": {
          "base_uri": "https://localhost:8080/",
          "height": 840
        },
        "outputId": "99620e6e-c420-419a-f227-774871a46719"
      },
      "cell_type": "code",
      "source": [
        "#Nullity correlation ranges from -1 (if one variable appears the other definitely does not) to 0 (variables appearing or not appearing have no effect on one another) \n",
        "#to 1 (if one variable appears the other definitely also does).\n",
        "msno.heatmap(df)"
      ],
      "execution_count": 66,
      "outputs": [
        {
          "output_type": "execute_result",
          "data": {
            "text/plain": [
              "<matplotlib.axes._subplots.AxesSubplot at 0x7f48f8b0b630>"
            ]
          },
          "metadata": {
            "tags": []
          },
          "execution_count": 66
        },
        {
          "output_type": "display_data",
          "data": {
            "image/png": "[encoded data removed]",
            "text/plain": [
              "<Figure size 1440x864 with 1 Axes>"
            ]
          },
          "metadata": {
            "tags": []
          }
        }
      ]
    },
    {
      "metadata": {
        "id": "_GThbYMny_BM",
        "colab_type": "text"
      },
      "cell_type": "markdown",
      "source": [
        "The above suggests that when there is some district information there is all district information. There is also a slight correlation between having the low grade variable and race ethnicity information. There doesn't seem to be much correlation between other missing variables. Both of these plots suggest we can remove missing variables as there are not clear patterns to the missing data and we have enough full records. "
      ]
    },
    {
      "metadata": {
        "id": "CtQODqjMc6TZ",
        "colab_type": "code",
        "colab": {}
      },
      "cell_type": "code",
      "source": [
        "#dropping all rows with NA values\n",
        "df = df.dropna()"
      ],
      "execution_count": 0,
      "outputs": []
    },
    {
      "metadata": {
        "id": "b0fQwQ1jbPK4",
        "colab_type": "code",
        "outputId": "48ed1079-1f24-4e8e-f4f0-ef874ae895ce",
        "colab": {
          "base_uri": "https://localhost:8080/",
          "height": 34
        }
      },
      "cell_type": "code",
      "source": [
        "#row count\n",
        "df.shape"
      ],
      "execution_count": 68,
      "outputs": [
        {
          "output_type": "execute_result",
          "data": {
            "text/plain": [
              "(1501683, 43)"
            ]
          },
          "metadata": {
            "tags": []
          },
          "execution_count": 68
        }
      ]
    },
    {
      "metadata": {
        "id": "xnfyeJ1BUux2",
        "colab_type": "code",
        "colab": {}
      },
      "cell_type": "code",
      "source": [
        "#Calculate Z-Scores for Adjusted Salary per Month and add as a column\n",
        "from scipy import stats\n",
        "df['z_score'] = np.abs(stats.zscore(df['AdjSalMonth']))"
      ],
      "execution_count": 0,
      "outputs": []
    },
    {
      "metadata": {
        "id": "txniQrHeYfD3",
        "colab_type": "code",
        "outputId": "4c4f75b7-06f7-402c-ce14-a924439a3685",
        "colab": {
          "base_uri": "https://localhost:8080/",
          "height": 301
        }
      },
      "cell_type": "code",
      "source": [
        "import matplotlib.pyplot as plt\n",
        "plt.scatter(x=df.index, y='z_score', data=df)\n",
        "plt.title('Z-Scores')\n",
        "plt.ylabel('abs(z-score)')\n",
        "plt.xlabel('Index')\n",
        "plt.axhline(y=3, color='red')\n",
        "plt.show()"
      ],
      "execution_count": 70,
      "outputs": [
        {
          "output_type": "display_data",
          "data": {
            "image/png": "[encoded data removed]",
            "text/plain": [
              "<Figure size 432x288 with 1 Axes>"
            ]
          },
          "metadata": {
            "tags": []
          }
        }
      ]
    },
    {
      "metadata": {
        "id": "rsoABFW4RzY-",
        "colab_type": "code",
        "outputId": "63454d48-c035-4f10-960f-be50b638f814",
        "colab": {
          "base_uri": "https://localhost:8080/",
          "height": 307
        }
      },
      "cell_type": "code",
      "source": [
        "#Outliers are where absolute value of z-score > 3 or salary is equal to 0\n",
        "df_outliers = df[(df[\"z_score\"] > 3 ) | (df[\"salary\"] < 1 )]\n",
        "df_outliers.describe()"
      ],
      "execution_count": 71,
      "outputs": [
        {
          "output_type": "execute_result",
          "data": {
            "text/html": [
              "<div>\n",
              "<style scoped>\n",
              "    .dataframe tbody tr th:only-of-type {\n",
              "        vertical-align: middle;\n",
              "    }\n",
              "\n",
              "    .dataframe tbody tr th {\n",
              "        vertical-align: top;\n",
              "    }\n",
              "\n",
              "    .dataframe thead th {\n",
              "        text-align: right;\n",
              "    }\n",
              "</style>\n",
              "<table border=\"1\" class=\"dataframe\">\n",
              "  <thead>\n",
              "    <tr style=\"text-align: right;\">\n",
              "      <th></th>\n",
              "      <th>CPIAdjSalary</th>\n",
              "      <th>salary</th>\n",
              "      <th>fy</th>\n",
              "      <th>dst_zip</th>\n",
              "      <th>sch_zip</th>\n",
              "      <th>months_employed</th>\n",
              "      <th>fte</th>\n",
              "      <th>dist_exp</th>\n",
              "      <th>state_exp</th>\n",
              "      <th>out_of_state_exp</th>\n",
              "      <th>high_degre_cd</th>\n",
              "      <th>pos_cd</th>\n",
              "      <th>assignment_1</th>\n",
              "      <th>pct_admin</th>\n",
              "      <th>CPI_Multiplier</th>\n",
              "      <th>AdjSalMonth</th>\n",
              "      <th>SalMonth</th>\n",
              "      <th>multi_assign_2</th>\n",
              "      <th>multi_assign_3</th>\n",
              "      <th>z_score</th>\n",
              "    </tr>\n",
              "  </thead>\n",
              "  <tbody>\n",
              "    <tr>\n",
              "      <th>count</th>\n",
              "      <td>13537.000000</td>\n",
              "      <td>13537.000000</td>\n",
              "      <td>13537.000000</td>\n",
              "      <td>13537.000000</td>\n",
              "      <td>13537.000000</td>\n",
              "      <td>13537.000000</td>\n",
              "      <td>13537.000000</td>\n",
              "      <td>13537.000000</td>\n",
              "      <td>13537.000000</td>\n",
              "      <td>13537.000000</td>\n",
              "      <td>13537.000000</td>\n",
              "      <td>13537.000000</td>\n",
              "      <td>13537.000000</td>\n",
              "      <td>13537.000000</td>\n",
              "      <td>13537.000000</td>\n",
              "      <td>13537.000000</td>\n",
              "      <td>13537.000000</td>\n",
              "      <td>13537.000000</td>\n",
              "      <td>13537.000000</td>\n",
              "      <td>13537.000000</td>\n",
              "    </tr>\n",
              "    <tr>\n",
              "      <th>mean</th>\n",
              "      <td>112798.228419</td>\n",
              "      <td>89729.864534</td>\n",
              "      <td>2007.910615</td>\n",
              "      <td>60477.888454</td>\n",
              "      <td>60482.227229</td>\n",
              "      <td>9.131418</td>\n",
              "      <td>89.176996</td>\n",
              "      <td>19.150395</td>\n",
              "      <td>23.283187</td>\n",
              "      <td>0.573879</td>\n",
              "      <td>4.850632</td>\n",
              "      <td>22.782965</td>\n",
              "      <td>155.551082</td>\n",
              "      <td>17.597843</td>\n",
              "      <td>1.237857</td>\n",
              "      <td>13441.675033</td>\n",
              "      <td>10672.540803</td>\n",
              "      <td>0.260767</td>\n",
              "      <td>0.077270</td>\n",
              "      <td>3.711058</td>\n",
              "    </tr>\n",
              "    <tr>\n",
              "      <th>std</th>\n",
              "      <td>82290.217929</td>\n",
              "      <td>65819.585095</td>\n",
              "      <td>2.825838</td>\n",
              "      <td>659.185779</td>\n",
              "      <td>655.251382</td>\n",
              "      <td>2.208563</td>\n",
              "      <td>25.218560</td>\n",
              "      <td>12.152799</td>\n",
              "      <td>11.868240</td>\n",
              "      <td>2.243821</td>\n",
              "      <td>0.549418</td>\n",
              "      <td>11.207440</td>\n",
              "      <td>144.452174</td>\n",
              "      <td>36.840434</td>\n",
              "      <td>0.086886</td>\n",
              "      <td>11120.624880</td>\n",
              "      <td>8788.316107</td>\n",
              "      <td>0.439069</td>\n",
              "      <td>0.267029</td>\n",
              "      <td>2.435648</td>\n",
              "    </tr>\n",
              "    <tr>\n",
              "      <th>min</th>\n",
              "      <td>0.000000</td>\n",
              "      <td>0.000000</td>\n",
              "      <td>2003.000000</td>\n",
              "      <td>60002.000000</td>\n",
              "      <td>60002.000000</td>\n",
              "      <td>1.000000</td>\n",
              "      <td>0.000000</td>\n",
              "      <td>0.000000</td>\n",
              "      <td>0.000000</td>\n",
              "      <td>0.000000</td>\n",
              "      <td>1.000000</td>\n",
              "      <td>1.000000</td>\n",
              "      <td>1.000000</td>\n",
              "      <td>0.000000</td>\n",
              "      <td>1.121488</td>\n",
              "      <td>0.000000</td>\n",
              "      <td>0.000000</td>\n",
              "      <td>0.000000</td>\n",
              "      <td>0.000000</td>\n",
              "      <td>2.837603</td>\n",
              "    </tr>\n",
              "    <tr>\n",
              "      <th>25%</th>\n",
              "      <td>0.000000</td>\n",
              "      <td>0.000000</td>\n",
              "      <td>2006.000000</td>\n",
              "      <td>60067.000000</td>\n",
              "      <td>60068.000000</td>\n",
              "      <td>9.000000</td>\n",
              "      <td>100.000000</td>\n",
              "      <td>7.000000</td>\n",
              "      <td>14.000000</td>\n",
              "      <td>0.000000</td>\n",
              "      <td>5.000000</td>\n",
              "      <td>19.000000</td>\n",
              "      <td>36.000000</td>\n",
              "      <td>0.000000</td>\n",
              "      <td>1.173130</td>\n",
              "      <td>0.000000</td>\n",
              "      <td>0.000000</td>\n",
              "      <td>0.000000</td>\n",
              "      <td>0.000000</td>\n",
              "      <td>2.837605</td>\n",
              "    </tr>\n",
              "    <tr>\n",
              "      <th>50%</th>\n",
              "      <td>156168.423657</td>\n",
              "      <td>122778.000000</td>\n",
              "      <td>2008.000000</td>\n",
              "      <td>60201.000000</td>\n",
              "      <td>60201.000000</td>\n",
              "      <td>10.000000</td>\n",
              "      <td>100.000000</td>\n",
              "      <td>20.000000</td>\n",
              "      <td>28.000000</td>\n",
              "      <td>0.000000</td>\n",
              "      <td>5.000000</td>\n",
              "      <td>22.000000</td>\n",
              "      <td>97.000000</td>\n",
              "      <td>0.000000</td>\n",
              "      <td>1.204292</td>\n",
              "      <td>16837.648435</td>\n",
              "      <td>13253.632222</td>\n",
              "      <td>0.000000</td>\n",
              "      <td>0.000000</td>\n",
              "      <td>3.185102</td>\n",
              "    </tr>\n",
              "    <tr>\n",
              "      <th>75%</th>\n",
              "      <td>172733.827711</td>\n",
              "      <td>140390.000000</td>\n",
              "      <td>2010.000000</td>\n",
              "      <td>60521.000000</td>\n",
              "      <td>60525.000000</td>\n",
              "      <td>10.000000</td>\n",
              "      <td>100.000000</td>\n",
              "      <td>31.000000</td>\n",
              "      <td>33.000000</td>\n",
              "      <td>0.000000</td>\n",
              "      <td>5.000000</td>\n",
              "      <td>22.000000</td>\n",
              "      <td>220.000000</td>\n",
              "      <td>0.000000</td>\n",
              "      <td>1.281906</td>\n",
              "      <td>17975.960437</td>\n",
              "      <td>14660.292000</td>\n",
              "      <td>1.000000</td>\n",
              "      <td>0.000000</td>\n",
              "      <td>3.592268</td>\n",
              "    </tr>\n",
              "    <tr>\n",
              "      <th>max</th>\n",
              "      <td>566105.161997</td>\n",
              "      <td>441612.000000</td>\n",
              "      <td>2012.000000</td>\n",
              "      <td>62995.000000</td>\n",
              "      <td>62995.000000</td>\n",
              "      <td>12.000000</td>\n",
              "      <td>100.000000</td>\n",
              "      <td>57.000000</td>\n",
              "      <td>57.000000</td>\n",
              "      <td>34.000000</td>\n",
              "      <td>6.000000</td>\n",
              "      <td>64.000000</td>\n",
              "      <td>606.000000</td>\n",
              "      <td>100.000000</td>\n",
              "      <td>1.399020</td>\n",
              "      <td>137608.709223</td>\n",
              "      <td>109575.080000</td>\n",
              "      <td>1.000000</td>\n",
              "      <td>1.000000</td>\n",
              "      <td>46.384051</td>\n",
              "    </tr>\n",
              "  </tbody>\n",
              "</table>\n",
              "</div>"
            ],
            "text/plain": [
              "        CPIAdjSalary         salary            fy       dst_zip       sch_zip  \\\n",
              "count   13537.000000   13537.000000  13537.000000  13537.000000  13537.000000   \n",
              "mean   112798.228419   89729.864534   2007.910615  60477.888454  60482.227229   \n",
              "std     82290.217929   65819.585095      2.825838    659.185779    655.251382   \n",
              "min         0.000000       0.000000   2003.000000  60002.000000  60002.000000   \n",
              "25%         0.000000       0.000000   2006.000000  60067.000000  60068.000000   \n",
              "50%    156168.423657  122778.000000   2008.000000  60201.000000  60201.000000   \n",
              "75%    172733.827711  140390.000000   2010.000000  60521.000000  60525.000000   \n",
              "max    566105.161997  441612.000000   2012.000000  62995.000000  62995.000000   \n",
              "\n",
              "       months_employed           fte      dist_exp     state_exp  \\\n",
              "count     13537.000000  13537.000000  13537.000000  13537.000000   \n",
              "mean          9.131418     89.176996     19.150395     23.283187   \n",
              "std           2.208563     25.218560     12.152799     11.868240   \n",
              "min           1.000000      0.000000      0.000000      0.000000   \n",
              "25%           9.000000    100.000000      7.000000     14.000000   \n",
              "50%          10.000000    100.000000     20.000000     28.000000   \n",
              "75%          10.000000    100.000000     31.000000     33.000000   \n",
              "max          12.000000    100.000000     57.000000     57.000000   \n",
              "\n",
              "       out_of_state_exp  high_degre_cd        pos_cd  assignment_1  \\\n",
              "count      13537.000000   13537.000000  13537.000000  13537.000000   \n",
              "mean           0.573879       4.850632     22.782965    155.551082   \n",
              "std            2.243821       0.549418     11.207440    144.452174   \n",
              "min            0.000000       1.000000      1.000000      1.000000   \n",
              "25%            0.000000       5.000000     19.000000     36.000000   \n",
              "50%            0.000000       5.000000     22.000000     97.000000   \n",
              "75%            0.000000       5.000000     22.000000    220.000000   \n",
              "max           34.000000       6.000000     64.000000    606.000000   \n",
              "\n",
              "          pct_admin  CPI_Multiplier    AdjSalMonth       SalMonth  \\\n",
              "count  13537.000000    13537.000000   13537.000000   13537.000000   \n",
              "mean      17.597843        1.237857   13441.675033   10672.540803   \n",
              "std       36.840434        0.086886   11120.624880    8788.316107   \n",
              "min        0.000000        1.121488       0.000000       0.000000   \n",
              "25%        0.000000        1.173130       0.000000       0.000000   \n",
              "50%        0.000000        1.204292   16837.648435   13253.632222   \n",
              "75%        0.000000        1.281906   17975.960437   14660.292000   \n",
              "max      100.000000        1.399020  137608.709223  109575.080000   \n",
              "\n",
              "       multi_assign_2  multi_assign_3       z_score  \n",
              "count    13537.000000    13537.000000  13537.000000  \n",
              "mean         0.260767        0.077270      3.711058  \n",
              "std          0.439069        0.267029      2.435648  \n",
              "min          0.000000        0.000000      2.837603  \n",
              "25%          0.000000        0.000000      2.837605  \n",
              "50%          0.000000        0.000000      3.185102  \n",
              "75%          1.000000        0.000000      3.592268  \n",
              "max          1.000000        1.000000     46.384051  "
            ]
          },
          "metadata": {
            "tags": []
          },
          "execution_count": 71
        }
      ]
    },
    {
      "metadata": {
        "id": "NJOOfjO1U032",
        "colab_type": "code",
        "outputId": "57edb87b-8995-4fc4-d3a4-c7c71389df3b",
        "colab": {
          "base_uri": "https://localhost:8080/",
          "height": 301
        }
      },
      "cell_type": "code",
      "source": [
        "import matplotlib.pyplot as plt\n",
        "plt.scatter(x=df_outliers.AdjSalMonth, y=df_outliers.fte, data=df_outliers)\n",
        "plt.title('Salary and FTE')\n",
        "plt.ylabel('FTE')\n",
        "plt.xlabel('Monthly CPI Adjusted Salary')\n",
        "plt.show()"
      ],
      "execution_count": 72,
      "outputs": [
        {
          "output_type": "display_data",
          "data": {
            "image/png": "[encoded data removed]",
            "text/plain": [
              "<Figure size 432x288 with 1 Axes>"
            ]
          },
          "metadata": {
            "tags": []
          }
        }
      ]
    },
    {
      "metadata": {
        "id": "miftfIM6V3De",
        "colab_type": "code",
        "outputId": "ef4cea22-c491-4a50-f0ce-6ca501d6151b",
        "colab": {
          "base_uri": "https://localhost:8080/",
          "height": 301
        }
      },
      "cell_type": "code",
      "source": [
        "import matplotlib.pyplot as plt\n",
        "plt.scatter(x=df_outliers.AdjSalMonth, y=df_outliers.pct_admin, data=df_outliers)\n",
        "plt.title('Salary and Percent Administrative')\n",
        "plt.ylabel('Percent Admin')\n",
        "plt.xlabel('Monthly CPI Adjusted Salary')\n",
        "plt.show()"
      ],
      "execution_count": 73,
      "outputs": [
        {
          "output_type": "display_data",
          "data": {
            "image/png": "[encoded data removed]",
            "text/plain": [
              "<Figure size 432x288 with 1 Axes>"
            ]
          },
          "metadata": {
            "tags": []
          }
        }
      ]
    },
    {
      "metadata": {
        "id": "JeK9r0aVZSth",
        "colab_type": "text"
      },
      "cell_type": "markdown",
      "source": [
        "There is a high percentage of outliers at both 0 and 100% administrative."
      ]
    },
    {
      "metadata": {
        "id": "W-7IUmx6Rf5P",
        "colab_type": "code",
        "outputId": "a1751e3c-7d92-4361-817c-419d4ab7db26",
        "colab": {
          "base_uri": "https://localhost:8080/",
          "height": 307
        }
      },
      "cell_type": "code",
      "source": [
        "df_not_outliers= df[(df[\"z_score\"] < 3) & (df[\"salary\"] != 0)]\n",
        "df_not_outliers.describe()"
      ],
      "execution_count": 74,
      "outputs": [
        {
          "output_type": "execute_result",
          "data": {
            "text/html": [
              "<div>\n",
              "<style scoped>\n",
              "    .dataframe tbody tr th:only-of-type {\n",
              "        vertical-align: middle;\n",
              "    }\n",
              "\n",
              "    .dataframe tbody tr th {\n",
              "        vertical-align: top;\n",
              "    }\n",
              "\n",
              "    .dataframe thead th {\n",
              "        text-align: right;\n",
              "    }\n",
              "</style>\n",
              "<table border=\"1\" class=\"dataframe\">\n",
              "  <thead>\n",
              "    <tr style=\"text-align: right;\">\n",
              "      <th></th>\n",
              "      <th>CPIAdjSalary</th>\n",
              "      <th>salary</th>\n",
              "      <th>fy</th>\n",
              "      <th>dst_zip</th>\n",
              "      <th>sch_zip</th>\n",
              "      <th>months_employed</th>\n",
              "      <th>fte</th>\n",
              "      <th>dist_exp</th>\n",
              "      <th>state_exp</th>\n",
              "      <th>out_of_state_exp</th>\n",
              "      <th>high_degre_cd</th>\n",
              "      <th>pos_cd</th>\n",
              "      <th>assignment_1</th>\n",
              "      <th>pct_admin</th>\n",
              "      <th>CPI_Multiplier</th>\n",
              "      <th>AdjSalMonth</th>\n",
              "      <th>SalMonth</th>\n",
              "      <th>multi_assign_2</th>\n",
              "      <th>multi_assign_3</th>\n",
              "      <th>z_score</th>\n",
              "    </tr>\n",
              "  </thead>\n",
              "  <tbody>\n",
              "    <tr>\n",
              "      <th>count</th>\n",
              "      <td>1.488147e+06</td>\n",
              "      <td>1.488147e+06</td>\n",
              "      <td>1.488147e+06</td>\n",
              "      <td>1.488147e+06</td>\n",
              "      <td>1.488147e+06</td>\n",
              "      <td>1.488147e+06</td>\n",
              "      <td>1.488147e+06</td>\n",
              "      <td>1.488147e+06</td>\n",
              "      <td>1.488147e+06</td>\n",
              "      <td>1.488147e+06</td>\n",
              "      <td>1.488147e+06</td>\n",
              "      <td>1.488147e+06</td>\n",
              "      <td>1.488147e+06</td>\n",
              "      <td>1.488147e+06</td>\n",
              "      <td>1.488147e+06</td>\n",
              "      <td>1.488147e+06</td>\n",
              "      <td>1.488147e+06</td>\n",
              "      <td>1.488147e+06</td>\n",
              "      <td>1.488147e+06</td>\n",
              "      <td>1.488147e+06</td>\n",
              "    </tr>\n",
              "    <tr>\n",
              "      <th>mean</th>\n",
              "      <td>7.474501e+04</td>\n",
              "      <td>6.019124e+04</td>\n",
              "      <td>2.007532e+03</td>\n",
              "      <td>6.087249e+04</td>\n",
              "      <td>6.087906e+04</td>\n",
              "      <td>9.435126e+00</td>\n",
              "      <td>9.804774e+01</td>\n",
              "      <td>1.112772e+01</td>\n",
              "      <td>1.312152e+01</td>\n",
              "      <td>3.771854e-01</td>\n",
              "      <td>4.577520e+00</td>\n",
              "      <td>2.098699e+01</td>\n",
              "      <td>1.554987e+02</td>\n",
              "      <td>4.783406e+00</td>\n",
              "      <td>1.248923e+00</td>\n",
              "      <td>7.882961e+03</td>\n",
              "      <td>6.346194e+03</td>\n",
              "      <td>2.292583e-01</td>\n",
              "      <td>6.688990e-02</td>\n",
              "      <td>7.340556e-01</td>\n",
              "    </tr>\n",
              "    <tr>\n",
              "      <th>std</th>\n",
              "      <td>2.631542e+04</td>\n",
              "      <td>2.174742e+04</td>\n",
              "      <td>2.868470e+00</td>\n",
              "      <td>8.320505e+02</td>\n",
              "      <td>8.298823e+02</td>\n",
              "      <td>7.791654e-01</td>\n",
              "      <td>9.750320e+00</td>\n",
              "      <td>9.228558e+00</td>\n",
              "      <td>9.677152e+00</td>\n",
              "      <td>1.847879e+00</td>\n",
              "      <td>5.410396e-01</td>\n",
              "      <td>7.478017e+00</td>\n",
              "      <td>1.686231e+02</td>\n",
              "      <td>2.107611e+01</td>\n",
              "      <td>8.981493e-02</td>\n",
              "      <td>2.546298e+03</td>\n",
              "      <td>2.106253e+03</td>\n",
              "      <td>4.203558e-01</td>\n",
              "      <td>2.498313e-01</td>\n",
              "      <td>5.394686e-01</td>\n",
              "    </tr>\n",
              "    <tr>\n",
              "      <th>min</th>\n",
              "      <td>4.692520e-02</td>\n",
              "      <td>4.000000e-02</td>\n",
              "      <td>2.003000e+03</td>\n",
              "      <td>4.837500e+04</td>\n",
              "      <td>6.000200e+04</td>\n",
              "      <td>1.000000e+00</td>\n",
              "      <td>0.000000e+00</td>\n",
              "      <td>0.000000e+00</td>\n",
              "      <td>0.000000e+00</td>\n",
              "      <td>0.000000e+00</td>\n",
              "      <td>1.000000e+00</td>\n",
              "      <td>1.000000e+00</td>\n",
              "      <td>1.000000e+00</td>\n",
              "      <td>0.000000e+00</td>\n",
              "      <td>1.121488e+00</td>\n",
              "      <td>4.692520e-03</td>\n",
              "      <td>4.000000e-03</td>\n",
              "      <td>0.000000e+00</td>\n",
              "      <td>0.000000e+00</td>\n",
              "      <td>3.333559e-07</td>\n",
              "    </tr>\n",
              "    <tr>\n",
              "      <th>25%</th>\n",
              "      <td>5.551030e+04</td>\n",
              "      <td>4.432900e+04</td>\n",
              "      <td>2.005000e+03</td>\n",
              "      <td>6.018500e+04</td>\n",
              "      <td>6.018700e+04</td>\n",
              "      <td>9.000000e+00</td>\n",
              "      <td>1.000000e+02</td>\n",
              "      <td>4.000000e+00</td>\n",
              "      <td>5.000000e+00</td>\n",
              "      <td>0.000000e+00</td>\n",
              "      <td>4.000000e+00</td>\n",
              "      <td>1.900000e+01</td>\n",
              "      <td>3.700000e+01</td>\n",
              "      <td>0.000000e+00</td>\n",
              "      <td>1.173130e+00</td>\n",
              "      <td>5.985044e+03</td>\n",
              "      <td>4.789100e+03</td>\n",
              "      <td>0.000000e+00</td>\n",
              "      <td>0.000000e+00</td>\n",
              "      <td>3.269198e-01</td>\n",
              "    </tr>\n",
              "    <tr>\n",
              "      <th>50%</th>\n",
              "      <td>7.010771e+04</td>\n",
              "      <td>5.651740e+04</td>\n",
              "      <td>2.008000e+03</td>\n",
              "      <td>6.060300e+04</td>\n",
              "      <td>6.061000e+04</td>\n",
              "      <td>9.000000e+00</td>\n",
              "      <td>1.000000e+02</td>\n",
              "      <td>8.000000e+00</td>\n",
              "      <td>1.100000e+01</td>\n",
              "      <td>0.000000e+00</td>\n",
              "      <td>5.000000e+00</td>\n",
              "      <td>1.900000e+01</td>\n",
              "      <td>5.900000e+01</td>\n",
              "      <td>0.000000e+00</td>\n",
              "      <td>1.204292e+00</td>\n",
              "      <td>7.517495e+03</td>\n",
              "      <td>6.056542e+03</td>\n",
              "      <td>0.000000e+00</td>\n",
              "      <td>0.000000e+00</td>\n",
              "      <td>6.433467e-01</td>\n",
              "    </tr>\n",
              "    <tr>\n",
              "      <th>75%</th>\n",
              "      <td>9.077365e+04</td>\n",
              "      <td>7.298900e+04</td>\n",
              "      <td>2.010000e+03</td>\n",
              "      <td>6.135300e+04</td>\n",
              "      <td>6.135300e+04</td>\n",
              "      <td>1.000000e+01</td>\n",
              "      <td>1.000000e+02</td>\n",
              "      <td>1.600000e+01</td>\n",
              "      <td>1.900000e+01</td>\n",
              "      <td>0.000000e+00</td>\n",
              "      <td>5.000000e+00</td>\n",
              "      <td>2.200000e+01</td>\n",
              "      <td>2.230000e+02</td>\n",
              "      <td>0.000000e+00</td>\n",
              "      <td>1.332994e+00</td>\n",
              "      <td>9.504519e+03</td>\n",
              "      <td>7.658442e+03</td>\n",
              "      <td>0.000000e+00</td>\n",
              "      <td>0.000000e+00</td>\n",
              "      <td>1.006069e+00</td>\n",
              "    </tr>\n",
              "    <tr>\n",
              "      <th>max</th>\n",
              "      <td>1.958181e+05</td>\n",
              "      <td>1.743640e+05</td>\n",
              "      <td>2.012000e+03</td>\n",
              "      <td>6.299900e+04</td>\n",
              "      <td>6.299900e+04</td>\n",
              "      <td>1.500000e+01</td>\n",
              "      <td>1.000000e+02</td>\n",
              "      <td>6.300000e+01</td>\n",
              "      <td>6.300000e+01</td>\n",
              "      <td>4.500000e+01</td>\n",
              "      <td>6.000000e+00</td>\n",
              "      <td>6.500000e+01</td>\n",
              "      <td>6.070000e+02</td>\n",
              "      <td>1.000000e+02</td>\n",
              "      <td>1.399020e+00</td>\n",
              "      <td>1.632011e+04</td>\n",
              "      <td>1.455220e+04</td>\n",
              "      <td>1.000000e+00</td>\n",
              "      <td>1.000000e+00</td>\n",
              "      <td>2.999983e+00</td>\n",
              "    </tr>\n",
              "  </tbody>\n",
              "</table>\n",
              "</div>"
            ],
            "text/plain": [
              "       CPIAdjSalary        salary            fy       dst_zip       sch_zip  \\\n",
              "count  1.488147e+06  1.488147e+06  1.488147e+06  1.488147e+06  1.488147e+06   \n",
              "mean   7.474501e+04  6.019124e+04  2.007532e+03  6.087249e+04  6.087906e+04   \n",
              "std    2.631542e+04  2.174742e+04  2.868470e+00  8.320505e+02  8.298823e+02   \n",
              "min    4.692520e-02  4.000000e-02  2.003000e+03  4.837500e+04  6.000200e+04   \n",
              "25%    5.551030e+04  4.432900e+04  2.005000e+03  6.018500e+04  6.018700e+04   \n",
              "50%    7.010771e+04  5.651740e+04  2.008000e+03  6.060300e+04  6.061000e+04   \n",
              "75%    9.077365e+04  7.298900e+04  2.010000e+03  6.135300e+04  6.135300e+04   \n",
              "max    1.958181e+05  1.743640e+05  2.012000e+03  6.299900e+04  6.299900e+04   \n",
              "\n",
              "       months_employed           fte      dist_exp     state_exp  \\\n",
              "count     1.488147e+06  1.488147e+06  1.488147e+06  1.488147e+06   \n",
              "mean      9.435126e+00  9.804774e+01  1.112772e+01  1.312152e+01   \n",
              "std       7.791654e-01  9.750320e+00  9.228558e+00  9.677152e+00   \n",
              "min       1.000000e+00  0.000000e+00  0.000000e+00  0.000000e+00   \n",
              "25%       9.000000e+00  1.000000e+02  4.000000e+00  5.000000e+00   \n",
              "50%       9.000000e+00  1.000000e+02  8.000000e+00  1.100000e+01   \n",
              "75%       1.000000e+01  1.000000e+02  1.600000e+01  1.900000e+01   \n",
              "max       1.500000e+01  1.000000e+02  6.300000e+01  6.300000e+01   \n",
              "\n",
              "       out_of_state_exp  high_degre_cd        pos_cd  assignment_1  \\\n",
              "count      1.488147e+06   1.488147e+06  1.488147e+06  1.488147e+06   \n",
              "mean       3.771854e-01   4.577520e+00  2.098699e+01  1.554987e+02   \n",
              "std        1.847879e+00   5.410396e-01  7.478017e+00  1.686231e+02   \n",
              "min        0.000000e+00   1.000000e+00  1.000000e+00  1.000000e+00   \n",
              "25%        0.000000e+00   4.000000e+00  1.900000e+01  3.700000e+01   \n",
              "50%        0.000000e+00   5.000000e+00  1.900000e+01  5.900000e+01   \n",
              "75%        0.000000e+00   5.000000e+00  2.200000e+01  2.230000e+02   \n",
              "max        4.500000e+01   6.000000e+00  6.500000e+01  6.070000e+02   \n",
              "\n",
              "          pct_admin  CPI_Multiplier   AdjSalMonth      SalMonth  \\\n",
              "count  1.488147e+06    1.488147e+06  1.488147e+06  1.488147e+06   \n",
              "mean   4.783406e+00    1.248923e+00  7.882961e+03  6.346194e+03   \n",
              "std    2.107611e+01    8.981493e-02  2.546298e+03  2.106253e+03   \n",
              "min    0.000000e+00    1.121488e+00  4.692520e-03  4.000000e-03   \n",
              "25%    0.000000e+00    1.173130e+00  5.985044e+03  4.789100e+03   \n",
              "50%    0.000000e+00    1.204292e+00  7.517495e+03  6.056542e+03   \n",
              "75%    0.000000e+00    1.332994e+00  9.504519e+03  7.658442e+03   \n",
              "max    1.000000e+02    1.399020e+00  1.632011e+04  1.455220e+04   \n",
              "\n",
              "       multi_assign_2  multi_assign_3       z_score  \n",
              "count    1.488147e+06    1.488147e+06  1.488147e+06  \n",
              "mean     2.292583e-01    6.688990e-02  7.340556e-01  \n",
              "std      4.203558e-01    2.498313e-01  5.394686e-01  \n",
              "min      0.000000e+00    0.000000e+00  3.333559e-07  \n",
              "25%      0.000000e+00    0.000000e+00  3.269198e-01  \n",
              "50%      0.000000e+00    0.000000e+00  6.433467e-01  \n",
              "75%      0.000000e+00    0.000000e+00  1.006069e+00  \n",
              "max      1.000000e+00    1.000000e+00  2.999983e+00  "
            ]
          },
          "metadata": {
            "tags": []
          },
          "execution_count": 74
        }
      ]
    },
    {
      "metadata": {
        "id": "njiJDrVu-66p",
        "colab_type": "code",
        "colab": {
          "base_uri": "https://localhost:8080/",
          "height": 390
        },
        "outputId": "b9d1c6c5-b3c7-4847-c8ac-03be07508820"
      },
      "cell_type": "code",
      "source": [
        "x = [df_outliers['CPIAdjSalary']]\n",
        "y = [df_not_outliers['CPIAdjSalary']]\n",
        "\n",
        "plt.hist(x, alpha=0.5, label='Outliers', normed = True)\n",
        "plt.hist(y, alpha=0.5, label='Not Outliers', normed = True)\n",
        "plt.legend(loc='upper right')\n",
        "plt.title('Inflation Adjusted Salary Distributions (Normalized)')\n",
        "plt.show()"
      ],
      "execution_count": 92,
      "outputs": [
        {
          "output_type": "stream",
          "text": [
            "/usr/local/lib/python3.6/dist-packages/matplotlib/axes/_axes.py:6521: MatplotlibDeprecationWarning: \n",
            "The 'normed' kwarg was deprecated in Matplotlib 2.1 and will be removed in 3.1. Use 'density' instead.\n",
            "  alternative=\"'density'\", removal=\"3.1\")\n",
            "/usr/local/lib/python3.6/dist-packages/matplotlib/axes/_axes.py:6521: MatplotlibDeprecationWarning: \n",
            "The 'normed' kwarg was deprecated in Matplotlib 2.1 and will be removed in 3.1. Use 'density' instead.\n",
            "  alternative=\"'density'\", removal=\"3.1\")\n"
          ],
          "name": "stderr"
        },
        {
          "output_type": "display_data",
          "data": {
            "image/png": "[encoded data removed]",
            "text/plain": [
              "<Figure size 432x288 with 1 Axes>"
            ]
          },
          "metadata": {
            "tags": []
          }
        }
      ]
    },
    {
      "metadata": {
        "id": "bxKAjylFERiY",
        "colab_type": "text"
      },
      "cell_type": "markdown",
      "source": [
        "We see again the large amount of outliers at 0 and above 100000 (inflation adjusted)"
      ]
    },
    {
      "metadata": {
        "id": "ae_ugOw5EbvS",
        "colab_type": "code",
        "colab": {
          "base_uri": "https://localhost:8080/",
          "height": 390
        },
        "outputId": "fc918904-a3d8-4e5a-adff-b903666b61e8"
      },
      "cell_type": "code",
      "source": [
        "x = [df_outliers['months_employed']]\n",
        "y = [df_not_outliers['months_employed']]\n",
        "\n",
        "plt.hist(x, alpha=0.5, label='Outliers', normed = True)\n",
        "plt.hist(y, alpha=0.5, label='Not Outliers', normed = True)\n",
        "plt.legend(loc='upper right')\n",
        "plt.title('Months Employed Distributions (Normalized)')\n",
        "plt.show()"
      ],
      "execution_count": 93,
      "outputs": [
        {
          "output_type": "stream",
          "text": [
            "/usr/local/lib/python3.6/dist-packages/matplotlib/axes/_axes.py:6521: MatplotlibDeprecationWarning: \n",
            "The 'normed' kwarg was deprecated in Matplotlib 2.1 and will be removed in 3.1. Use 'density' instead.\n",
            "  alternative=\"'density'\", removal=\"3.1\")\n",
            "/usr/local/lib/python3.6/dist-packages/matplotlib/axes/_axes.py:6521: MatplotlibDeprecationWarning: \n",
            "The 'normed' kwarg was deprecated in Matplotlib 2.1 and will be removed in 3.1. Use 'density' instead.\n",
            "  alternative=\"'density'\", removal=\"3.1\")\n"
          ],
          "name": "stderr"
        },
        {
          "output_type": "display_data",
          "data": {
            "image/png": "[encoded data removed]",
            "text/plain": [
              "<Figure size 432x288 with 1 Axes>"
            ]
          },
          "metadata": {
            "tags": []
          }
        }
      ]
    },
    {
      "metadata": {
        "id": "9eGg4b_0EsTX",
        "colab_type": "text"
      },
      "cell_type": "markdown",
      "source": [
        "Outliers have more at 0 - 5 months employed as well as 12 months. "
      ]
    },
    {
      "metadata": {
        "id": "Ob9hB3gWEb8K",
        "colab_type": "code",
        "colab": {
          "base_uri": "https://localhost:8080/",
          "height": 390
        },
        "outputId": "1e3f759c-d2ff-4533-f5dd-9e5288f30289"
      },
      "cell_type": "code",
      "source": [
        "x = [df_outliers['state_exp']]\n",
        "y = [df_not_outliers['state_exp']]\n",
        "\n",
        "plt.hist(x, alpha=0.5, label='Outliers', normed = True)\n",
        "plt.hist(y, alpha=0.5, label='Not Outliers', normed = True)\n",
        "plt.legend(loc='upper right')\n",
        "plt.title('State Experience Distributions (Normalized)')\n",
        "plt.show()"
      ],
      "execution_count": 94,
      "outputs": [
        {
          "output_type": "stream",
          "text": [
            "/usr/local/lib/python3.6/dist-packages/matplotlib/axes/_axes.py:6521: MatplotlibDeprecationWarning: \n",
            "The 'normed' kwarg was deprecated in Matplotlib 2.1 and will be removed in 3.1. Use 'density' instead.\n",
            "  alternative=\"'density'\", removal=\"3.1\")\n",
            "/usr/local/lib/python3.6/dist-packages/matplotlib/axes/_axes.py:6521: MatplotlibDeprecationWarning: \n",
            "The 'normed' kwarg was deprecated in Matplotlib 2.1 and will be removed in 3.1. Use 'density' instead.\n",
            "  alternative=\"'density'\", removal=\"3.1\")\n"
          ],
          "name": "stderr"
        },
        {
          "output_type": "display_data",
          "data": {
            "image/png": "[encoded data removed]",
            "text/plain": [
              "<Figure size 432x288 with 1 Axes>"
            ]
          },
          "metadata": {
            "tags": []
          }
        }
      ]
    },
    {
      "metadata": {
        "id": "XNpyQ58XE83o",
        "colab_type": "text"
      },
      "cell_type": "markdown",
      "source": [
        "Outliers skew much higher for In State Experience with many over 30 year. "
      ]
    },
    {
      "metadata": {
        "id": "ZSDzCBvJFFSI",
        "colab_type": "code",
        "colab": {
          "base_uri": "https://localhost:8080/",
          "height": 390
        },
        "outputId": "f0ec8302-db4f-4578-be96-ad9386ab8bd8"
      },
      "cell_type": "code",
      "source": [
        "x = [df_outliers['dist_exp']]\n",
        "y = [df_not_outliers['dist_exp']]\n",
        "\n",
        "plt.hist(x, alpha=0.5, label='Outliers', normed = True)\n",
        "plt.hist(y, alpha=0.5, label='Not Outliers', normed = True)\n",
        "plt.legend(loc='upper right')\n",
        "plt.title('District Experience Distributions (Normalized)')\n",
        "plt.show()"
      ],
      "execution_count": 95,
      "outputs": [
        {
          "output_type": "stream",
          "text": [
            "/usr/local/lib/python3.6/dist-packages/matplotlib/axes/_axes.py:6521: MatplotlibDeprecationWarning: \n",
            "The 'normed' kwarg was deprecated in Matplotlib 2.1 and will be removed in 3.1. Use 'density' instead.\n",
            "  alternative=\"'density'\", removal=\"3.1\")\n",
            "/usr/local/lib/python3.6/dist-packages/matplotlib/axes/_axes.py:6521: MatplotlibDeprecationWarning: \n",
            "The 'normed' kwarg was deprecated in Matplotlib 2.1 and will be removed in 3.1. Use 'density' instead.\n",
            "  alternative=\"'density'\", removal=\"3.1\")\n"
          ],
          "name": "stderr"
        },
        {
          "output_type": "display_data",
          "data": {
            "image/png": "[encoded data removed]",
            "text/plain": [
              "<Figure size 432x288 with 1 Axes>"
            ]
          },
          "metadata": {
            "tags": []
          }
        }
      ]
    },
    {
      "metadata": {
        "id": "OZWG-owMFQtc",
        "colab_type": "text"
      },
      "cell_type": "markdown",
      "source": [
        "Again we see much more discrict experience with the outliers. "
      ]
    },
    {
      "metadata": {
        "id": "4hMch_6IFFMy",
        "colab_type": "code",
        "colab": {
          "base_uri": "https://localhost:8080/",
          "height": 390
        },
        "outputId": "4e734e13-cf48-4d01-d69d-fe8dbb87c17f"
      },
      "cell_type": "code",
      "source": [
        "x = [df_outliers['high_degre_cd']]\n",
        "y = [df_not_outliers['high_degre_cd']]\n",
        "\n",
        "plt.hist(x, alpha=0.5, label='Outliers', normed = True)\n",
        "plt.hist(y, alpha=0.5, label='Not Outliers', normed = True)\n",
        "plt.legend(loc='upper left')\n",
        "plt.title('Highest Degree Distributions (Normalized)')\n",
        "plt.show()"
      ],
      "execution_count": 97,
      "outputs": [
        {
          "output_type": "stream",
          "text": [
            "/usr/local/lib/python3.6/dist-packages/matplotlib/axes/_axes.py:6521: MatplotlibDeprecationWarning: \n",
            "The 'normed' kwarg was deprecated in Matplotlib 2.1 and will be removed in 3.1. Use 'density' instead.\n",
            "  alternative=\"'density'\", removal=\"3.1\")\n",
            "/usr/local/lib/python3.6/dist-packages/matplotlib/axes/_axes.py:6521: MatplotlibDeprecationWarning: \n",
            "The 'normed' kwarg was deprecated in Matplotlib 2.1 and will be removed in 3.1. Use 'density' instead.\n",
            "  alternative=\"'density'\", removal=\"3.1\")\n"
          ],
          "name": "stderr"
        },
        {
          "output_type": "display_data",
          "data": {
            "image/png": "[encoded data removed]",
            "text/plain": [
              "<Figure size 432x288 with 1 Axes>"
            ]
          },
          "metadata": {
            "tags": []
          }
        }
      ]
    },
    {
      "metadata": {
        "id": "vgBp7HN3Fo_p",
        "colab_type": "text"
      },
      "cell_type": "markdown",
      "source": [
        "Outliers have more education themselves. "
      ]
    },
    {
      "metadata": {
        "id": "GaSwDQlAUNQz",
        "colab_type": "code",
        "colab": {}
      },
      "cell_type": "code",
      "source": [
        "#Filter only where z_score of adjusted salary per month is less than 3 (standard deviations) and salary not equal to 0\n",
        "df = df[(df[\"z_score\"] < 3) & (df[\"salary\"] > 0)]"
      ],
      "execution_count": 0,
      "outputs": []
    },
    {
      "metadata": {
        "id": "Wk4ThlE4XSaS",
        "colab_type": "code",
        "outputId": "78e7fd95-6d18-4b85-c106-9a9187fb8641",
        "colab": {
          "base_uri": "https://localhost:8080/",
          "height": 34
        }
      },
      "cell_type": "code",
      "source": [
        "#We removed 13549 records\n",
        "df.shape"
      ],
      "execution_count": 46,
      "outputs": [
        {
          "output_type": "execute_result",
          "data": {
            "text/plain": [
              "(1488172, 40)"
            ]
          },
          "metadata": {
            "tags": []
          },
          "execution_count": 46
        }
      ]
    },
    {
      "metadata": {
        "id": "YTTyli7xltNr",
        "colab_type": "code",
        "outputId": "cebfb7dd-26ec-4bdf-f1e0-8b160cb1edfc",
        "colab": {
          "base_uri": "https://localhost:8080/",
          "height": 1054
        }
      },
      "cell_type": "code",
      "source": [
        "print(df['gender'].value_counts())\n",
        "print(df['high_degre_desc'].value_counts())\n",
        "print(df['race_ethnicity_desc'].value_counts())\n",
        "print(df['race_ethnicity_cd'].value_counts())\n",
        "print(df['location_cd'].value_counts())\n",
        "print(df['location_desc'].value_counts())\n",
        "print(df['Zip_Type'].value_counts())"
      ],
      "execution_count": 0,
      "outputs": [
        {
          "output_type": "stream",
          "text": [
            "F    1143225\n",
            "M     349110\n",
            "           1\n",
            "Name: gender, dtype: int64\n",
            "Masters                                   851747\n",
            "Baccalaureate                             622104\n",
            "Doctorate                                  11970\n",
            "None                                        3526\n",
            "C.A.S., Specialist, 6 Year Certificate      2645\n",
            "Registered Nurse                             344\n",
            "Name: high_degre_desc, dtype: int64\n",
            "White, Non-Hispanic                          1015724\n",
            "White                                         251214\n",
            "Black, Non-Hispanic                           107886\n",
            "Hispanic                                       52602\n",
            "Black or African American                      22400\n",
            "Hispanic or Latino                             15025\n",
            "Asian or Pacific Islander                      13484\n",
            "Unknown                                         5527\n",
            "Asian                                           3586\n",
            "Two or More Races                               2256\n",
            "American Indian or Alaskan Native               1895\n",
            "American Indian or Alaska Native                 482\n",
            "Native Hawaiian or Other Pacific Islander        255\n",
            "Name: race_ethnicity_desc, dtype: int64\n",
            "1.0    1015724\n",
            "16      227095\n",
            "2.0     107886\n",
            "3.0      52602\n",
            "16       24119\n",
            "14       20028\n",
            "4.0      13484\n",
            "11       13263\n",
            "99        4987\n",
            "13        3177\n",
            "14        2372\n",
            "17        2013\n",
            "5.0       1895\n",
            "11        1762\n",
            "99         540\n",
            "12         429\n",
            "13         409\n",
            "17         243\n",
            "15         237\n",
            "12          53\n",
            "15          18\n",
            "Name: race_ethnicity_cd, dtype: int64\n",
            "A    1393973\n",
            "B      94139\n",
            "C       3362\n",
            "D        862\n",
            "Name: location_cd, dtype: int64\n",
            "One School in this District                             1393973\n",
            "Multiple Schools in this District                         94139\n",
            "One School this District, plus other Districts             3362\n",
            "Multiple Schools this District, plus other Districts        862\n",
            "Name: location_desc, dtype: int64\n",
            "Suburb     734812\n",
            "Other      507176\n",
            "Chicago    250348\n",
            "Name: Zip_Type, dtype: int64\n"
          ],
          "name": "stdout"
        }
      ]
    },
    {
      "metadata": {
        "id": "GkGO2U_4cOpm",
        "colab_type": "code",
        "outputId": "a1f1f5d0-dce5-422e-8baa-7ea0665744b2",
        "colab": {
          "base_uri": "https://localhost:8080/",
          "height": 665
        }
      },
      "cell_type": "code",
      "source": [
        "#Generate Correlation Heat Map for Original Data\n",
        "from string import ascii_letters\n",
        "import seaborn as sns\n",
        "import matplotlib.pyplot as plt\n",
        "\n",
        "sns.set(style=\"white\")\n",
        "\n",
        "# Generate a large random dataset\n",
        "rs = np.random.RandomState(33)\n",
        "\n",
        "\n",
        "# Compute the correlation matrix\n",
        "corr = df.corr()\n",
        "\n",
        "# Generate a mask for the upper triangle\n",
        "mask = np.zeros_like(corr, dtype=np.bool)\n",
        "mask[np.triu_indices_from(mask)] = True\n",
        "\n",
        "# Set up the matplotlib figure\n",
        "f, ax = plt.subplots(figsize=(11, 9))\n",
        "\n",
        "# Generate a custom diverging colormap\n",
        "cmap = sns.diverging_palette(220, 10, as_cmap=True)\n",
        "\n",
        "# Draw the heatmap with the mask and correct aspect ratio\n",
        "sns.heatmap(corr, mask=mask, cmap=cmap, vmax=.3, center=0,\n",
        "            square=True, linewidths=.5, cbar_kws={\"shrink\": .5}).set_title('Correlation Heat Map of Original Data Set')"
      ],
      "execution_count": 0,
      "outputs": [
        {
          "output_type": "execute_result",
          "data": {
            "text/plain": [
              "Text(0.5, 1.0, 'Correlation Heat Map of Original Data Set')"
            ]
          },
          "metadata": {
            "tags": []
          },
          "execution_count": 44
        },
        {
          "output_type": "display_data",
          "data": {
            "image/png": "[encoded data removed]",
            "text/plain": [
              "<Figure size 792x648 with 2 Axes>"
            ]
          },
          "metadata": {
            "tags": []
          }
        }
      ]
    },
    {
      "metadata": {
        "id": "STO42K-ip_Ui",
        "colab_type": "code",
        "outputId": "c9b3aaa8-1553-4d67-88a3-db6a4fb15a0b",
        "colab": {
          "base_uri": "https://localhost:8080/",
          "height": 34
        }
      },
      "cell_type": "code",
      "source": [
        "#dropping row where gender is ' '\n",
        "df = df.drop(df[df.gender==' '].index)\n",
        "df.shape"
      ],
      "execution_count": 0,
      "outputs": [
        {
          "output_type": "execute_result",
          "data": {
            "text/plain": [
              "(1492335, 40)"
            ]
          },
          "metadata": {
            "tags": []
          },
          "execution_count": 67
        }
      ]
    },
    {
      "metadata": {
        "id": "xIzQl5parPWP",
        "colab_type": "code",
        "outputId": "5f20ef0d-a502-463a-8ee3-f6fb5599138e",
        "colab": {
          "base_uri": "https://localhost:8080/",
          "height": 68
        }
      },
      "cell_type": "code",
      "source": [
        "print(df['gender'].value_counts())"
      ],
      "execution_count": 0,
      "outputs": [
        {
          "output_type": "stream",
          "text": [
            "F    1143225\n",
            "M     349110\n",
            "Name: gender, dtype: int64\n"
          ],
          "name": "stdout"
        }
      ]
    },
    {
      "metadata": {
        "id": "wL7xyjl_Nser",
        "colab_type": "code",
        "outputId": "432bf93a-4486-409a-b2b5-f2e4cb70bb4a",
        "colab": {
          "base_uri": "https://localhost:8080/",
          "height": 318
        }
      },
      "cell_type": "code",
      "source": [
        "sns.violinplot(x='gender', y='AdjSalMonth', data=df).set_title('Distribution of Adjusted Monthly Salary by Gender')"
      ],
      "execution_count": 0,
      "outputs": [
        {
          "output_type": "execute_result",
          "data": {
            "text/plain": [
              "Text(0.5, 1.0, 'Distribution of Adjusted Monthly Salary by Gender')"
            ]
          },
          "metadata": {
            "tags": []
          },
          "execution_count": 69
        },
        {
          "output_type": "display_data",
          "data": {
            "image/png": "[encoded data removed]",
            "text/plain": [
              "<Figure size 432x288 with 1 Axes>"
            ]
          },
          "metadata": {
            "tags": []
          }
        }
      ]
    },
    {
      "metadata": {
        "id": "vQJnIZ1ZOJeh",
        "colab_type": "code",
        "outputId": "6a392301-1bd3-43dc-bbec-fa515ea9a99a",
        "colab": {
          "base_uri": "https://localhost:8080/",
          "height": 440
        }
      },
      "cell_type": "code",
      "source": [
        "#grouping ethnicities\n",
        "def eth_assign(x):\n",
        "    if x == 'White' or x == 'White, Non-Hispanic':\n",
        "      return 'White'\n",
        "    elif x == 'Black' or x == 'Black, Non-Hispanic' or x == 'Black or African American':\n",
        "      return 'Black'\n",
        "    elif x == 'Hispanic' or x == 'Hispanic or Latino':\n",
        "      return 'Hispanic'\n",
        "    elif x == 'Asian or Pacific Islander' or x == 'Native Hawaiian or Other Pacific Islander' or x == 'Asian':\n",
        "      return 'Asian or Pacific Islander'\n",
        "    elif x == 'American Indian or Alaska Native' or x == 'American Indian or Alaskan Native':\n",
        "      return 'American Indian or Alaska Native'\n",
        "    else:\n",
        "      return 'Unknown'\n",
        "       \n",
        "\n",
        "df[\"eth_groups\"] = df[\"race_ethnicity_desc\"].apply(eth_assign)"
      ],
      "execution_count": 0,
      "outputs": [
        {
          "output_type": "execute_result",
          "data": {
            "text/html": [
              "<div>\n",
              "<style scoped>\n",
              "    .dataframe tbody tr th:only-of-type {\n",
              "        vertical-align: middle;\n",
              "    }\n",
              "\n",
              "    .dataframe tbody tr th {\n",
              "        vertical-align: top;\n",
              "    }\n",
              "\n",
              "    .dataframe thead th {\n",
              "        text-align: right;\n",
              "    }\n",
              "</style>\n",
              "<table border=\"1\" class=\"dataframe\">\n",
              "  <thead>\n",
              "    <tr style=\"text-align: right;\">\n",
              "      <th></th>\n",
              "      <th>CPIAdjSalary</th>\n",
              "      <th>salary</th>\n",
              "      <th>fy</th>\n",
              "      <th>rcdt</th>\n",
              "      <th>dst_name</th>\n",
              "      <th>dst_city</th>\n",
              "      <th>dst_zip</th>\n",
              "      <th>sch_num</th>\n",
              "      <th>sch_name</th>\n",
              "      <th>sch_city</th>\n",
              "      <th>...</th>\n",
              "      <th>pct_admin</th>\n",
              "      <th>first_3</th>\n",
              "      <th>Zip_Type</th>\n",
              "      <th>CPI_Multiplier</th>\n",
              "      <th>AdjSalMonth</th>\n",
              "      <th>SalMonth</th>\n",
              "      <th>multi_assign_2</th>\n",
              "      <th>multi_assign_3</th>\n",
              "      <th>z_score</th>\n",
              "      <th>eth_groups</th>\n",
              "    </tr>\n",
              "  </thead>\n",
              "  <tbody>\n",
              "    <tr>\n",
              "      <th>0</th>\n",
              "      <td>36265.405856</td>\n",
              "      <td>25922.00</td>\n",
              "      <td>2003</td>\n",
              "      <td>16019424026</td>\n",
              "      <td>Genoa Kingston CUSD 424</td>\n",
              "      <td>Genoa</td>\n",
              "      <td>60135.0</td>\n",
              "      <td>1003</td>\n",
              "      <td>Genoa-Kingston Middle School</td>\n",
              "      <td>Genoa</td>\n",
              "      <td>...</td>\n",
              "      <td>0.0</td>\n",
              "      <td>601</td>\n",
              "      <td>Suburb</td>\n",
              "      <td>1.39902</td>\n",
              "      <td>4029.489540</td>\n",
              "      <td>2880.222222</td>\n",
              "      <td>0</td>\n",
              "      <td>0</td>\n",
              "      <td>1.396198</td>\n",
              "      <td>White</td>\n",
              "    </tr>\n",
              "    <tr>\n",
              "      <th>1</th>\n",
              "      <td>116001.172438</td>\n",
              "      <td>82916.00</td>\n",
              "      <td>2003</td>\n",
              "      <td>05016036002</td>\n",
              "      <td>Winnetka SD 36</td>\n",
              "      <td>Winnetka</td>\n",
              "      <td>60093.0</td>\n",
              "      <td>1005</td>\n",
              "      <td>Carleton W Washburne School</td>\n",
              "      <td>Winnetka</td>\n",
              "      <td>...</td>\n",
              "      <td>0.0</td>\n",
              "      <td>600</td>\n",
              "      <td>Suburb</td>\n",
              "      <td>1.39902</td>\n",
              "      <td>12889.019160</td>\n",
              "      <td>9212.888889</td>\n",
              "      <td>0</td>\n",
              "      <td>0</td>\n",
              "      <td>1.772691</td>\n",
              "      <td>White</td>\n",
              "    </tr>\n",
              "    <tr>\n",
              "      <th>2</th>\n",
              "      <td>133104.546134</td>\n",
              "      <td>95141.25</td>\n",
              "      <td>2003</td>\n",
              "      <td>34049220026</td>\n",
              "      <td>Barrington CUSD 220</td>\n",
              "      <td>Barrington</td>\n",
              "      <td>60010.0</td>\n",
              "      <td>0004</td>\n",
              "      <td>Barrington High School</td>\n",
              "      <td>Barrington</td>\n",
              "      <td>...</td>\n",
              "      <td>0.0</td>\n",
              "      <td>600</td>\n",
              "      <td>Suburb</td>\n",
              "      <td>1.39902</td>\n",
              "      <td>13310.454613</td>\n",
              "      <td>9514.125000</td>\n",
              "      <td>0</td>\n",
              "      <td>0</td>\n",
              "      <td>1.923431</td>\n",
              "      <td>White</td>\n",
              "    </tr>\n",
              "    <tr>\n",
              "      <th>3</th>\n",
              "      <td>78017.979429</td>\n",
              "      <td>55766.15</td>\n",
              "      <td>2003</td>\n",
              "      <td>31045046022</td>\n",
              "      <td>SD U-46</td>\n",
              "      <td>Elgin</td>\n",
              "      <td>60120.0</td>\n",
              "      <td>1003</td>\n",
              "      <td>Abbott Middle School</td>\n",
              "      <td>Elgin</td>\n",
              "      <td>...</td>\n",
              "      <td>0.0</td>\n",
              "      <td>601</td>\n",
              "      <td>Suburb</td>\n",
              "      <td>1.39902</td>\n",
              "      <td>8668.664381</td>\n",
              "      <td>6196.238889</td>\n",
              "      <td>0</td>\n",
              "      <td>0</td>\n",
              "      <td>0.263149</td>\n",
              "      <td>White</td>\n",
              "    </tr>\n",
              "    <tr>\n",
              "      <th>4</th>\n",
              "      <td>106816.603753</td>\n",
              "      <td>76351.00</td>\n",
              "      <td>2003</td>\n",
              "      <td>19022086017</td>\n",
              "      <td>Hinsdale Twp HSD 86</td>\n",
              "      <td>Hinsdale</td>\n",
              "      <td>60521.0</td>\n",
              "      <td>0002</td>\n",
              "      <td>Hinsdale South High School</td>\n",
              "      <td>Darien</td>\n",
              "      <td>...</td>\n",
              "      <td>0.0</td>\n",
              "      <td>605</td>\n",
              "      <td>Suburb</td>\n",
              "      <td>1.39902</td>\n",
              "      <td>10681.660375</td>\n",
              "      <td>7635.100000</td>\n",
              "      <td>0</td>\n",
              "      <td>0</td>\n",
              "      <td>0.983160</td>\n",
              "      <td>White</td>\n",
              "    </tr>\n",
              "  </tbody>\n",
              "</table>\n",
              "<p>5 rows × 41 columns</p>\n",
              "</div>"
            ],
            "text/plain": [
              "    CPIAdjSalary    salary    fy         rcdt                 dst_name  \\\n",
              "0   36265.405856  25922.00  2003  16019424026  Genoa Kingston CUSD 424   \n",
              "1  116001.172438  82916.00  2003  05016036002           Winnetka SD 36   \n",
              "2  133104.546134  95141.25  2003  34049220026      Barrington CUSD 220   \n",
              "3   78017.979429  55766.15  2003  31045046022                  SD U-46   \n",
              "4  106816.603753  76351.00  2003  19022086017      Hinsdale Twp HSD 86   \n",
              "\n",
              "     dst_city  dst_zip sch_num                      sch_name    sch_city  \\\n",
              "0       Genoa  60135.0    1003  Genoa-Kingston Middle School       Genoa   \n",
              "1    Winnetka  60093.0    1005   Carleton W Washburne School    Winnetka   \n",
              "2  Barrington  60010.0    0004        Barrington High School  Barrington   \n",
              "3       Elgin  60120.0    1003          Abbott Middle School       Elgin   \n",
              "4    Hinsdale  60521.0    0002    Hinsdale South High School      Darien   \n",
              "\n",
              "      ...      pct_admin first_3 Zip_Type CPI_Multiplier   AdjSalMonth  \\\n",
              "0     ...            0.0     601   Suburb        1.39902   4029.489540   \n",
              "1     ...            0.0     600   Suburb        1.39902  12889.019160   \n",
              "2     ...            0.0     600   Suburb        1.39902  13310.454613   \n",
              "3     ...            0.0     601   Suburb        1.39902   8668.664381   \n",
              "4     ...            0.0     605   Suburb        1.39902  10681.660375   \n",
              "\n",
              "      SalMonth multi_assign_2 multi_assign_3   z_score  eth_groups  \n",
              "0  2880.222222              0              0  1.396198       White  \n",
              "1  9212.888889              0              0  1.772691       White  \n",
              "2  9514.125000              0              0  1.923431       White  \n",
              "3  6196.238889              0              0  0.263149       White  \n",
              "4  7635.100000              0              0  0.983160       White  \n",
              "\n",
              "[5 rows x 41 columns]"
            ]
          },
          "metadata": {
            "tags": []
          },
          "execution_count": 26
        }
      ]
    },
    {
      "metadata": {
        "id": "J11o1WLHOXK0",
        "colab_type": "code",
        "outputId": "82bb1d25-0706-45d3-f832-da60658b8815",
        "colab": {
          "base_uri": "https://localhost:8080/",
          "height": 547
        }
      },
      "cell_type": "code",
      "source": [
        "sns.violinplot(x='eth_groups', y='AdjSalMonth', data=df, hue='gender', split=True).set_title('Distribution of Adjusted Monthly Salary by Race')\n",
        "plt.xticks(rotation=90)"
      ],
      "execution_count": 0,
      "outputs": [
        {
          "output_type": "execute_result",
          "data": {
            "text/plain": [
              "(array([0, 1, 2, 3, 4, 5]), <a list of 6 Text xticklabel objects>)"
            ]
          },
          "metadata": {
            "tags": []
          },
          "execution_count": 69
        },
        {
          "output_type": "display_data",
          "data": {
            "image/png": "[encoded data removed]",
            "text/plain": [
              "<Figure size 504x360 with 1 Axes>"
            ]
          },
          "metadata": {
            "tags": []
          }
        }
      ]
    },
    {
      "metadata": {
        "id": "Dmot5qX7SxWE",
        "colab_type": "code",
        "outputId": "4cd72744-3885-4d87-f6b6-4426b038cc41",
        "colab": {
          "base_uri": "https://localhost:8080/",
          "height": 440
        }
      },
      "cell_type": "code",
      "source": [
        "#grouping education level\n",
        "def edu_assign(x):\n",
        "    if x == 'Masters':\n",
        "      return 'Masters'\n",
        "    elif x == 'Baccalaureate':\n",
        "      return 'Bachelors'\n",
        "    elif x == 'Doctorate':\n",
        "      return 'Doctorate'\n",
        "    elif x == 'None':\n",
        "      return 'None'\n",
        "    else:\n",
        "      return 'Other'\n",
        "       \n",
        "\n",
        "df[\"edu_groups\"] = df[\"high_degre_desc\"].apply(edu_assign)"
      ],
      "execution_count": 0,
      "outputs": [
        {
          "output_type": "execute_result",
          "data": {
            "text/html": [
              "<div>\n",
              "<style scoped>\n",
              "    .dataframe tbody tr th:only-of-type {\n",
              "        vertical-align: middle;\n",
              "    }\n",
              "\n",
              "    .dataframe tbody tr th {\n",
              "        vertical-align: top;\n",
              "    }\n",
              "\n",
              "    .dataframe thead th {\n",
              "        text-align: right;\n",
              "    }\n",
              "</style>\n",
              "<table border=\"1\" class=\"dataframe\">\n",
              "  <thead>\n",
              "    <tr style=\"text-align: right;\">\n",
              "      <th></th>\n",
              "      <th>CPIAdjSalary</th>\n",
              "      <th>salary</th>\n",
              "      <th>fy</th>\n",
              "      <th>rcdt</th>\n",
              "      <th>dst_name</th>\n",
              "      <th>dst_city</th>\n",
              "      <th>dst_zip</th>\n",
              "      <th>sch_num</th>\n",
              "      <th>sch_name</th>\n",
              "      <th>sch_city</th>\n",
              "      <th>...</th>\n",
              "      <th>first_3</th>\n",
              "      <th>Zip_Type</th>\n",
              "      <th>CPI_Multiplier</th>\n",
              "      <th>AdjSalMonth</th>\n",
              "      <th>SalMonth</th>\n",
              "      <th>multi_assign_2</th>\n",
              "      <th>multi_assign_3</th>\n",
              "      <th>z_score</th>\n",
              "      <th>eth_groups</th>\n",
              "      <th>edu_groups</th>\n",
              "    </tr>\n",
              "  </thead>\n",
              "  <tbody>\n",
              "    <tr>\n",
              "      <th>0</th>\n",
              "      <td>36265.405856</td>\n",
              "      <td>25922.00</td>\n",
              "      <td>2003</td>\n",
              "      <td>16019424026</td>\n",
              "      <td>Genoa Kingston CUSD 424</td>\n",
              "      <td>Genoa</td>\n",
              "      <td>60135.0</td>\n",
              "      <td>1003</td>\n",
              "      <td>Genoa-Kingston Middle School</td>\n",
              "      <td>Genoa</td>\n",
              "      <td>...</td>\n",
              "      <td>601</td>\n",
              "      <td>Suburb</td>\n",
              "      <td>1.39902</td>\n",
              "      <td>4029.489540</td>\n",
              "      <td>2880.222222</td>\n",
              "      <td>0</td>\n",
              "      <td>0</td>\n",
              "      <td>1.396198</td>\n",
              "      <td>White</td>\n",
              "      <td>Bachelors</td>\n",
              "    </tr>\n",
              "    <tr>\n",
              "      <th>1</th>\n",
              "      <td>116001.172438</td>\n",
              "      <td>82916.00</td>\n",
              "      <td>2003</td>\n",
              "      <td>05016036002</td>\n",
              "      <td>Winnetka SD 36</td>\n",
              "      <td>Winnetka</td>\n",
              "      <td>60093.0</td>\n",
              "      <td>1005</td>\n",
              "      <td>Carleton W Washburne School</td>\n",
              "      <td>Winnetka</td>\n",
              "      <td>...</td>\n",
              "      <td>600</td>\n",
              "      <td>Suburb</td>\n",
              "      <td>1.39902</td>\n",
              "      <td>12889.019160</td>\n",
              "      <td>9212.888889</td>\n",
              "      <td>0</td>\n",
              "      <td>0</td>\n",
              "      <td>1.772691</td>\n",
              "      <td>White</td>\n",
              "      <td>Masters</td>\n",
              "    </tr>\n",
              "    <tr>\n",
              "      <th>2</th>\n",
              "      <td>133104.546134</td>\n",
              "      <td>95141.25</td>\n",
              "      <td>2003</td>\n",
              "      <td>34049220026</td>\n",
              "      <td>Barrington CUSD 220</td>\n",
              "      <td>Barrington</td>\n",
              "      <td>60010.0</td>\n",
              "      <td>0004</td>\n",
              "      <td>Barrington High School</td>\n",
              "      <td>Barrington</td>\n",
              "      <td>...</td>\n",
              "      <td>600</td>\n",
              "      <td>Suburb</td>\n",
              "      <td>1.39902</td>\n",
              "      <td>13310.454613</td>\n",
              "      <td>9514.125000</td>\n",
              "      <td>0</td>\n",
              "      <td>0</td>\n",
              "      <td>1.923431</td>\n",
              "      <td>White</td>\n",
              "      <td>Masters</td>\n",
              "    </tr>\n",
              "    <tr>\n",
              "      <th>3</th>\n",
              "      <td>78017.979429</td>\n",
              "      <td>55766.15</td>\n",
              "      <td>2003</td>\n",
              "      <td>31045046022</td>\n",
              "      <td>SD U-46</td>\n",
              "      <td>Elgin</td>\n",
              "      <td>60120.0</td>\n",
              "      <td>1003</td>\n",
              "      <td>Abbott Middle School</td>\n",
              "      <td>Elgin</td>\n",
              "      <td>...</td>\n",
              "      <td>601</td>\n",
              "      <td>Suburb</td>\n",
              "      <td>1.39902</td>\n",
              "      <td>8668.664381</td>\n",
              "      <td>6196.238889</td>\n",
              "      <td>0</td>\n",
              "      <td>0</td>\n",
              "      <td>0.263149</td>\n",
              "      <td>White</td>\n",
              "      <td>Masters</td>\n",
              "    </tr>\n",
              "    <tr>\n",
              "      <th>4</th>\n",
              "      <td>106816.603753</td>\n",
              "      <td>76351.00</td>\n",
              "      <td>2003</td>\n",
              "      <td>19022086017</td>\n",
              "      <td>Hinsdale Twp HSD 86</td>\n",
              "      <td>Hinsdale</td>\n",
              "      <td>60521.0</td>\n",
              "      <td>0002</td>\n",
              "      <td>Hinsdale South High School</td>\n",
              "      <td>Darien</td>\n",
              "      <td>...</td>\n",
              "      <td>605</td>\n",
              "      <td>Suburb</td>\n",
              "      <td>1.39902</td>\n",
              "      <td>10681.660375</td>\n",
              "      <td>7635.100000</td>\n",
              "      <td>0</td>\n",
              "      <td>0</td>\n",
              "      <td>0.983160</td>\n",
              "      <td>White</td>\n",
              "      <td>Masters</td>\n",
              "    </tr>\n",
              "  </tbody>\n",
              "</table>\n",
              "<p>5 rows × 42 columns</p>\n",
              "</div>"
            ],
            "text/plain": [
              "    CPIAdjSalary    salary    fy         rcdt                 dst_name  \\\n",
              "0   36265.405856  25922.00  2003  16019424026  Genoa Kingston CUSD 424   \n",
              "1  116001.172438  82916.00  2003  05016036002           Winnetka SD 36   \n",
              "2  133104.546134  95141.25  2003  34049220026      Barrington CUSD 220   \n",
              "3   78017.979429  55766.15  2003  31045046022                  SD U-46   \n",
              "4  106816.603753  76351.00  2003  19022086017      Hinsdale Twp HSD 86   \n",
              "\n",
              "     dst_city  dst_zip sch_num                      sch_name    sch_city  \\\n",
              "0       Genoa  60135.0    1003  Genoa-Kingston Middle School       Genoa   \n",
              "1    Winnetka  60093.0    1005   Carleton W Washburne School    Winnetka   \n",
              "2  Barrington  60010.0    0004        Barrington High School  Barrington   \n",
              "3       Elgin  60120.0    1003          Abbott Middle School       Elgin   \n",
              "4    Hinsdale  60521.0    0002    Hinsdale South High School      Darien   \n",
              "\n",
              "      ...      first_3 Zip_Type CPI_Multiplier   AdjSalMonth     SalMonth  \\\n",
              "0     ...          601   Suburb        1.39902   4029.489540  2880.222222   \n",
              "1     ...          600   Suburb        1.39902  12889.019160  9212.888889   \n",
              "2     ...          600   Suburb        1.39902  13310.454613  9514.125000   \n",
              "3     ...          601   Suburb        1.39902   8668.664381  6196.238889   \n",
              "4     ...          605   Suburb        1.39902  10681.660375  7635.100000   \n",
              "\n",
              "  multi_assign_2 multi_assign_3   z_score  eth_groups  edu_groups  \n",
              "0              0              0  1.396198       White   Bachelors  \n",
              "1              0              0  1.772691       White     Masters  \n",
              "2              0              0  1.923431       White     Masters  \n",
              "3              0              0  0.263149       White     Masters  \n",
              "4              0              0  0.983160       White     Masters  \n",
              "\n",
              "[5 rows x 42 columns]"
            ]
          },
          "metadata": {
            "tags": []
          },
          "execution_count": 27
        }
      ]
    },
    {
      "metadata": {
        "id": "RUgeYBZaOJvs",
        "colab_type": "code",
        "outputId": "cbb5bdd2-9d0e-4e29-8afc-bf59d59714b2",
        "colab": {
          "base_uri": "https://localhost:8080/",
          "height": 238
        }
      },
      "cell_type": "code",
      "source": [
        "#checking counts for each\n",
        "print(df['eth_groups'].value_counts())\n",
        "print(df['edu_groups'].value_counts())"
      ],
      "execution_count": 0,
      "outputs": [
        {
          "output_type": "stream",
          "text": [
            "White                               1266938\n",
            "Black                                130286\n",
            "Hispanic                              67627\n",
            "Asian or Pacific Islander             17325\n",
            "Unknown                                7782\n",
            "American Indian or Alaska Native       2377\n",
            "Name: eth_groups, dtype: int64\n",
            "Masters      851747\n",
            "Bachelors    622104\n",
            "Doctorate     11970\n",
            "None           3525\n",
            "Other          2989\n",
            "Name: edu_groups, dtype: int64\n"
          ],
          "name": "stdout"
        }
      ]
    },
    {
      "metadata": {
        "id": "EcYnARp2OJ_n",
        "colab_type": "code",
        "colab": {}
      },
      "cell_type": "code",
      "source": [
        "#deleting original ethnicity, education, and location_cd columns - no longer needed for analysis\n",
        "df = df.drop(['high_degre_cd', 'high_degre_desc', 'race_ethnicity_cd', 'race_ethnicity_desc', 'location_cd'],axis=1)"
      ],
      "execution_count": 0,
      "outputs": []
    },
    {
      "metadata": {
        "id": "PPPfwbonRJC0",
        "colab_type": "code",
        "outputId": "13d3e1c6-5de1-46d2-9ee5-79491c014dd4",
        "colab": {
          "base_uri": "https://localhost:8080/",
          "height": 372
        }
      },
      "cell_type": "code",
      "source": [
        "sns.violinplot(x='edu_groups', y='AdjSalMonth', data=df, hue='gender', split=True).set_title('Distribution of Adjusted Monthly Salary by Education Level')"
      ],
      "execution_count": 0,
      "outputs": [
        {
          "output_type": "execute_result",
          "data": {
            "text/plain": [
              "Text(0.5, 1.0, 'Distribution of Adjusted Monthly Salary by Education Level')"
            ]
          },
          "metadata": {
            "tags": []
          },
          "execution_count": 70
        },
        {
          "output_type": "display_data",
          "data": {
            "image/png": "[encoded data removed]",
            "text/plain": [
              "<Figure size 504x360 with 1 Axes>"
            ]
          },
          "metadata": {
            "tags": []
          }
        }
      ]
    },
    {
      "metadata": {
        "id": "Kf4vpuj7X7Zu",
        "colab_type": "code",
        "outputId": "3c8188e9-f226-4431-c648-e286a300447a",
        "colab": {
          "base_uri": "https://localhost:8080/",
          "height": 663
        }
      },
      "cell_type": "code",
      "source": [
        "df.count()"
      ],
      "execution_count": 0,
      "outputs": [
        {
          "output_type": "execute_result",
          "data": {
            "text/plain": [
              "CPIAdjSalary        1492335\n",
              "salary              1492335\n",
              "fy                  1492335\n",
              "rcdt                1492335\n",
              "dst_name            1492335\n",
              "dst_city            1492335\n",
              "dst_zip             1492335\n",
              "sch_num             1492335\n",
              "sch_name            1492335\n",
              "sch_city            1492335\n",
              "sch_zip             1492335\n",
              "sch_zip_plus4       1492335\n",
              "gender              1492335\n",
              "location_desc       1492335\n",
              "emply_desc          1492335\n",
              "months_employed     1492335\n",
              "fte                 1492335\n",
              "dist_exp            1492335\n",
              "state_exp           1492335\n",
              "out_of_state_exp    1492335\n",
              "pos_cd              1492335\n",
              "pos_desc            1492335\n",
              "low_grade           1492335\n",
              "high_grade          1492335\n",
              "assignment_1        1492335\n",
              "assign1_desc        1492335\n",
              "pct_admin           1492335\n",
              "first_3             1492335\n",
              "Zip_Type            1492335\n",
              "CPI_Multiplier      1492335\n",
              "AdjSalMonth         1492335\n",
              "SalMonth            1492335\n",
              "multi_assign_2      1492335\n",
              "multi_assign_3      1492335\n",
              "z_score             1492335\n",
              "eth_groups          1492335\n",
              "edu_groups          1492335\n",
              "dtype: int64"
            ]
          },
          "metadata": {
            "tags": []
          },
          "execution_count": 30
        }
      ]
    },
    {
      "metadata": {
        "id": "Mxi_liw8vodo",
        "colab_type": "code",
        "colab": {}
      },
      "cell_type": "code",
      "source": [
        "# Command to download the CSV file to your Google Drive. File is data.csv\n",
        "df.to_csv('data.csv')\n",
        "!cp data.csv drive/My\\ Drive/"
      ],
      "execution_count": 0,
      "outputs": []
    },
    {
      "metadata": {
        "id": "iw61OIOEqyPq",
        "colab_type": "code",
        "colab": {}
      },
      "cell_type": "code",
      "source": [
        "score06 = 'https://github.com/bciura/IL-Teacher-Salaries/blob/master/school_06_dist.xls?raw=true'\n",
        "score07 = 'https://github.com/bciura/IL-Teacher-Salaries/blob/master/school_07_dist.xls?raw=true'\n",
        "score08 = 'https://github.com/bciura/IL-Teacher-Salaries/blob/master/school_08_dist.xls?raw=true'\n",
        "score09 = 'https://github.com/bciura/IL-Teacher-Salaries/blob/master/school_09_dist.xls?raw=true'\n",
        "score10 = 'https://github.com/bciura/IL-Teacher-Salaries/blob/master/school_10_dist.xls?raw=true'\n",
        "score11 = 'https://github.com/bciura/IL-Teacher-Salaries/blob/master/school_11_dist.xlsx?raw=true'\n",
        "score12 = 'https://github.com/bciura/IL-Teacher-Salaries/blob/master/school_12_dist.xlsx?raw=true'"
      ],
      "execution_count": 0,
      "outputs": []
    },
    {
      "metadata": {
        "id": "uFyOUj94s58P",
        "colab_type": "code",
        "colab": {}
      },
      "cell_type": "code",
      "source": [
        "# merge test score datasets \n",
        "scores = pd.concat(map(pd.read_excel, [score06, score07, score08, score09, score10, score11, score12]))"
      ],
      "execution_count": 0,
      "outputs": []
    },
    {
      "metadata": {
        "id": "R2KB_QQ0tXDU",
        "colab_type": "code",
        "outputId": "0abed10a-60fb-4ebc-fee2-047e4460a607",
        "colab": {
          "base_uri": "https://localhost:8080/",
          "height": 363
        }
      },
      "cell_type": "code",
      "source": [
        "scores.head(5)"
      ],
      "execution_count": 0,
      "outputs": [
        {
          "output_type": "execute_result",
          "data": {
            "text/html": [
              "<div>\n",
              "<style scoped>\n",
              "    .dataframe tbody tr th:only-of-type {\n",
              "        vertical-align: middle;\n",
              "    }\n",
              "\n",
              "    .dataframe tbody tr th {\n",
              "        vertical-align: top;\n",
              "    }\n",
              "\n",
              "    .dataframe thead th {\n",
              "        text-align: right;\n",
              "    }\n",
              "</style>\n",
              "<table border=\"1\" class=\"dataframe\">\n",
              "  <thead>\n",
              "    <tr style=\"text-align: right;\">\n",
              "      <th></th>\n",
              "      <th>RCDTS</th>\n",
              "      <th>rcdt</th>\n",
              "      <th>County</th>\n",
              "      <th>Dist #</th>\n",
              "      <th>District Name/ School Name</th>\n",
              "      <th>City</th>\n",
              "      <th>3rd Grade Reading</th>\n",
              "      <th>3rd Grade Math</th>\n",
              "      <th>4th Grade Reading</th>\n",
              "      <th>4th Grade Math</th>\n",
              "      <th>...</th>\n",
              "      <th>7th Grade Math</th>\n",
              "      <th>8th Grade Reading</th>\n",
              "      <th>8th Grade Math</th>\n",
              "      <th>11th Grade Reading</th>\n",
              "      <th>11th Grade Math</th>\n",
              "      <th>ISAT</th>\n",
              "      <th>PSAE</th>\n",
              "      <th>ACT Score</th>\n",
              "      <th>Enrollment</th>\n",
              "      <th>Year</th>\n",
              "    </tr>\n",
              "  </thead>\n",
              "  <tbody>\n",
              "    <tr>\n",
              "      <th>0</th>\n",
              "      <td>010010010260000</td>\n",
              "      <td>01001001026</td>\n",
              "      <td>ADAMS</td>\n",
              "      <td>0010</td>\n",
              "      <td>PAYSON CUSD 1</td>\n",
              "      <td>PAYSON</td>\n",
              "      <td>70.6</td>\n",
              "      <td>91.2</td>\n",
              "      <td>85.1</td>\n",
              "      <td>97.9</td>\n",
              "      <td>...</td>\n",
              "      <td>69.0</td>\n",
              "      <td>78.7</td>\n",
              "      <td>82.0</td>\n",
              "      <td>65.9</td>\n",
              "      <td>46.3</td>\n",
              "      <td>82.2</td>\n",
              "      <td>54.5</td>\n",
              "      <td>18.3</td>\n",
              "      <td>599</td>\n",
              "      <td>2006</td>\n",
              "    </tr>\n",
              "    <tr>\n",
              "      <th>1</th>\n",
              "      <td>010010020260000</td>\n",
              "      <td>01001002026</td>\n",
              "      <td>ADAMS</td>\n",
              "      <td>0020</td>\n",
              "      <td>LIBERTY CUSD 2</td>\n",
              "      <td>LIBERTY</td>\n",
              "      <td>86.0</td>\n",
              "      <td>100.0</td>\n",
              "      <td>66.0</td>\n",
              "      <td>83.0</td>\n",
              "      <td>...</td>\n",
              "      <td>83.3</td>\n",
              "      <td>78.0</td>\n",
              "      <td>92.7</td>\n",
              "      <td>84.2</td>\n",
              "      <td>71.1</td>\n",
              "      <td>80.8</td>\n",
              "      <td>73.7</td>\n",
              "      <td>19.5</td>\n",
              "      <td>626</td>\n",
              "      <td>2006</td>\n",
              "    </tr>\n",
              "    <tr>\n",
              "      <th>2</th>\n",
              "      <td>010010030260000</td>\n",
              "      <td>01001003026</td>\n",
              "      <td>ADAMS</td>\n",
              "      <td>0030</td>\n",
              "      <td>CENTRAL CUSD 3</td>\n",
              "      <td>CAMP POINT</td>\n",
              "      <td>69.2</td>\n",
              "      <td>84.6</td>\n",
              "      <td>68.3</td>\n",
              "      <td>81.3</td>\n",
              "      <td>...</td>\n",
              "      <td>86.8</td>\n",
              "      <td>84.3</td>\n",
              "      <td>85.3</td>\n",
              "      <td>52.8</td>\n",
              "      <td>46.1</td>\n",
              "      <td>81.0</td>\n",
              "      <td>48.3</td>\n",
              "      <td>19.8</td>\n",
              "      <td>1053</td>\n",
              "      <td>2006</td>\n",
              "    </tr>\n",
              "    <tr>\n",
              "      <th>3</th>\n",
              "      <td>010010040260000</td>\n",
              "      <td>01001004026</td>\n",
              "      <td>ADAMS</td>\n",
              "      <td>0040</td>\n",
              "      <td>CUSD 4</td>\n",
              "      <td>MENDON</td>\n",
              "      <td>63.0</td>\n",
              "      <td>87.0</td>\n",
              "      <td>83.0</td>\n",
              "      <td>88.7</td>\n",
              "      <td>...</td>\n",
              "      <td>73.5</td>\n",
              "      <td>62.3</td>\n",
              "      <td>75.4</td>\n",
              "      <td>66.0</td>\n",
              "      <td>64.0</td>\n",
              "      <td>78.7</td>\n",
              "      <td>62.0</td>\n",
              "      <td>21.4</td>\n",
              "      <td>786</td>\n",
              "      <td>2006</td>\n",
              "    </tr>\n",
              "    <tr>\n",
              "      <th>4</th>\n",
              "      <td>010011720220000</td>\n",
              "      <td>01001172022</td>\n",
              "      <td>ADAMS</td>\n",
              "      <td>1720</td>\n",
              "      <td>QUINCY SD 172</td>\n",
              "      <td>QUINCY</td>\n",
              "      <td>75.9</td>\n",
              "      <td>88.1</td>\n",
              "      <td>76.1</td>\n",
              "      <td>87.7</td>\n",
              "      <td>...</td>\n",
              "      <td>81.9</td>\n",
              "      <td>78.0</td>\n",
              "      <td>76.5</td>\n",
              "      <td>50.3</td>\n",
              "      <td>52.7</td>\n",
              "      <td>80.4</td>\n",
              "      <td>49.2</td>\n",
              "      <td>19.7</td>\n",
              "      <td>6484</td>\n",
              "      <td>2006</td>\n",
              "    </tr>\n",
              "  </tbody>\n",
              "</table>\n",
              "<p>5 rows × 25 columns</p>\n",
              "</div>"
            ],
            "text/plain": [
              "             RCDTS         rcdt County  Dist #  District Name/ School Name  \\\n",
              "0  010010010260000  01001001026   ADAMS    0010              PAYSON CUSD 1   \n",
              "1  010010020260000  01001002026   ADAMS    0020             LIBERTY CUSD 2   \n",
              "2  010010030260000  01001003026   ADAMS    0030             CENTRAL CUSD 3   \n",
              "3  010010040260000  01001004026   ADAMS    0040                     CUSD 4   \n",
              "4  010011720220000  01001172022   ADAMS    1720              QUINCY SD 172   \n",
              "\n",
              "         City  3rd Grade Reading  3rd Grade Math  4th Grade Reading  \\\n",
              "0      PAYSON               70.6            91.2               85.1   \n",
              "1     LIBERTY               86.0           100.0               66.0   \n",
              "2  CAMP POINT               69.2            84.6               68.3   \n",
              "3      MENDON               63.0            87.0               83.0   \n",
              "4      QUINCY               75.9            88.1               76.1   \n",
              "\n",
              "   4th Grade Math  ...   7th Grade Math  8th Grade Reading  8th Grade Math  \\\n",
              "0            97.9  ...             69.0               78.7            82.0   \n",
              "1            83.0  ...             83.3               78.0            92.7   \n",
              "2            81.3  ...             86.8               84.3            85.3   \n",
              "3            88.7  ...             73.5               62.3            75.4   \n",
              "4            87.7  ...             81.9               78.0            76.5   \n",
              "\n",
              "   11th Grade Reading  11th Grade Math  ISAT  PSAE  ACT Score  Enrollment  \\\n",
              "0                65.9             46.3  82.2  54.5       18.3         599   \n",
              "1                84.2             71.1  80.8  73.7       19.5         626   \n",
              "2                52.8             46.1  81.0  48.3       19.8        1053   \n",
              "3                66.0             64.0  78.7  62.0       21.4         786   \n",
              "4                50.3             52.7  80.4  49.2       19.7        6484   \n",
              "\n",
              "   Year  \n",
              "0  2006  \n",
              "1  2006  \n",
              "2  2006  \n",
              "3  2006  \n",
              "4  2006  \n",
              "\n",
              "[5 rows x 25 columns]"
            ]
          },
          "metadata": {
            "tags": []
          },
          "execution_count": 55
        }
      ]
    },
    {
      "metadata": {
        "id": "wJ4sVFyesmap",
        "colab_type": "code",
        "colab": {}
      },
      "cell_type": "code",
      "source": [
        "# drop RCDTS, ISAT, PSAE, and ACT columns\n",
        "scores = scores.drop(['RCDTS', 'ISAT', 'PSAE', 'ACT Score'],axis=1)"
      ],
      "execution_count": 0,
      "outputs": []
    },
    {
      "metadata": {
        "id": "q3H0tVrRQNNh",
        "colab_type": "code",
        "outputId": "eeedd703-f83b-444a-9ce7-b205e4a65c3b",
        "colab": {
          "base_uri": "https://localhost:8080/",
          "height": 34
        }
      },
      "cell_type": "code",
      "source": [
        "scores.shape"
      ],
      "execution_count": 0,
      "outputs": [
        {
          "output_type": "execute_result",
          "data": {
            "text/plain": [
              "(6082, 21)"
            ]
          },
          "metadata": {
            "tags": []
          },
          "execution_count": 34
        }
      ]
    },
    {
      "metadata": {
        "id": "F0SKZ124QZlD",
        "colab_type": "code",
        "outputId": "0efca2c6-ab68-48cf-b6ce-abd7820d8316",
        "colab": {
          "base_uri": "https://localhost:8080/",
          "height": 391
        }
      },
      "cell_type": "code",
      "source": [
        "scores.count()"
      ],
      "execution_count": 0,
      "outputs": [
        {
          "output_type": "execute_result",
          "data": {
            "text/plain": [
              "rcdt                          6082\n",
              "County                        6082\n",
              "Dist #                        6082\n",
              "District Name/ School Name    6082\n",
              "City                          6082\n",
              "3rd Grade Reading             5192\n",
              "3rd Grade Math                5193\n",
              "4th Grade Reading             5204\n",
              "4th Grade Math                5204\n",
              "5th Grade Reading             5213\n",
              "5th Grade Math                5214\n",
              "6th Grade Reading             5213\n",
              "6th Grade Math                5209\n",
              "7th Grade Reading             5205\n",
              "7th Grade Math                5203\n",
              "8th Grade Reading             5208\n",
              "8th Grade Math                5208\n",
              "11th Grade Reading            3363\n",
              "11th Grade Math               3363\n",
              "Enrollment                    6082\n",
              "Year                          6082\n",
              "dtype: int64"
            ]
          },
          "metadata": {
            "tags": []
          },
          "execution_count": 35
        }
      ]
    },
    {
      "metadata": {
        "id": "VvVYao0vtdP_",
        "colab_type": "code",
        "outputId": "4d23c38f-9864-41c9-eb21-93e5f1da2f91",
        "colab": {
          "base_uri": "https://localhost:8080/",
          "height": 343
        }
      },
      "cell_type": "code",
      "source": [
        "# add columns with average reading and math score \n",
        "scores['Reading AVG'] = scores[['3rd Grade Reading', '4th Grade Reading', '5th Grade Reading', '6th Grade Reading', '7th Grade Reading', \n",
        "                                '8th Grade Reading', '11th Grade Reading']].mean(axis=1)\n",
        "scores['Math AVG'] = scores[['3rd Grade Math', '4th Grade Math', '5th Grade Math', '6th Grade Math', '7th Grade Math', \n",
        "                                '8th Grade Math', '11th Grade Math']].mean(axis=1)\n",
        "pd.set_option(\"display.max_columns\", 35)"
      ],
      "execution_count": 0,
      "outputs": [
        {
          "output_type": "execute_result",
          "data": {
            "text/html": [
              "<div>\n",
              "<style scoped>\n",
              "    .dataframe tbody tr th:only-of-type {\n",
              "        vertical-align: middle;\n",
              "    }\n",
              "\n",
              "    .dataframe tbody tr th {\n",
              "        vertical-align: top;\n",
              "    }\n",
              "\n",
              "    .dataframe thead th {\n",
              "        text-align: right;\n",
              "    }\n",
              "</style>\n",
              "<table border=\"1\" class=\"dataframe\">\n",
              "  <thead>\n",
              "    <tr style=\"text-align: right;\">\n",
              "      <th></th>\n",
              "      <th>rcdt</th>\n",
              "      <th>County</th>\n",
              "      <th>Dist #</th>\n",
              "      <th>District Name/ School Name</th>\n",
              "      <th>City</th>\n",
              "      <th>3rd Grade Reading</th>\n",
              "      <th>3rd Grade Math</th>\n",
              "      <th>4th Grade Reading</th>\n",
              "      <th>4th Grade Math</th>\n",
              "      <th>5th Grade Reading</th>\n",
              "      <th>5th Grade Math</th>\n",
              "      <th>6th Grade Reading</th>\n",
              "      <th>6th Grade Math</th>\n",
              "      <th>7th Grade Reading</th>\n",
              "      <th>7th Grade Math</th>\n",
              "      <th>8th Grade Reading</th>\n",
              "      <th>8th Grade Math</th>\n",
              "      <th>11th Grade Reading</th>\n",
              "      <th>11th Grade Math</th>\n",
              "      <th>Enrollment</th>\n",
              "      <th>Year</th>\n",
              "      <th>Reading AVG</th>\n",
              "      <th>Math AVG</th>\n",
              "    </tr>\n",
              "  </thead>\n",
              "  <tbody>\n",
              "    <tr>\n",
              "      <th>0</th>\n",
              "      <td>01001001026</td>\n",
              "      <td>ADAMS</td>\n",
              "      <td>0010</td>\n",
              "      <td>PAYSON CUSD 1</td>\n",
              "      <td>PAYSON</td>\n",
              "      <td>70.6</td>\n",
              "      <td>91.2</td>\n",
              "      <td>85.1</td>\n",
              "      <td>97.9</td>\n",
              "      <td>82.5</td>\n",
              "      <td>90.0</td>\n",
              "      <td>78.8</td>\n",
              "      <td>88.5</td>\n",
              "      <td>71.4</td>\n",
              "      <td>69.0</td>\n",
              "      <td>78.7</td>\n",
              "      <td>82.0</td>\n",
              "      <td>65.9</td>\n",
              "      <td>46.3</td>\n",
              "      <td>599</td>\n",
              "      <td>2006</td>\n",
              "      <td>76.142857</td>\n",
              "      <td>80.700000</td>\n",
              "    </tr>\n",
              "    <tr>\n",
              "      <th>1</th>\n",
              "      <td>01001002026</td>\n",
              "      <td>ADAMS</td>\n",
              "      <td>0020</td>\n",
              "      <td>LIBERTY CUSD 2</td>\n",
              "      <td>LIBERTY</td>\n",
              "      <td>86.0</td>\n",
              "      <td>100.0</td>\n",
              "      <td>66.0</td>\n",
              "      <td>83.0</td>\n",
              "      <td>68.1</td>\n",
              "      <td>80.9</td>\n",
              "      <td>73.2</td>\n",
              "      <td>90.2</td>\n",
              "      <td>79.2</td>\n",
              "      <td>83.3</td>\n",
              "      <td>78.0</td>\n",
              "      <td>92.7</td>\n",
              "      <td>84.2</td>\n",
              "      <td>71.1</td>\n",
              "      <td>626</td>\n",
              "      <td>2006</td>\n",
              "      <td>76.385714</td>\n",
              "      <td>85.885714</td>\n",
              "    </tr>\n",
              "    <tr>\n",
              "      <th>2</th>\n",
              "      <td>01001003026</td>\n",
              "      <td>ADAMS</td>\n",
              "      <td>0030</td>\n",
              "      <td>CENTRAL CUSD 3</td>\n",
              "      <td>CAMP POINT</td>\n",
              "      <td>69.2</td>\n",
              "      <td>84.6</td>\n",
              "      <td>68.3</td>\n",
              "      <td>81.3</td>\n",
              "      <td>75.0</td>\n",
              "      <td>85.9</td>\n",
              "      <td>68.4</td>\n",
              "      <td>88.3</td>\n",
              "      <td>75.0</td>\n",
              "      <td>86.8</td>\n",
              "      <td>84.3</td>\n",
              "      <td>85.3</td>\n",
              "      <td>52.8</td>\n",
              "      <td>46.1</td>\n",
              "      <td>1053</td>\n",
              "      <td>2006</td>\n",
              "      <td>70.428571</td>\n",
              "      <td>79.757143</td>\n",
              "    </tr>\n",
              "    <tr>\n",
              "      <th>3</th>\n",
              "      <td>01001004026</td>\n",
              "      <td>ADAMS</td>\n",
              "      <td>0040</td>\n",
              "      <td>CUSD 4</td>\n",
              "      <td>MENDON</td>\n",
              "      <td>63.0</td>\n",
              "      <td>87.0</td>\n",
              "      <td>83.0</td>\n",
              "      <td>88.7</td>\n",
              "      <td>83.3</td>\n",
              "      <td>94.4</td>\n",
              "      <td>72.9</td>\n",
              "      <td>93.8</td>\n",
              "      <td>65.3</td>\n",
              "      <td>73.5</td>\n",
              "      <td>62.3</td>\n",
              "      <td>75.4</td>\n",
              "      <td>66.0</td>\n",
              "      <td>64.0</td>\n",
              "      <td>786</td>\n",
              "      <td>2006</td>\n",
              "      <td>70.828571</td>\n",
              "      <td>82.400000</td>\n",
              "    </tr>\n",
              "    <tr>\n",
              "      <th>4</th>\n",
              "      <td>01001172022</td>\n",
              "      <td>ADAMS</td>\n",
              "      <td>1720</td>\n",
              "      <td>QUINCY SD 172</td>\n",
              "      <td>QUINCY</td>\n",
              "      <td>75.9</td>\n",
              "      <td>88.1</td>\n",
              "      <td>76.1</td>\n",
              "      <td>87.7</td>\n",
              "      <td>76.5</td>\n",
              "      <td>81.8</td>\n",
              "      <td>76.0</td>\n",
              "      <td>85.4</td>\n",
              "      <td>73.2</td>\n",
              "      <td>81.9</td>\n",
              "      <td>78.0</td>\n",
              "      <td>76.5</td>\n",
              "      <td>50.3</td>\n",
              "      <td>52.7</td>\n",
              "      <td>6484</td>\n",
              "      <td>2006</td>\n",
              "      <td>72.285714</td>\n",
              "      <td>79.157143</td>\n",
              "    </tr>\n",
              "  </tbody>\n",
              "</table>\n",
              "</div>"
            ],
            "text/plain": [
              "          rcdt County  Dist #  District Name/ School Name        City  \\\n",
              "0  01001001026   ADAMS    0010              PAYSON CUSD 1      PAYSON   \n",
              "1  01001002026   ADAMS    0020             LIBERTY CUSD 2     LIBERTY   \n",
              "2  01001003026   ADAMS    0030             CENTRAL CUSD 3  CAMP POINT   \n",
              "3  01001004026   ADAMS    0040                     CUSD 4      MENDON   \n",
              "4  01001172022   ADAMS    1720              QUINCY SD 172      QUINCY   \n",
              "\n",
              "   3rd Grade Reading  3rd Grade Math  4th Grade Reading  4th Grade Math  \\\n",
              "0               70.6            91.2               85.1            97.9   \n",
              "1               86.0           100.0               66.0            83.0   \n",
              "2               69.2            84.6               68.3            81.3   \n",
              "3               63.0            87.0               83.0            88.7   \n",
              "4               75.9            88.1               76.1            87.7   \n",
              "\n",
              "   5th Grade Reading  5th Grade Math  6th Grade Reading  6th Grade Math  \\\n",
              "0               82.5            90.0               78.8            88.5   \n",
              "1               68.1            80.9               73.2            90.2   \n",
              "2               75.0            85.9               68.4            88.3   \n",
              "3               83.3            94.4               72.9            93.8   \n",
              "4               76.5            81.8               76.0            85.4   \n",
              "\n",
              "   7th Grade Reading  7th Grade Math  8th Grade Reading  8th Grade Math  \\\n",
              "0               71.4            69.0               78.7            82.0   \n",
              "1               79.2            83.3               78.0            92.7   \n",
              "2               75.0            86.8               84.3            85.3   \n",
              "3               65.3            73.5               62.3            75.4   \n",
              "4               73.2            81.9               78.0            76.5   \n",
              "\n",
              "   11th Grade Reading  11th Grade Math  Enrollment  Year  Reading AVG  \\\n",
              "0                65.9             46.3         599  2006    76.142857   \n",
              "1                84.2             71.1         626  2006    76.385714   \n",
              "2                52.8             46.1        1053  2006    70.428571   \n",
              "3                66.0             64.0         786  2006    70.828571   \n",
              "4                50.3             52.7        6484  2006    72.285714   \n",
              "\n",
              "    Math AVG  \n",
              "0  80.700000  \n",
              "1  85.885714  \n",
              "2  79.757143  \n",
              "3  82.400000  \n",
              "4  79.157143  "
            ]
          },
          "metadata": {
            "tags": []
          },
          "execution_count": 36
        }
      ]
    },
    {
      "metadata": {
        "id": "Dru5efw_2Zz1",
        "colab_type": "code",
        "outputId": "a9627f1b-d0d2-4654-beb3-9dc5a16b0ad2",
        "colab": {
          "base_uri": "https://localhost:8080/",
          "height": 204
        }
      },
      "cell_type": "code",
      "source": [
        "# drop grade level reading and math columns \n",
        "scores = scores.drop(['3rd Grade Reading', '4th Grade Reading', '5th Grade Reading', '6th Grade Reading', '7th Grade Reading', \n",
        "                      '8th Grade Reading', '11th Grade Reading', '3rd Grade Math', '4th Grade Math', '5th Grade Math', '6th Grade Math',\n",
        "                      '7th Grade Math', '8th Grade Math', '11th Grade Math'],axis=1)\n",
        "scores = scores.rename({'District Name/ School Name':'District Name'}, axis=1)\n",
        "scores = scores.rename({'County ':'County'}, axis=1)"
      ],
      "execution_count": 0,
      "outputs": [
        {
          "output_type": "execute_result",
          "data": {
            "text/html": [
              "<div>\n",
              "<style scoped>\n",
              "    .dataframe tbody tr th:only-of-type {\n",
              "        vertical-align: middle;\n",
              "    }\n",
              "\n",
              "    .dataframe tbody tr th {\n",
              "        vertical-align: top;\n",
              "    }\n",
              "\n",
              "    .dataframe thead th {\n",
              "        text-align: right;\n",
              "    }\n",
              "</style>\n",
              "<table border=\"1\" class=\"dataframe\">\n",
              "  <thead>\n",
              "    <tr style=\"text-align: right;\">\n",
              "      <th></th>\n",
              "      <th>rcdt</th>\n",
              "      <th>County</th>\n",
              "      <th>Dist #</th>\n",
              "      <th>District Name</th>\n",
              "      <th>City</th>\n",
              "      <th>Enrollment</th>\n",
              "      <th>Year</th>\n",
              "      <th>Reading AVG</th>\n",
              "      <th>Math AVG</th>\n",
              "    </tr>\n",
              "  </thead>\n",
              "  <tbody>\n",
              "    <tr>\n",
              "      <th>0</th>\n",
              "      <td>01001001026</td>\n",
              "      <td>ADAMS</td>\n",
              "      <td>0010</td>\n",
              "      <td>PAYSON CUSD 1</td>\n",
              "      <td>PAYSON</td>\n",
              "      <td>599</td>\n",
              "      <td>2006</td>\n",
              "      <td>76.142857</td>\n",
              "      <td>80.700000</td>\n",
              "    </tr>\n",
              "    <tr>\n",
              "      <th>1</th>\n",
              "      <td>01001002026</td>\n",
              "      <td>ADAMS</td>\n",
              "      <td>0020</td>\n",
              "      <td>LIBERTY CUSD 2</td>\n",
              "      <td>LIBERTY</td>\n",
              "      <td>626</td>\n",
              "      <td>2006</td>\n",
              "      <td>76.385714</td>\n",
              "      <td>85.885714</td>\n",
              "    </tr>\n",
              "    <tr>\n",
              "      <th>2</th>\n",
              "      <td>01001003026</td>\n",
              "      <td>ADAMS</td>\n",
              "      <td>0030</td>\n",
              "      <td>CENTRAL CUSD 3</td>\n",
              "      <td>CAMP POINT</td>\n",
              "      <td>1053</td>\n",
              "      <td>2006</td>\n",
              "      <td>70.428571</td>\n",
              "      <td>79.757143</td>\n",
              "    </tr>\n",
              "    <tr>\n",
              "      <th>3</th>\n",
              "      <td>01001004026</td>\n",
              "      <td>ADAMS</td>\n",
              "      <td>0040</td>\n",
              "      <td>CUSD 4</td>\n",
              "      <td>MENDON</td>\n",
              "      <td>786</td>\n",
              "      <td>2006</td>\n",
              "      <td>70.828571</td>\n",
              "      <td>82.400000</td>\n",
              "    </tr>\n",
              "    <tr>\n",
              "      <th>4</th>\n",
              "      <td>01001172022</td>\n",
              "      <td>ADAMS</td>\n",
              "      <td>1720</td>\n",
              "      <td>QUINCY SD 172</td>\n",
              "      <td>QUINCY</td>\n",
              "      <td>6484</td>\n",
              "      <td>2006</td>\n",
              "      <td>72.285714</td>\n",
              "      <td>79.157143</td>\n",
              "    </tr>\n",
              "  </tbody>\n",
              "</table>\n",
              "</div>"
            ],
            "text/plain": [
              "          rcdt County Dist #    District Name        City  Enrollment  Year  \\\n",
              "0  01001001026  ADAMS    0010   PAYSON CUSD 1      PAYSON         599  2006   \n",
              "1  01001002026  ADAMS    0020  LIBERTY CUSD 2     LIBERTY         626  2006   \n",
              "2  01001003026  ADAMS    0030  CENTRAL CUSD 3  CAMP POINT        1053  2006   \n",
              "3  01001004026  ADAMS    0040          CUSD 4      MENDON         786  2006   \n",
              "4  01001172022  ADAMS    1720   QUINCY SD 172      QUINCY        6484  2006   \n",
              "\n",
              "   Reading AVG   Math AVG  \n",
              "0    76.142857  80.700000  \n",
              "1    76.385714  85.885714  \n",
              "2    70.428571  79.757143  \n",
              "3    70.828571  82.400000  \n",
              "4    72.285714  79.157143  "
            ]
          },
          "metadata": {
            "tags": []
          },
          "execution_count": 37
        }
      ]
    },
    {
      "metadata": {
        "id": "4WBIi1RZ8e25",
        "colab_type": "code",
        "outputId": "316c99ba-addf-49bf-da2b-06629396fef6",
        "colab": {
          "base_uri": "https://localhost:8080/",
          "height": 204
        }
      },
      "cell_type": "code",
      "source": [
        "# capitalize County, District Name, and City values \n",
        "scores['County'] = scores['County'].str.upper()\n",
        "scores['District Name'] = scores['District Name'].str.upper()\n",
        "scores['City'] = scores['City'].str.upper()"
      ],
      "execution_count": 0,
      "outputs": [
        {
          "output_type": "execute_result",
          "data": {
            "text/html": [
              "<div>\n",
              "<style scoped>\n",
              "    .dataframe tbody tr th:only-of-type {\n",
              "        vertical-align: middle;\n",
              "    }\n",
              "\n",
              "    .dataframe tbody tr th {\n",
              "        vertical-align: top;\n",
              "    }\n",
              "\n",
              "    .dataframe thead th {\n",
              "        text-align: right;\n",
              "    }\n",
              "</style>\n",
              "<table border=\"1\" class=\"dataframe\">\n",
              "  <thead>\n",
              "    <tr style=\"text-align: right;\">\n",
              "      <th></th>\n",
              "      <th>rcdt</th>\n",
              "      <th>County</th>\n",
              "      <th>Dist #</th>\n",
              "      <th>District Name</th>\n",
              "      <th>City</th>\n",
              "      <th>Enrollment</th>\n",
              "      <th>Year</th>\n",
              "      <th>Reading AVG</th>\n",
              "      <th>Math AVG</th>\n",
              "    </tr>\n",
              "  </thead>\n",
              "  <tbody>\n",
              "    <tr>\n",
              "      <th>0</th>\n",
              "      <td>01001001026</td>\n",
              "      <td>ADAMS</td>\n",
              "      <td>0010</td>\n",
              "      <td>PAYSON CUSD 1</td>\n",
              "      <td>PAYSON</td>\n",
              "      <td>599</td>\n",
              "      <td>2006</td>\n",
              "      <td>76.142857</td>\n",
              "      <td>80.700000</td>\n",
              "    </tr>\n",
              "    <tr>\n",
              "      <th>1</th>\n",
              "      <td>01001002026</td>\n",
              "      <td>ADAMS</td>\n",
              "      <td>0020</td>\n",
              "      <td>LIBERTY CUSD 2</td>\n",
              "      <td>LIBERTY</td>\n",
              "      <td>626</td>\n",
              "      <td>2006</td>\n",
              "      <td>76.385714</td>\n",
              "      <td>85.885714</td>\n",
              "    </tr>\n",
              "    <tr>\n",
              "      <th>2</th>\n",
              "      <td>01001003026</td>\n",
              "      <td>ADAMS</td>\n",
              "      <td>0030</td>\n",
              "      <td>CENTRAL CUSD 3</td>\n",
              "      <td>CAMP POINT</td>\n",
              "      <td>1053</td>\n",
              "      <td>2006</td>\n",
              "      <td>70.428571</td>\n",
              "      <td>79.757143</td>\n",
              "    </tr>\n",
              "    <tr>\n",
              "      <th>3</th>\n",
              "      <td>01001004026</td>\n",
              "      <td>ADAMS</td>\n",
              "      <td>0040</td>\n",
              "      <td>CUSD 4</td>\n",
              "      <td>MENDON</td>\n",
              "      <td>786</td>\n",
              "      <td>2006</td>\n",
              "      <td>70.828571</td>\n",
              "      <td>82.400000</td>\n",
              "    </tr>\n",
              "    <tr>\n",
              "      <th>4</th>\n",
              "      <td>01001172022</td>\n",
              "      <td>ADAMS</td>\n",
              "      <td>1720</td>\n",
              "      <td>QUINCY SD 172</td>\n",
              "      <td>QUINCY</td>\n",
              "      <td>6484</td>\n",
              "      <td>2006</td>\n",
              "      <td>72.285714</td>\n",
              "      <td>79.157143</td>\n",
              "    </tr>\n",
              "  </tbody>\n",
              "</table>\n",
              "</div>"
            ],
            "text/plain": [
              "          rcdt County Dist #    District Name        City  Enrollment  Year  \\\n",
              "0  01001001026  ADAMS    0010   PAYSON CUSD 1      PAYSON         599  2006   \n",
              "1  01001002026  ADAMS    0020  LIBERTY CUSD 2     LIBERTY         626  2006   \n",
              "2  01001003026  ADAMS    0030  CENTRAL CUSD 3  CAMP POINT        1053  2006   \n",
              "3  01001004026  ADAMS    0040          CUSD 4      MENDON         786  2006   \n",
              "4  01001172022  ADAMS    1720   QUINCY SD 172      QUINCY        6484  2006   \n",
              "\n",
              "   Reading AVG   Math AVG  \n",
              "0    76.142857  80.700000  \n",
              "1    76.385714  85.885714  \n",
              "2    70.428571  79.757143  \n",
              "3    70.828571  82.400000  \n",
              "4    72.285714  79.157143  "
            ]
          },
          "metadata": {
            "tags": []
          },
          "execution_count": 38
        }
      ]
    },
    {
      "metadata": {
        "id": "iN-hfrJdKg4f",
        "colab_type": "code",
        "colab": {}
      },
      "cell_type": "code",
      "source": [
        "# rename some counties so that they match\n",
        "scores['County'].replace({'JO DAVIESS':'JODAVIESS', 'LA SALLE':'LASALLE', 'SAINT CLAIR':'ST. CLAIR'},inplace=True, regex=True)"
      ],
      "execution_count": 0,
      "outputs": []
    },
    {
      "metadata": {
        "id": "jbAAgVG_41X6",
        "colab_type": "code",
        "outputId": "64577f22-676e-4288-cec7-ef7a14242876",
        "colab": {
          "base_uri": "https://localhost:8080/",
          "height": 187
        }
      },
      "cell_type": "code",
      "source": [
        "scores.count()"
      ],
      "execution_count": 0,
      "outputs": [
        {
          "output_type": "execute_result",
          "data": {
            "text/plain": [
              "rcdt             6082\n",
              "County           6082\n",
              "Dist #           6082\n",
              "District Name    6082\n",
              "City             6082\n",
              "Enrollment       6082\n",
              "Year             6082\n",
              "Reading AVG      6029\n",
              "Math AVG         6029\n",
              "dtype: int64"
            ]
          },
          "metadata": {
            "tags": []
          },
          "execution_count": 40
        }
      ]
    },
    {
      "metadata": {
        "id": "cLO2elTP5AFH",
        "colab_type": "code",
        "outputId": "750aef46-4591-4b28-a15c-38a2577af0b9",
        "colab": {
          "base_uri": "https://localhost:8080/",
          "height": 187
        }
      },
      "cell_type": "code",
      "source": [
        "# drop rows with no scores \n",
        "scores = scores.dropna()\n",
        "scores.count()"
      ],
      "execution_count": 0,
      "outputs": [
        {
          "output_type": "execute_result",
          "data": {
            "text/plain": [
              "rcdt             6029\n",
              "County           6029\n",
              "Dist #           6029\n",
              "District Name    6029\n",
              "City             6029\n",
              "Enrollment       6029\n",
              "Year             6029\n",
              "Reading AVG      6029\n",
              "Math AVG         6029\n",
              "dtype: int64"
            ]
          },
          "metadata": {
            "tags": []
          },
          "execution_count": 41
        }
      ]
    },
    {
      "metadata": {
        "id": "rArRMIQCKccH",
        "colab_type": "code",
        "outputId": "179682ec-7cbc-47fd-a5a4-5fcda31b3e5f",
        "colab": {
          "base_uri": "https://localhost:8080/",
          "height": 204
        }
      },
      "cell_type": "code",
      "source": [
        "# dataframe of AdjSalMonth, year, and rcdt codes\n",
        "sal_df = df[['rcdt', 'fy', 'AdjSalMonth']].copy()\n"
      ],
      "execution_count": 0,
      "outputs": [
        {
          "output_type": "execute_result",
          "data": {
            "text/html": [
              "<div>\n",
              "<style scoped>\n",
              "    .dataframe tbody tr th:only-of-type {\n",
              "        vertical-align: middle;\n",
              "    }\n",
              "\n",
              "    .dataframe tbody tr th {\n",
              "        vertical-align: top;\n",
              "    }\n",
              "\n",
              "    .dataframe thead th {\n",
              "        text-align: right;\n",
              "    }\n",
              "</style>\n",
              "<table border=\"1\" class=\"dataframe\">\n",
              "  <thead>\n",
              "    <tr style=\"text-align: right;\">\n",
              "      <th></th>\n",
              "      <th>rcdt</th>\n",
              "      <th>fy</th>\n",
              "      <th>AdjSalMonth</th>\n",
              "    </tr>\n",
              "  </thead>\n",
              "  <tbody>\n",
              "    <tr>\n",
              "      <th>0</th>\n",
              "      <td>16019424026</td>\n",
              "      <td>2003</td>\n",
              "      <td>4029.489540</td>\n",
              "    </tr>\n",
              "    <tr>\n",
              "      <th>1</th>\n",
              "      <td>05016036002</td>\n",
              "      <td>2003</td>\n",
              "      <td>12889.019160</td>\n",
              "    </tr>\n",
              "    <tr>\n",
              "      <th>2</th>\n",
              "      <td>34049220026</td>\n",
              "      <td>2003</td>\n",
              "      <td>13310.454613</td>\n",
              "    </tr>\n",
              "    <tr>\n",
              "      <th>3</th>\n",
              "      <td>31045046022</td>\n",
              "      <td>2003</td>\n",
              "      <td>8668.664381</td>\n",
              "    </tr>\n",
              "    <tr>\n",
              "      <th>4</th>\n",
              "      <td>19022086017</td>\n",
              "      <td>2003</td>\n",
              "      <td>10681.660375</td>\n",
              "    </tr>\n",
              "  </tbody>\n",
              "</table>\n",
              "</div>"
            ],
            "text/plain": [
              "          rcdt    fy   AdjSalMonth\n",
              "0  16019424026  2003   4029.489540\n",
              "1  05016036002  2003  12889.019160\n",
              "2  34049220026  2003  13310.454613\n",
              "3  31045046022  2003   8668.664381\n",
              "4  19022086017  2003  10681.660375"
            ]
          },
          "metadata": {
            "tags": []
          },
          "execution_count": 42
        }
      ]
    },
    {
      "metadata": {
        "id": "ZjVnA9ahk046",
        "colab_type": "code",
        "outputId": "fc4da4aa-4de5-44f5-ad7c-0207d3c6ca8e",
        "colab": {
          "base_uri": "https://localhost:8080/",
          "height": 221
        }
      },
      "cell_type": "code",
      "source": [
        "# district salary statistics dataframe\n",
        "dist_sal = pd.DataFrame(sal_df.groupby(['rcdt', 'fy']).describe())\n",
        "dist_sal.reset_index(inplace=True)\n",
        "dist_sal.columns = ['rcdt', 'Year', 'AdjSalMonth count', 'AdjSalMonth mean', 'AdjSalMonth std', 'AdjSalMonth min', 'AdjSalMonth 25%', \n",
        "                   'AdjSalMonth median', 'AdjSalMonth 75%', 'AdjSalMonth max']"
      ],
      "execution_count": 0,
      "outputs": [
        {
          "output_type": "execute_result",
          "data": {
            "text/html": [
              "<div>\n",
              "<style scoped>\n",
              "    .dataframe tbody tr th:only-of-type {\n",
              "        vertical-align: middle;\n",
              "    }\n",
              "\n",
              "    .dataframe tbody tr th {\n",
              "        vertical-align: top;\n",
              "    }\n",
              "\n",
              "    .dataframe thead th {\n",
              "        text-align: right;\n",
              "    }\n",
              "</style>\n",
              "<table border=\"1\" class=\"dataframe\">\n",
              "  <thead>\n",
              "    <tr style=\"text-align: right;\">\n",
              "      <th></th>\n",
              "      <th>rcdt</th>\n",
              "      <th>Year</th>\n",
              "      <th>AdjSalMonth count</th>\n",
              "      <th>AdjSalMonth mean</th>\n",
              "      <th>AdjSalMonth std</th>\n",
              "      <th>AdjSalMonth min</th>\n",
              "      <th>AdjSalMonth 25%</th>\n",
              "      <th>AdjSalMonth median</th>\n",
              "      <th>AdjSalMonth 75%</th>\n",
              "      <th>AdjSalMonth max</th>\n",
              "    </tr>\n",
              "  </thead>\n",
              "  <tbody>\n",
              "    <tr>\n",
              "      <th>0</th>\n",
              "      <td>15016299025</td>\n",
              "      <td>2012</td>\n",
              "      <td>15303.0</td>\n",
              "      <td>8569.292325</td>\n",
              "      <td>2113.583414</td>\n",
              "      <td>181.805610</td>\n",
              "      <td>7029.428566</td>\n",
              "      <td>8934.331427</td>\n",
              "      <td>10122.323304</td>\n",
              "      <td>16127.646723</td>\n",
              "    </tr>\n",
              "    <tr>\n",
              "      <th>1</th>\n",
              "      <td>01001001026</td>\n",
              "      <td>2003</td>\n",
              "      <td>51.0</td>\n",
              "      <td>6224.562218</td>\n",
              "      <td>1150.337947</td>\n",
              "      <td>4430.145655</td>\n",
              "      <td>5213.628925</td>\n",
              "      <td>6325.923951</td>\n",
              "      <td>7130.939698</td>\n",
              "      <td>8346.972084</td>\n",
              "    </tr>\n",
              "    <tr>\n",
              "      <th>2</th>\n",
              "      <td>01001001026</td>\n",
              "      <td>2004</td>\n",
              "      <td>47.0</td>\n",
              "      <td>6212.630489</td>\n",
              "      <td>1387.245664</td>\n",
              "      <td>1802.572492</td>\n",
              "      <td>5249.493201</td>\n",
              "      <td>6582.873738</td>\n",
              "      <td>7253.143470</td>\n",
              "      <td>8432.832606</td>\n",
              "    </tr>\n",
              "    <tr>\n",
              "      <th>3</th>\n",
              "      <td>01001001026</td>\n",
              "      <td>2005</td>\n",
              "      <td>47.0</td>\n",
              "      <td>6171.237846</td>\n",
              "      <td>1356.094989</td>\n",
              "      <td>3236.431496</td>\n",
              "      <td>5161.929075</td>\n",
              "      <td>6292.776145</td>\n",
              "      <td>7247.044196</td>\n",
              "      <td>8760.014495</td>\n",
              "    </tr>\n",
              "    <tr>\n",
              "      <th>4</th>\n",
              "      <td>01001001026</td>\n",
              "      <td>2006</td>\n",
              "      <td>47.0</td>\n",
              "      <td>5964.386253</td>\n",
              "      <td>1424.081385</td>\n",
              "      <td>2728.194087</td>\n",
              "      <td>4714.018487</td>\n",
              "      <td>5814.648197</td>\n",
              "      <td>7176.496919</td>\n",
              "      <td>8396.215003</td>\n",
              "    </tr>\n",
              "  </tbody>\n",
              "</table>\n",
              "</div>"
            ],
            "text/plain": [
              "          rcdt  Year  AdjSalMonth count  AdjSalMonth mean  AdjSalMonth std  \\\n",
              "0  15016299025  2012            15303.0       8569.292325      2113.583414   \n",
              "1  01001001026  2003               51.0       6224.562218      1150.337947   \n",
              "2  01001001026  2004               47.0       6212.630489      1387.245664   \n",
              "3  01001001026  2005               47.0       6171.237846      1356.094989   \n",
              "4  01001001026  2006               47.0       5964.386253      1424.081385   \n",
              "\n",
              "   AdjSalMonth min  AdjSalMonth 25%  AdjSalMonth median  AdjSalMonth 75%  \\\n",
              "0       181.805610      7029.428566         8934.331427     10122.323304   \n",
              "1      4430.145655      5213.628925         6325.923951      7130.939698   \n",
              "2      1802.572492      5249.493201         6582.873738      7253.143470   \n",
              "3      3236.431496      5161.929075         6292.776145      7247.044196   \n",
              "4      2728.194087      4714.018487         5814.648197      7176.496919   \n",
              "\n",
              "   AdjSalMonth max  \n",
              "0     16127.646723  \n",
              "1      8346.972084  \n",
              "2      8432.832606  \n",
              "3      8760.014495  \n",
              "4      8396.215003  "
            ]
          },
          "metadata": {
            "tags": []
          },
          "execution_count": 43
        }
      ]
    },
    {
      "metadata": {
        "id": "Wn07iiz_na6v",
        "colab_type": "code",
        "outputId": "c5179700-004e-4a17-9177-598932720a2d",
        "colab": {
          "base_uri": "https://localhost:8080/",
          "height": 34
        }
      },
      "cell_type": "code",
      "source": [
        "dist_sal.shape"
      ],
      "execution_count": 0,
      "outputs": [
        {
          "output_type": "execute_result",
          "data": {
            "text/plain": [
              "(10136, 10)"
            ]
          },
          "metadata": {
            "tags": []
          },
          "execution_count": 45
        }
      ]
    },
    {
      "metadata": {
        "id": "kZZoKDTQCvmb",
        "colab_type": "code",
        "outputId": "4fdb3d19-067e-4673-e070-021d3e24a42d",
        "colab": {
          "base_uri": "https://localhost:8080/",
          "height": 326
        }
      },
      "cell_type": "code",
      "source": [
        "# join dist_sal dataframe with scores dataframe\n",
        "scores_df = pd.merge(dist_sal, scores, how='inner', on=['rcdt','Year'])"
      ],
      "execution_count": 0,
      "outputs": [
        {
          "output_type": "execute_result",
          "data": {
            "text/html": [
              "<div>\n",
              "<style scoped>\n",
              "    .dataframe tbody tr th:only-of-type {\n",
              "        vertical-align: middle;\n",
              "    }\n",
              "\n",
              "    .dataframe tbody tr th {\n",
              "        vertical-align: top;\n",
              "    }\n",
              "\n",
              "    .dataframe thead th {\n",
              "        text-align: right;\n",
              "    }\n",
              "</style>\n",
              "<table border=\"1\" class=\"dataframe\">\n",
              "  <thead>\n",
              "    <tr style=\"text-align: right;\">\n",
              "      <th></th>\n",
              "      <th>rcdt</th>\n",
              "      <th>Year</th>\n",
              "      <th>AdjSalMonth count</th>\n",
              "      <th>AdjSalMonth mean</th>\n",
              "      <th>AdjSalMonth std</th>\n",
              "      <th>AdjSalMonth min</th>\n",
              "      <th>AdjSalMonth 25%</th>\n",
              "      <th>AdjSalMonth median</th>\n",
              "      <th>AdjSalMonth 75%</th>\n",
              "      <th>AdjSalMonth max</th>\n",
              "      <th>County</th>\n",
              "      <th>Dist #</th>\n",
              "      <th>District Name</th>\n",
              "      <th>City</th>\n",
              "      <th>Enrollment</th>\n",
              "      <th>Reading AVG</th>\n",
              "      <th>Math AVG</th>\n",
              "    </tr>\n",
              "  </thead>\n",
              "  <tbody>\n",
              "    <tr>\n",
              "      <th>0</th>\n",
              "      <td>01001001026</td>\n",
              "      <td>2006</td>\n",
              "      <td>47.0</td>\n",
              "      <td>5964.386253</td>\n",
              "      <td>1424.081385</td>\n",
              "      <td>2728.194087</td>\n",
              "      <td>4714.018487</td>\n",
              "      <td>5814.648197</td>\n",
              "      <td>7176.496919</td>\n",
              "      <td>8396.215003</td>\n",
              "      <td>ADAMS</td>\n",
              "      <td>0010</td>\n",
              "      <td>PAYSON CUSD 1</td>\n",
              "      <td>PAYSON</td>\n",
              "      <td>599</td>\n",
              "      <td>76.142857</td>\n",
              "      <td>80.700000</td>\n",
              "    </tr>\n",
              "    <tr>\n",
              "      <th>1</th>\n",
              "      <td>01001001026</td>\n",
              "      <td>2007</td>\n",
              "      <td>47.0</td>\n",
              "      <td>6012.027420</td>\n",
              "      <td>1410.220155</td>\n",
              "      <td>3891.773646</td>\n",
              "      <td>4723.731287</td>\n",
              "      <td>5833.619875</td>\n",
              "      <td>7283.188269</td>\n",
              "      <td>8552.166251</td>\n",
              "      <td>ADAMS</td>\n",
              "      <td>0010</td>\n",
              "      <td>PAYSON CUSD 1</td>\n",
              "      <td>PAYSON</td>\n",
              "      <td>583</td>\n",
              "      <td>72.228571</td>\n",
              "      <td>78.514286</td>\n",
              "    </tr>\n",
              "    <tr>\n",
              "      <th>2</th>\n",
              "      <td>01001001026</td>\n",
              "      <td>2008</td>\n",
              "      <td>50.0</td>\n",
              "      <td>6005.476387</td>\n",
              "      <td>1533.865579</td>\n",
              "      <td>3862.171813</td>\n",
              "      <td>4688.587570</td>\n",
              "      <td>5632.517492</td>\n",
              "      <td>7219.693003</td>\n",
              "      <td>9607.624483</td>\n",
              "      <td>ADAMS</td>\n",
              "      <td>0010</td>\n",
              "      <td>PAYSON CUSD 1</td>\n",
              "      <td>PAYSON</td>\n",
              "      <td>546</td>\n",
              "      <td>72.814286</td>\n",
              "      <td>77.414286</td>\n",
              "    </tr>\n",
              "    <tr>\n",
              "      <th>3</th>\n",
              "      <td>01001001026</td>\n",
              "      <td>2009</td>\n",
              "      <td>49.0</td>\n",
              "      <td>5990.946466</td>\n",
              "      <td>1709.016862</td>\n",
              "      <td>4156.342831</td>\n",
              "      <td>4815.886692</td>\n",
              "      <td>5513.074859</td>\n",
              "      <td>6876.770300</td>\n",
              "      <td>13420.019088</td>\n",
              "      <td>ADAMS</td>\n",
              "      <td>0010</td>\n",
              "      <td>PAYSON CUSD 1</td>\n",
              "      <td>PAYSON</td>\n",
              "      <td>540</td>\n",
              "      <td>79.242857</td>\n",
              "      <td>83.071429</td>\n",
              "    </tr>\n",
              "    <tr>\n",
              "      <th>4</th>\n",
              "      <td>01001001026</td>\n",
              "      <td>2010</td>\n",
              "      <td>50.0</td>\n",
              "      <td>5995.794153</td>\n",
              "      <td>1705.942709</td>\n",
              "      <td>4251.409746</td>\n",
              "      <td>4691.086451</td>\n",
              "      <td>5548.137360</td>\n",
              "      <td>6842.522359</td>\n",
              "      <td>13369.539783</td>\n",
              "      <td>ADAMS</td>\n",
              "      <td>0010</td>\n",
              "      <td>PAYSON CUSD 1</td>\n",
              "      <td>PAYSON</td>\n",
              "      <td>541</td>\n",
              "      <td>80.228571</td>\n",
              "      <td>84.671429</td>\n",
              "    </tr>\n",
              "  </tbody>\n",
              "</table>\n",
              "</div>"
            ],
            "text/plain": [
              "          rcdt  Year  AdjSalMonth count  AdjSalMonth mean  AdjSalMonth std  \\\n",
              "0  01001001026  2006               47.0       5964.386253      1424.081385   \n",
              "1  01001001026  2007               47.0       6012.027420      1410.220155   \n",
              "2  01001001026  2008               50.0       6005.476387      1533.865579   \n",
              "3  01001001026  2009               49.0       5990.946466      1709.016862   \n",
              "4  01001001026  2010               50.0       5995.794153      1705.942709   \n",
              "\n",
              "   AdjSalMonth min  AdjSalMonth 25%  AdjSalMonth median  AdjSalMonth 75%  \\\n",
              "0      2728.194087      4714.018487         5814.648197      7176.496919   \n",
              "1      3891.773646      4723.731287         5833.619875      7283.188269   \n",
              "2      3862.171813      4688.587570         5632.517492      7219.693003   \n",
              "3      4156.342831      4815.886692         5513.074859      6876.770300   \n",
              "4      4251.409746      4691.086451         5548.137360      6842.522359   \n",
              "\n",
              "   AdjSalMonth max County Dist #   District Name    City  Enrollment  \\\n",
              "0      8396.215003  ADAMS    0010  PAYSON CUSD 1  PAYSON         599   \n",
              "1      8552.166251  ADAMS    0010  PAYSON CUSD 1  PAYSON         583   \n",
              "2      9607.624483  ADAMS    0010  PAYSON CUSD 1  PAYSON         546   \n",
              "3     13420.019088  ADAMS    0010  PAYSON CUSD 1  PAYSON         540   \n",
              "4     13369.539783  ADAMS    0010  PAYSON CUSD 1  PAYSON         541   \n",
              "\n",
              "   Reading AVG   Math AVG  \n",
              "0    76.142857  80.700000  \n",
              "1    72.228571  78.514286  \n",
              "2    72.814286  77.414286  \n",
              "3    79.242857  83.071429  \n",
              "4    80.228571  84.671429  "
            ]
          },
          "metadata": {
            "tags": []
          },
          "execution_count": 44
        }
      ]
    },
    {
      "metadata": {
        "id": "36ZBpMO2DfZF",
        "colab_type": "code",
        "outputId": "bab7e388-f14c-4abc-c6e3-ceda6e17e970",
        "colab": {
          "base_uri": "https://localhost:8080/",
          "height": 34
        }
      },
      "cell_type": "code",
      "source": [
        "scores_df.shape"
      ],
      "execution_count": 0,
      "outputs": [
        {
          "output_type": "execute_result",
          "data": {
            "text/plain": [
              "(5312, 17)"
            ]
          },
          "metadata": {
            "tags": []
          },
          "execution_count": 46
        }
      ]
    },
    {
      "metadata": {
        "id": "gasMtm9i5-zV",
        "colab_type": "code",
        "outputId": "0e4f61fd-5936-4026-a2d5-7313ede67fb9",
        "colab": {
          "base_uri": "https://localhost:8080/",
          "height": 326
        }
      },
      "cell_type": "code",
      "source": [
        "# add column for student to teacher ratio\n",
        "scores_df['Students/Teacher'] = scores_df['Enrollment']/scores_df['AdjSalMonth count']"
      ],
      "execution_count": 0,
      "outputs": [
        {
          "output_type": "execute_result",
          "data": {
            "text/html": [
              "<div>\n",
              "<style scoped>\n",
              "    .dataframe tbody tr th:only-of-type {\n",
              "        vertical-align: middle;\n",
              "    }\n",
              "\n",
              "    .dataframe tbody tr th {\n",
              "        vertical-align: top;\n",
              "    }\n",
              "\n",
              "    .dataframe thead th {\n",
              "        text-align: right;\n",
              "    }\n",
              "</style>\n",
              "<table border=\"1\" class=\"dataframe\">\n",
              "  <thead>\n",
              "    <tr style=\"text-align: right;\">\n",
              "      <th></th>\n",
              "      <th>rcdt</th>\n",
              "      <th>Year</th>\n",
              "      <th>AdjSalMonth count</th>\n",
              "      <th>AdjSalMonth mean</th>\n",
              "      <th>AdjSalMonth std</th>\n",
              "      <th>AdjSalMonth min</th>\n",
              "      <th>AdjSalMonth 25%</th>\n",
              "      <th>AdjSalMonth median</th>\n",
              "      <th>AdjSalMonth 75%</th>\n",
              "      <th>AdjSalMonth max</th>\n",
              "      <th>County</th>\n",
              "      <th>Dist #</th>\n",
              "      <th>District Name</th>\n",
              "      <th>City</th>\n",
              "      <th>Enrollment</th>\n",
              "      <th>Reading AVG</th>\n",
              "      <th>Math AVG</th>\n",
              "      <th>Students/Teacher</th>\n",
              "    </tr>\n",
              "  </thead>\n",
              "  <tbody>\n",
              "    <tr>\n",
              "      <th>0</th>\n",
              "      <td>01001001026</td>\n",
              "      <td>2006</td>\n",
              "      <td>47.0</td>\n",
              "      <td>5964.386253</td>\n",
              "      <td>1424.081385</td>\n",
              "      <td>2728.194087</td>\n",
              "      <td>4714.018487</td>\n",
              "      <td>5814.648197</td>\n",
              "      <td>7176.496919</td>\n",
              "      <td>8396.215003</td>\n",
              "      <td>ADAMS</td>\n",
              "      <td>0010</td>\n",
              "      <td>PAYSON CUSD 1</td>\n",
              "      <td>PAYSON</td>\n",
              "      <td>599</td>\n",
              "      <td>76.142857</td>\n",
              "      <td>80.700000</td>\n",
              "      <td>12.744681</td>\n",
              "    </tr>\n",
              "    <tr>\n",
              "      <th>1</th>\n",
              "      <td>01001001026</td>\n",
              "      <td>2007</td>\n",
              "      <td>47.0</td>\n",
              "      <td>6012.027420</td>\n",
              "      <td>1410.220155</td>\n",
              "      <td>3891.773646</td>\n",
              "      <td>4723.731287</td>\n",
              "      <td>5833.619875</td>\n",
              "      <td>7283.188269</td>\n",
              "      <td>8552.166251</td>\n",
              "      <td>ADAMS</td>\n",
              "      <td>0010</td>\n",
              "      <td>PAYSON CUSD 1</td>\n",
              "      <td>PAYSON</td>\n",
              "      <td>583</td>\n",
              "      <td>72.228571</td>\n",
              "      <td>78.514286</td>\n",
              "      <td>12.404255</td>\n",
              "    </tr>\n",
              "    <tr>\n",
              "      <th>2</th>\n",
              "      <td>01001001026</td>\n",
              "      <td>2008</td>\n",
              "      <td>50.0</td>\n",
              "      <td>6005.476387</td>\n",
              "      <td>1533.865579</td>\n",
              "      <td>3862.171813</td>\n",
              "      <td>4688.587570</td>\n",
              "      <td>5632.517492</td>\n",
              "      <td>7219.693003</td>\n",
              "      <td>9607.624483</td>\n",
              "      <td>ADAMS</td>\n",
              "      <td>0010</td>\n",
              "      <td>PAYSON CUSD 1</td>\n",
              "      <td>PAYSON</td>\n",
              "      <td>546</td>\n",
              "      <td>72.814286</td>\n",
              "      <td>77.414286</td>\n",
              "      <td>10.920000</td>\n",
              "    </tr>\n",
              "    <tr>\n",
              "      <th>3</th>\n",
              "      <td>01001001026</td>\n",
              "      <td>2009</td>\n",
              "      <td>49.0</td>\n",
              "      <td>5990.946466</td>\n",
              "      <td>1709.016862</td>\n",
              "      <td>4156.342831</td>\n",
              "      <td>4815.886692</td>\n",
              "      <td>5513.074859</td>\n",
              "      <td>6876.770300</td>\n",
              "      <td>13420.019088</td>\n",
              "      <td>ADAMS</td>\n",
              "      <td>0010</td>\n",
              "      <td>PAYSON CUSD 1</td>\n",
              "      <td>PAYSON</td>\n",
              "      <td>540</td>\n",
              "      <td>79.242857</td>\n",
              "      <td>83.071429</td>\n",
              "      <td>11.020408</td>\n",
              "    </tr>\n",
              "    <tr>\n",
              "      <th>4</th>\n",
              "      <td>01001001026</td>\n",
              "      <td>2010</td>\n",
              "      <td>50.0</td>\n",
              "      <td>5995.794153</td>\n",
              "      <td>1705.942709</td>\n",
              "      <td>4251.409746</td>\n",
              "      <td>4691.086451</td>\n",
              "      <td>5548.137360</td>\n",
              "      <td>6842.522359</td>\n",
              "      <td>13369.539783</td>\n",
              "      <td>ADAMS</td>\n",
              "      <td>0010</td>\n",
              "      <td>PAYSON CUSD 1</td>\n",
              "      <td>PAYSON</td>\n",
              "      <td>541</td>\n",
              "      <td>80.228571</td>\n",
              "      <td>84.671429</td>\n",
              "      <td>10.820000</td>\n",
              "    </tr>\n",
              "  </tbody>\n",
              "</table>\n",
              "</div>"
            ],
            "text/plain": [
              "          rcdt  Year  AdjSalMonth count  AdjSalMonth mean  AdjSalMonth std  \\\n",
              "0  01001001026  2006               47.0       5964.386253      1424.081385   \n",
              "1  01001001026  2007               47.0       6012.027420      1410.220155   \n",
              "2  01001001026  2008               50.0       6005.476387      1533.865579   \n",
              "3  01001001026  2009               49.0       5990.946466      1709.016862   \n",
              "4  01001001026  2010               50.0       5995.794153      1705.942709   \n",
              "\n",
              "   AdjSalMonth min  AdjSalMonth 25%  AdjSalMonth median  AdjSalMonth 75%  \\\n",
              "0      2728.194087      4714.018487         5814.648197      7176.496919   \n",
              "1      3891.773646      4723.731287         5833.619875      7283.188269   \n",
              "2      3862.171813      4688.587570         5632.517492      7219.693003   \n",
              "3      4156.342831      4815.886692         5513.074859      6876.770300   \n",
              "4      4251.409746      4691.086451         5548.137360      6842.522359   \n",
              "\n",
              "   AdjSalMonth max County Dist #   District Name    City  Enrollment  \\\n",
              "0      8396.215003  ADAMS    0010  PAYSON CUSD 1  PAYSON         599   \n",
              "1      8552.166251  ADAMS    0010  PAYSON CUSD 1  PAYSON         583   \n",
              "2      9607.624483  ADAMS    0010  PAYSON CUSD 1  PAYSON         546   \n",
              "3     13420.019088  ADAMS    0010  PAYSON CUSD 1  PAYSON         540   \n",
              "4     13369.539783  ADAMS    0010  PAYSON CUSD 1  PAYSON         541   \n",
              "\n",
              "   Reading AVG   Math AVG  Students/Teacher  \n",
              "0    76.142857  80.700000         12.744681  \n",
              "1    72.228571  78.514286         12.404255  \n",
              "2    72.814286  77.414286         10.920000  \n",
              "3    79.242857  83.071429         11.020408  \n",
              "4    80.228571  84.671429         10.820000  "
            ]
          },
          "metadata": {
            "tags": []
          },
          "execution_count": 47
        }
      ]
    },
    {
      "metadata": {
        "id": "BzCs_YY97fQH",
        "colab_type": "code",
        "colab": {}
      },
      "cell_type": "code",
      "source": [
        "# Command to download the CSV file to your Google Drive. File is scores.csv\n",
        "scores_df.to_csv('scores.csv')\n",
        "!cp scores.csv drive/My\\ Drive/"
      ],
      "execution_count": 0,
      "outputs": []
    },
    {
      "metadata": {
        "id": "0swR_G8IGYEU",
        "colab_type": "code",
        "outputId": "8739e13c-273c-4447-bd27-4c41b4fd5324",
        "colab": {
          "base_uri": "https://localhost:8080/",
          "height": 667
        }
      },
      "cell_type": "code",
      "source": [
        "#heatmap\n",
        "# Compute the correlation matrix\n",
        "corr_mat = scores_df.corr()\n",
        "\n",
        "# Generate a mask for the upper triangle\n",
        "mask2 = np.zeros_like(corr_mat, dtype=np.bool)\n",
        "mask2[np.triu_indices_from(mask2)] = True\n",
        "\n",
        "# Set up the matplotlib figure\n",
        "f, ax = plt.subplots(figsize=(11, 9))\n",
        "\n",
        "# Generate a custom diverging colormap\n",
        "cmap = sns.diverging_palette(220, 10, as_cmap=True)\n",
        "\n",
        "# Draw the heatmap with the mask and correct aspect ratio\n",
        "sns.heatmap(corr_mat, mask=mask2, cmap=cmap, vmax=.3, center=0,\n",
        "            square=True, linewidths=.5, cbar_kws={\"shrink\": .5})"
      ],
      "execution_count": 0,
      "outputs": [
        {
          "output_type": "execute_result",
          "data": {
            "text/plain": [
              "<matplotlib.axes._subplots.AxesSubplot at 0x7f89a6026470>"
            ]
          },
          "metadata": {
            "tags": []
          },
          "execution_count": 49
        },
        {
          "output_type": "display_data",
          "data": {
            "image/png": "[encoded data removed]",
            "text/plain": [
              "<Figure size 792x648 with 2 Axes>"
            ]
          },
          "metadata": {
            "tags": []
          }
        }
      ]
    },
    {
      "metadata": {
        "id": "ELXvv4mDMGRH",
        "colab_type": "code",
        "outputId": "7a1576a5-9e82-4fdd-ad8b-5f466be86fb1",
        "colab": {
          "base_uri": "https://localhost:8080/",
          "height": 342
        }
      },
      "cell_type": "code",
      "source": [
        "sns.violinplot(y='Math AVG', data=scores_df).set_title('Distribution of Average Math Scores')\n"
      ],
      "execution_count": 0,
      "outputs": [
        {
          "output_type": "execute_result",
          "data": {
            "text/plain": [
              "Text(0.5, 1.0, 'Distribution of Average Math Scores')"
            ]
          },
          "metadata": {
            "tags": []
          },
          "execution_count": 74
        },
        {
          "output_type": "display_data",
          "data": {
            "image/png": "[encoded data removed]",
            "text/plain": [
              "<Figure size 504x360 with 1 Axes>"
            ]
          },
          "metadata": {
            "tags": []
          }
        }
      ]
    },
    {
      "metadata": {
        "id": "2cpC_cBXNWXm",
        "colab_type": "code",
        "outputId": "f495be8b-1dbc-4c51-b26c-75d33ce43449",
        "colab": {
          "base_uri": "https://localhost:8080/",
          "height": 342
        }
      },
      "cell_type": "code",
      "source": [
        "sns.violinplot(y='Reading AVG', data=scores_df, color='red').set_title('Distribution of Average Reading Scores')"
      ],
      "execution_count": 0,
      "outputs": [
        {
          "output_type": "execute_result",
          "data": {
            "text/plain": [
              "Text(0.5, 1.0, 'Distribution of Average Reading Scores')"
            ]
          },
          "metadata": {
            "tags": []
          },
          "execution_count": 72
        },
        {
          "output_type": "display_data",
          "data": {
            "image/png": "[encoded data removed]",
            "text/plain": [
              "<Figure size 504x360 with 1 Axes>"
            ]
          },
          "metadata": {
            "tags": []
          }
        }
      ]
    },
    {
      "metadata": {
        "id": "DJ3PamouVHMy",
        "colab_type": "code",
        "outputId": "b4a3e6b4-b070-426b-e473-8b836425d9f9",
        "colab": {
          "base_uri": "https://localhost:8080/",
          "height": 342
        }
      },
      "cell_type": "code",
      "source": [
        "sns.violinplot(y='Enrollment', data=scores_df, color='green').set_title('Enrollment Distribution')"
      ],
      "execution_count": 0,
      "outputs": [
        {
          "output_type": "execute_result",
          "data": {
            "text/plain": [
              "Text(0.5, 1.0, 'Enrollment Distribution')"
            ]
          },
          "metadata": {
            "tags": []
          },
          "execution_count": 75
        },
        {
          "output_type": "display_data",
          "data": {
            "image/png": "[encoded data removed]",
            "text/plain": [
              "<Figure size 504x360 with 1 Axes>"
            ]
          },
          "metadata": {
            "tags": []
          }
        }
      ]
    },
    {
      "metadata": {
        "id": "zMbcFvJ8fVIX",
        "colab_type": "code",
        "colab": {}
      },
      "cell_type": "code",
      "source": [
        ""
      ],
      "execution_count": 0,
      "outputs": []
    },
    {
      "metadata": {
        "id": "UAjacq9_Xhst",
        "colab_type": "code",
        "outputId": "a274ba56-cc4a-4581-c2ae-2f7d98672e18",
        "colab": {
          "base_uri": "https://localhost:8080/",
          "height": 342
        }
      },
      "cell_type": "code",
      "source": [
        "sns.violinplot(y='Students/Teacher', data=scores_df, color='purple').set_title('Student:Teacher Ratio Distribution')"
      ],
      "execution_count": 0,
      "outputs": [
        {
          "output_type": "execute_result",
          "data": {
            "text/plain": [
              "Text(0.5, 1.0, 'Student:Teacher Ratio Distribution')"
            ]
          },
          "metadata": {
            "tags": []
          },
          "execution_count": 78
        },
        {
          "output_type": "display_data",
          "data": {
            "image/png": "[encoded data removed]",
            "text/plain": [
              "<Figure size 504x360 with 1 Axes>"
            ]
          },
          "metadata": {
            "tags": []
          }
        }
      ]
    }
  ]
}