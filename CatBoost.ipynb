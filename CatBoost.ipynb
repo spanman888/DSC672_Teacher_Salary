{
  "nbformat": 4,
  "nbformat_minor": 0,
  "metadata": {
    "colab": {
      "name": "CatBoost.ipynb",
      "version": "0.3.2",
      "provenance": [],
      "collapsed_sections": [],
      "include_colab_link": true
    },
    "kernelspec": {
      "name": "python3",
      "display_name": "Python 3"
    }
  },
  "cells": [
    {
      "cell_type": "markdown",
      "metadata": {
        "id": "view-in-github",
        "colab_type": "text"
      },
      "source": [
        "<a href=\"https://colab.research.google.com/github/spanman888/DSC672_Teacher_Salary/blob/master/CatBoost.ipynb\" target=\"_parent\"><img src=\"https://colab.research.google.com/assets/colab-badge.svg\" alt=\"Open In Colab\"/></a>"
      ]
    },
    {
      "cell_type": "code",
      "metadata": {
        "id": "95fZT5xCjo4k",
        "colab_type": "code",
        "outputId": "2476d13e-c3c9-40e4-964b-128a1f55cb30",
        "colab": {
          "base_uri": "https://localhost:8080/",
          "height": 212
        }
      },
      "source": [
        "!pip install catboost\n",
        "import pandas as pd\n",
        "import os\n",
        "import numpy as np\n",
        "import math\n",
        "import time\n",
        "import matplotlib.pyplot as plt\n",
        "import sys\n",
        "import csv\n",
        "from operator import itemgetter\n",
        "import copy\n",
        "\n",
        "from sklearn.model_selection import cross_validate, train_test_split \n",
        "from sklearn.linear_model import LinearRegression\n",
        "from sklearn import metrics\n",
        "from sklearn.ensemble import RandomForestRegressor, GradientBoostingRegressor\n",
        "from sklearn.neighbors import KNeighborsRegressor\n",
        "from sklearn.neural_network import MLPRegressor\n",
        "from sklearn.svm import SVR\n",
        "from sklearn.ensemble import RandomForestClassifier, RandomForestRegressor\n",
        "from sklearn.externals import joblib\n",
        "from sklearn.feature_selection import RFE, VarianceThreshold, SelectFromModel\n",
        "from sklearn.feature_selection import SelectKBest, mutual_info_regression, mutual_info_classif, chi2\n",
        "from sklearn import metrics\n",
        "from sklearn.model_selection import cross_validate, train_test_split\n",
        "from sklearn.preprocessing import KBinsDiscretizer, scale\n",
        "from catboost import CatBoostRegressor, Pool\n",
        "\n",
        "pd.set_option('display.max_columns', 100)"
      ],
      "execution_count": 0,
      "outputs": [
        {
          "output_type": "stream",
          "text": [
            "Collecting catboost\n",
            "\u001b[?25l  Downloading https://files.pythonhosted.org/packages/5a/8a/a867c35770291646b085e9248814eb32dbe2aa824715b08e40cd92d0a83e/catboost-0.15.1-cp36-none-manylinux1_x86_64.whl (61.0MB)\n",
            "\u001b[K     |████████████████████████████████| 61.1MB 529kB/s \n",
            "\u001b[?25hRequirement already satisfied: graphviz in /usr/local/lib/python3.6/dist-packages (from catboost) (0.10.1)\n",
            "Requirement already satisfied: six in /usr/local/lib/python3.6/dist-packages (from catboost) (1.12.0)\n",
            "Requirement already satisfied: pandas>=0.19.1 in /usr/local/lib/python3.6/dist-packages (from catboost) (0.24.2)\n",
            "Requirement already satisfied: numpy>=1.16.0 in /usr/local/lib/python3.6/dist-packages (from catboost) (1.16.4)\n",
            "Requirement already satisfied: python-dateutil>=2.5.0 in /usr/local/lib/python3.6/dist-packages (from pandas>=0.19.1->catboost) (2.5.3)\n",
            "Requirement already satisfied: pytz>=2011k in /usr/local/lib/python3.6/dist-packages (from pandas>=0.19.1->catboost) (2018.9)\n",
            "Installing collected packages: catboost\n",
            "Successfully installed catboost-0.15.1\n"
          ],
          "name": "stdout"
        }
      ]
    },
    {
      "cell_type": "code",
      "metadata": {
        "id": "1NRpjZTjjyUP",
        "colab_type": "code",
        "outputId": "0e579807-f148-4a1b-98da-1ee451eb15fb",
        "colab": {
          "base_uri": "https://localhost:8080/",
          "height": 125
        }
      },
      "source": [
        "# In order to download files to local file system\n",
        "from google.colab import drive\n",
        "drive.mount('drive')"
      ],
      "execution_count": 0,
      "outputs": [
        {
          "output_type": "stream",
          "text": [
            "Go to this URL in a browser: https://accounts.google.com/o/oauth2/auth?client_id=947318989803-6bn6qk8qdgf4n4g3pfee6491hc0brc4i.apps.googleusercontent.com&redirect_uri=urn%3Aietf%3Awg%3Aoauth%3A2.0%3Aoob&scope=email%20https%3A%2F%2Fwww.googleapis.com%2Fauth%2Fdocs.test%20https%3A%2F%2Fwww.googleapis.com%2Fauth%2Fdrive%20https%3A%2F%2Fwww.googleapis.com%2Fauth%2Fdrive.photos.readonly%20https%3A%2F%2Fwww.googleapis.com%2Fauth%2Fpeopleapi.readonly&response_type=code\n",
            "\n",
            "Enter your authorization code:\n",
            "··········\n",
            "Mounted at drive\n"
          ],
          "name": "stdout"
        }
      ]
    },
    {
      "cell_type": "code",
      "metadata": {
        "id": "IkffdKzDj9ZI",
        "colab_type": "code",
        "outputId": "4a715a7a-37ef-491a-b8ce-de9d8be9e912",
        "colab": {
          "base_uri": "https://localhost:8080/",
          "height": 438
        }
      },
      "source": [
        "#Download  dataframe\n",
        "#This is with specific redundant columns removed as well as outliers per previous analysis\n",
        "df_cat = pd.read_csv('drive/My Drive/df_cat.csv', index_col=0)\n",
        "df_cat.head(10)"
      ],
      "execution_count": 0,
      "outputs": [
        {
          "output_type": "stream",
          "text": [
            "/usr/local/lib/python3.6/dist-packages/IPython/core/interactiveshell.py:2718: DtypeWarning: Columns (2) have mixed types. Specify dtype option on import or set low_memory=False.\n",
            "  interactivity=interactivity, compiler=compiler, result=result)\n",
            "/usr/local/lib/python3.6/dist-packages/numpy/lib/arraysetops.py:569: FutureWarning: elementwise comparison failed; returning scalar instead, but in the future will perform elementwise comparison\n",
            "  mask |= (ar1 == a)\n"
          ],
          "name": "stderr"
        },
        {
          "output_type": "execute_result",
          "data": {
            "text/html": [
              "<div>\n",
              "<style scoped>\n",
              "    .dataframe tbody tr th:only-of-type {\n",
              "        vertical-align: middle;\n",
              "    }\n",
              "\n",
              "    .dataframe tbody tr th {\n",
              "        vertical-align: top;\n",
              "    }\n",
              "\n",
              "    .dataframe thead th {\n",
              "        text-align: right;\n",
              "    }\n",
              "</style>\n",
              "<table border=\"1\" class=\"dataframe\">\n",
              "  <thead>\n",
              "    <tr style=\"text-align: right;\">\n",
              "      <th></th>\n",
              "      <th>AdjSalMonth</th>\n",
              "      <th>sch_num</th>\n",
              "      <th>gender</th>\n",
              "      <th>emply_desc</th>\n",
              "      <th>months_employed</th>\n",
              "      <th>fte</th>\n",
              "      <th>dist_exp</th>\n",
              "      <th>state_exp</th>\n",
              "      <th>out_of_state_exp</th>\n",
              "      <th>pos_cd</th>\n",
              "      <th>low_grade</th>\n",
              "      <th>high_grade</th>\n",
              "      <th>pct_admin</th>\n",
              "      <th>first_3</th>\n",
              "      <th>Zip_Type</th>\n",
              "      <th>multi_assign_2</th>\n",
              "      <th>multi_assign_3</th>\n",
              "      <th>eth_groups</th>\n",
              "      <th>edu_groups</th>\n",
              "      <th>grade_taught</th>\n",
              "      <th>loc_taught</th>\n",
              "      <th>assign1_groups</th>\n",
              "    </tr>\n",
              "  </thead>\n",
              "  <tbody>\n",
              "    <tr>\n",
              "      <th>0</th>\n",
              "      <td>4029.489540</td>\n",
              "      <td>1003</td>\n",
              "      <td>F</td>\n",
              "      <td>Full-Time</td>\n",
              "      <td>9</td>\n",
              "      <td>100</td>\n",
              "      <td>1.0</td>\n",
              "      <td>1.0</td>\n",
              "      <td>0.0</td>\n",
              "      <td>20</td>\n",
              "      <td>00</td>\n",
              "      <td>07</td>\n",
              "      <td>0.0</td>\n",
              "      <td>601</td>\n",
              "      <td>Suburb</td>\n",
              "      <td>0</td>\n",
              "      <td>0</td>\n",
              "      <td>White</td>\n",
              "      <td>Bachelors</td>\n",
              "      <td>7</td>\n",
              "      <td>OneSch_Taught</td>\n",
              "      <td>3</td>\n",
              "    </tr>\n",
              "    <tr>\n",
              "      <th>1</th>\n",
              "      <td>12889.019160</td>\n",
              "      <td>1005</td>\n",
              "      <td>F</td>\n",
              "      <td>Full-Time</td>\n",
              "      <td>9</td>\n",
              "      <td>100</td>\n",
              "      <td>23.0</td>\n",
              "      <td>27.0</td>\n",
              "      <td>1.0</td>\n",
              "      <td>20</td>\n",
              "      <td>07</td>\n",
              "      <td>08</td>\n",
              "      <td>0.0</td>\n",
              "      <td>600</td>\n",
              "      <td>Suburb</td>\n",
              "      <td>0</td>\n",
              "      <td>0</td>\n",
              "      <td>White</td>\n",
              "      <td>Masters</td>\n",
              "      <td>8</td>\n",
              "      <td>OneSch_Taught</td>\n",
              "      <td>6</td>\n",
              "    </tr>\n",
              "    <tr>\n",
              "      <th>3</th>\n",
              "      <td>8668.664381</td>\n",
              "      <td>1003</td>\n",
              "      <td>F</td>\n",
              "      <td>Full-Time</td>\n",
              "      <td>9</td>\n",
              "      <td>100</td>\n",
              "      <td>12.0</td>\n",
              "      <td>12.0</td>\n",
              "      <td>0.0</td>\n",
              "      <td>20</td>\n",
              "      <td>07</td>\n",
              "      <td>08</td>\n",
              "      <td>0.0</td>\n",
              "      <td>601</td>\n",
              "      <td>Suburb</td>\n",
              "      <td>0</td>\n",
              "      <td>0</td>\n",
              "      <td>White</td>\n",
              "      <td>Masters</td>\n",
              "      <td>8</td>\n",
              "      <td>OneSch_Taught</td>\n",
              "      <td>6</td>\n",
              "    </tr>\n",
              "    <tr>\n",
              "      <th>4</th>\n",
              "      <td>10681.660375</td>\n",
              "      <td>2</td>\n",
              "      <td>F</td>\n",
              "      <td>Full-Time</td>\n",
              "      <td>10</td>\n",
              "      <td>100</td>\n",
              "      <td>5.0</td>\n",
              "      <td>5.0</td>\n",
              "      <td>8.0</td>\n",
              "      <td>22</td>\n",
              "      <td>09</td>\n",
              "      <td>12</td>\n",
              "      <td>0.0</td>\n",
              "      <td>605</td>\n",
              "      <td>Suburb</td>\n",
              "      <td>0</td>\n",
              "      <td>0</td>\n",
              "      <td>White</td>\n",
              "      <td>Masters</td>\n",
              "      <td>12</td>\n",
              "      <td>OneSch_Taught</td>\n",
              "      <td>1</td>\n",
              "    </tr>\n",
              "    <tr>\n",
              "      <th>5</th>\n",
              "      <td>8012.189620</td>\n",
              "      <td>2002</td>\n",
              "      <td>F</td>\n",
              "      <td>Full-Time</td>\n",
              "      <td>10</td>\n",
              "      <td>100</td>\n",
              "      <td>1.0</td>\n",
              "      <td>2.0</td>\n",
              "      <td>9.0</td>\n",
              "      <td>19</td>\n",
              "      <td>01</td>\n",
              "      <td>05</td>\n",
              "      <td>0.0</td>\n",
              "      <td>600</td>\n",
              "      <td>Suburb</td>\n",
              "      <td>0</td>\n",
              "      <td>0</td>\n",
              "      <td>White</td>\n",
              "      <td>Doctorate</td>\n",
              "      <td>5</td>\n",
              "      <td>OneSch_Taught</td>\n",
              "      <td>4</td>\n",
              "    </tr>\n",
              "    <tr>\n",
              "      <th>6</th>\n",
              "      <td>7298.253984</td>\n",
              "      <td>2002</td>\n",
              "      <td>F</td>\n",
              "      <td>Full-Time</td>\n",
              "      <td>9</td>\n",
              "      <td>100</td>\n",
              "      <td>9.0</td>\n",
              "      <td>9.0</td>\n",
              "      <td>0.0</td>\n",
              "      <td>20</td>\n",
              "      <td>00</td>\n",
              "      <td>06</td>\n",
              "      <td>0.0</td>\n",
              "      <td>600</td>\n",
              "      <td>Suburb</td>\n",
              "      <td>0</td>\n",
              "      <td>0</td>\n",
              "      <td>White</td>\n",
              "      <td>Masters</td>\n",
              "      <td>6</td>\n",
              "      <td>OneSch_Taught</td>\n",
              "      <td>6</td>\n",
              "    </tr>\n",
              "    <tr>\n",
              "      <th>7</th>\n",
              "      <td>8576.624386</td>\n",
              "      <td>30</td>\n",
              "      <td>F</td>\n",
              "      <td>Full-Time</td>\n",
              "      <td>9</td>\n",
              "      <td>100</td>\n",
              "      <td>8.0</td>\n",
              "      <td>8.0</td>\n",
              "      <td>0.0</td>\n",
              "      <td>22</td>\n",
              "      <td>09</td>\n",
              "      <td>12</td>\n",
              "      <td>0.0</td>\n",
              "      <td>606</td>\n",
              "      <td>Chicago</td>\n",
              "      <td>0</td>\n",
              "      <td>0</td>\n",
              "      <td>White</td>\n",
              "      <td>Bachelors</td>\n",
              "      <td>12</td>\n",
              "      <td>OneSch_Taught</td>\n",
              "      <td>4</td>\n",
              "    </tr>\n",
              "    <tr>\n",
              "      <th>8</th>\n",
              "      <td>7031.448365</td>\n",
              "      <td>1017</td>\n",
              "      <td>M</td>\n",
              "      <td>Full-Time</td>\n",
              "      <td>10</td>\n",
              "      <td>100</td>\n",
              "      <td>3.0</td>\n",
              "      <td>3.0</td>\n",
              "      <td>0.0</td>\n",
              "      <td>20</td>\n",
              "      <td>00</td>\n",
              "      <td>06</td>\n",
              "      <td>0.0</td>\n",
              "      <td>601</td>\n",
              "      <td>Suburb</td>\n",
              "      <td>1</td>\n",
              "      <td>1</td>\n",
              "      <td>White</td>\n",
              "      <td>Masters</td>\n",
              "      <td>6</td>\n",
              "      <td>OneSch_Taught</td>\n",
              "      <td>1</td>\n",
              "    </tr>\n",
              "    <tr>\n",
              "      <th>9</th>\n",
              "      <td>7751.625187</td>\n",
              "      <td>13</td>\n",
              "      <td>M</td>\n",
              "      <td>Full-Time</td>\n",
              "      <td>9</td>\n",
              "      <td>100</td>\n",
              "      <td>2.0</td>\n",
              "      <td>2.0</td>\n",
              "      <td>0.0</td>\n",
              "      <td>22</td>\n",
              "      <td>09</td>\n",
              "      <td>12</td>\n",
              "      <td>0.0</td>\n",
              "      <td>605</td>\n",
              "      <td>Suburb</td>\n",
              "      <td>0</td>\n",
              "      <td>0</td>\n",
              "      <td>White</td>\n",
              "      <td>Masters</td>\n",
              "      <td>12</td>\n",
              "      <td>OneSch_Taught</td>\n",
              "      <td>3</td>\n",
              "    </tr>\n",
              "    <tr>\n",
              "      <th>10</th>\n",
              "      <td>6745.656485</td>\n",
              "      <td>1</td>\n",
              "      <td>F</td>\n",
              "      <td>Full-Time</td>\n",
              "      <td>10</td>\n",
              "      <td>100</td>\n",
              "      <td>3.0</td>\n",
              "      <td>3.0</td>\n",
              "      <td>0.0</td>\n",
              "      <td>22</td>\n",
              "      <td>09</td>\n",
              "      <td>12</td>\n",
              "      <td>0.0</td>\n",
              "      <td>602</td>\n",
              "      <td>Other</td>\n",
              "      <td>0</td>\n",
              "      <td>0</td>\n",
              "      <td>White</td>\n",
              "      <td>Masters</td>\n",
              "      <td>12</td>\n",
              "      <td>OneSch_Taught</td>\n",
              "      <td>2</td>\n",
              "    </tr>\n",
              "  </tbody>\n",
              "</table>\n",
              "</div>"
            ],
            "text/plain": [
              "     AdjSalMonth sch_num gender emply_desc  months_employed  fte  dist_exp  \\\n",
              "0    4029.489540    1003      F  Full-Time                9  100       1.0   \n",
              "1   12889.019160    1005      F  Full-Time                9  100      23.0   \n",
              "3    8668.664381    1003      F  Full-Time                9  100      12.0   \n",
              "4   10681.660375       2      F  Full-Time               10  100       5.0   \n",
              "5    8012.189620    2002      F  Full-Time               10  100       1.0   \n",
              "6    7298.253984    2002      F  Full-Time                9  100       9.0   \n",
              "7    8576.624386      30      F  Full-Time                9  100       8.0   \n",
              "8    7031.448365    1017      M  Full-Time               10  100       3.0   \n",
              "9    7751.625187      13      M  Full-Time                9  100       2.0   \n",
              "10   6745.656485       1      F  Full-Time               10  100       3.0   \n",
              "\n",
              "    state_exp  out_of_state_exp  pos_cd low_grade high_grade  pct_admin  \\\n",
              "0         1.0               0.0      20        00         07        0.0   \n",
              "1        27.0               1.0      20        07         08        0.0   \n",
              "3        12.0               0.0      20        07         08        0.0   \n",
              "4         5.0               8.0      22        09         12        0.0   \n",
              "5         2.0               9.0      19        01         05        0.0   \n",
              "6         9.0               0.0      20        00         06        0.0   \n",
              "7         8.0               0.0      22        09         12        0.0   \n",
              "8         3.0               0.0      20        00         06        0.0   \n",
              "9         2.0               0.0      22        09         12        0.0   \n",
              "10        3.0               0.0      22        09         12        0.0   \n",
              "\n",
              "    first_3 Zip_Type  multi_assign_2  multi_assign_3 eth_groups edu_groups  \\\n",
              "0       601   Suburb               0               0      White  Bachelors   \n",
              "1       600   Suburb               0               0      White    Masters   \n",
              "3       601   Suburb               0               0      White    Masters   \n",
              "4       605   Suburb               0               0      White    Masters   \n",
              "5       600   Suburb               0               0      White  Doctorate   \n",
              "6       600   Suburb               0               0      White    Masters   \n",
              "7       606  Chicago               0               0      White  Bachelors   \n",
              "8       601   Suburb               1               1      White    Masters   \n",
              "9       605   Suburb               0               0      White    Masters   \n",
              "10      602    Other               0               0      White    Masters   \n",
              "\n",
              "    grade_taught     loc_taught  assign1_groups  \n",
              "0              7  OneSch_Taught               3  \n",
              "1              8  OneSch_Taught               6  \n",
              "3              8  OneSch_Taught               6  \n",
              "4             12  OneSch_Taught               1  \n",
              "5              5  OneSch_Taught               4  \n",
              "6              6  OneSch_Taught               6  \n",
              "7             12  OneSch_Taught               4  \n",
              "8              6  OneSch_Taught               1  \n",
              "9             12  OneSch_Taught               3  \n",
              "10            12  OneSch_Taught               2  "
            ]
          },
          "metadata": {
            "tags": []
          },
          "execution_count": 4
        }
      ]
    },
    {
      "cell_type": "code",
      "metadata": {
        "id": "GaWnPtblkB1L",
        "colab_type": "code",
        "outputId": "7ba5d5e3-0fb5-4a79-8e32-500ba49fc4b9",
        "colab": {
          "base_uri": "https://localhost:8080/",
          "height": 34
        }
      },
      "source": [
        "df_cat.shape"
      ],
      "execution_count": 0,
      "outputs": [
        {
          "output_type": "execute_result",
          "data": {
            "text/plain": [
              "(1301569, 22)"
            ]
          },
          "metadata": {
            "tags": []
          },
          "execution_count": 5
        }
      ]
    },
    {
      "cell_type": "code",
      "metadata": {
        "id": "1UWGU_vRqpew",
        "colab_type": "code",
        "outputId": "50a428a2-df73-4cde-c51d-d6ef0a58fedf",
        "colab": {
          "base_uri": "https://localhost:8080/",
          "height": 141
        }
      },
      "source": [
        "df_cat['eth_groups'].value_counts()"
      ],
      "execution_count": 0,
      "outputs": [
        {
          "output_type": "execute_result",
          "data": {
            "text/plain": [
              "White                               1108077\n",
              "Black                                107617\n",
              "Hispanic                              60851\n",
              "Asian or Pacific Islander             15934\n",
              "Unknown                                6883\n",
              "American Indian or Alaska Native       2207\n",
              "Name: eth_groups, dtype: int64"
            ]
          },
          "metadata": {
            "tags": []
          },
          "execution_count": 6
        }
      ]
    },
    {
      "cell_type": "code",
      "metadata": {
        "id": "mqr252cmk0Vh",
        "colab_type": "code",
        "outputId": "bb554c88-55eb-4c6c-d2e6-a263b90fea6d",
        "colab": {
          "base_uri": "https://localhost:8080/",
          "height": 158
        }
      },
      "source": [
        "### CatBOOST ###\n",
        "\n",
        "### TEST TRAIN VALIDATION SPLIT ###\n",
        "\n",
        "num_instances = df_cat.shape[0]\n",
        "\n",
        "Y = df_cat['AdjSalMonth']\n",
        "X = df_cat.drop(['AdjSalMonth'], axis=1)\n",
        "\n",
        "# Creating the train/test split\n",
        "Y_train_cat, Y_test_cat, X_train_cat, X_test_cat = train_test_split(Y, X, test_size=0.3, random_state=33)  \n",
        "\n",
        "# Splitting df_train into the train and then holding some out for validation\n",
        "Y_train_cat, Y_val_cat, X_train_cat, X_val_cat = train_test_split(Y_train_cat, X_train_cat, test_size=0.143, random_state=33)\n",
        "\n",
        "print(\"Confirming Splits...\")\n",
        "print(\"Y_TRAIN_Cat: \" + str(Y_train_cat.shape[0]) + \" = \" + str(round((Y_train_cat.shape[0]/num_instances)*100, 2)) + \"%\")\n",
        "print(\"Y_TEST_cat: \" + str(Y_test_cat.shape[0]) + \" = \" + str(round((Y_test_cat.shape[0]/num_instances)*100, 2)) + \"%\")\n",
        "print(\"Y_VALIDATION_cat: \" + str(Y_val_cat.shape[0]) + \" = \" + str(round((Y_val_cat.shape[0]/num_instances)*100, 2)) + \"%\")\n",
        "\n",
        "print()\n",
        "print(\"X_TRAIN_cat: \" + str(X_train_cat.shape[0]) +  \", \" + str(X_train_cat.shape[1]) + \" = \" + str(round((X_train_cat.shape[0]/num_instances)*100, 2)) + \"%\")\n",
        "print(\"X_TEST_cat: \" + str(X_test_cat.shape[0]) +  \", \" + str(X_test_cat.shape[1]) + \" = \" + str(round((X_test_cat.shape[0]/num_instances)*100, 2)) + \"%\")\n",
        "print(\"X_VALIDATION_cat: \" + str(X_val_cat.shape[0]) +  \", \" + str(X_val_cat.shape[1]) + \" = \" + str(round((X_val_cat.shape[0]/num_instances)*100, 2)) + \"%\")\n",
        "\n",
        "# This is a *close* Train/Test/Validation split of 60/30/10"
      ],
      "execution_count": 0,
      "outputs": [
        {
          "output_type": "stream",
          "text": [
            "Confirming Splits...\n",
            "Y_TRAIN_Cat: 780810 = 59.99%\n",
            "Y_TEST_cat: 390471 = 30.0%\n",
            "Y_VALIDATION_cat: 130288 = 10.01%\n",
            "\n",
            "X_TRAIN_cat: 780810, 21 = 59.99%\n",
            "X_TEST_cat: 390471, 21 = 30.0%\n",
            "X_VALIDATION_cat: 130288, 21 = 10.01%\n"
          ],
          "name": "stdout"
        }
      ]
    },
    {
      "cell_type": "code",
      "metadata": {
        "id": "jO_ahmwzlnNk",
        "colab_type": "code",
        "outputId": "3f7e7473-56e4-4df1-9d20-ded2b851986c",
        "colab": {
          "base_uri": "https://localhost:8080/",
          "height": 494
        }
      },
      "source": [
        "from catboost import CatBoostRegressor, Pool\n",
        "\n",
        "start_ts=time.time()\n",
        "print(\"CatBoost Results\\n\")\n",
        "model=CatBoostRegressor(n_estimators=250, random_seed=44, logging_level='Silent')\n",
        "model.fit(X_train_cat, Y_train_cat, cat_features=([0, 1, 2, 8, 9, 10, 12, 13, 14, 15, 16, 17, 19, 20]), \n",
        "          eval_set=(X_test_cat, Y_test_cat))\n",
        "\n",
        "RMSE_train = math.sqrt(metrics.mean_squared_error(Y_train_cat, model.predict(X_train_cat)))\n",
        "print('CatBoost Train RMSE:', RMSE_train)\n",
        "RMSE_test = math.sqrt(metrics.mean_squared_error(Y_test_cat, model.predict(X_test_cat)))\n",
        "print('CatBoost Test RMSE:', RMSE_test)\n",
        "print()\n",
        "EV_train = metrics.explained_variance_score(Y_train_cat, model.predict(X_train_cat))\n",
        "print('CatBoost Train Explained Variance:', EV_train) \n",
        "EV_test = metrics.explained_variance_score(Y_test_cat, model.predict(X_test_cat))\n",
        "print('CatBoost Test Explained Variance:', EV_test)\n",
        "print(\"CV Runtime:\", time.time()-start_ts)"
      ],
      "execution_count": 0,
      "outputs": [
        {
          "output_type": "stream",
          "text": [
            "CatBoost Results\n",
            "\n"
          ],
          "name": "stdout"
        },
        {
          "output_type": "error",
          "ename": "KeyboardInterrupt",
          "evalue": "ignored",
          "traceback": [
            "\u001b[0;31m---------------------------------------------------------------------------\u001b[0m",
            "\u001b[0;31mKeyboardInterrupt\u001b[0m                         Traceback (most recent call last)",
            "\u001b[0;32m<ipython-input-8-75dd0472f1c0>\u001b[0m in \u001b[0;36m<module>\u001b[0;34m()\u001b[0m\n\u001b[1;32m      5\u001b[0m \u001b[0mmodel\u001b[0m\u001b[0;34m=\u001b[0m\u001b[0mCatBoostRegressor\u001b[0m\u001b[0;34m(\u001b[0m\u001b[0mn_estimators\u001b[0m\u001b[0;34m=\u001b[0m\u001b[0;36m250\u001b[0m\u001b[0;34m,\u001b[0m \u001b[0mrandom_seed\u001b[0m\u001b[0;34m=\u001b[0m\u001b[0;36m44\u001b[0m\u001b[0;34m,\u001b[0m \u001b[0mlogging_level\u001b[0m\u001b[0;34m=\u001b[0m\u001b[0;34m'Silent'\u001b[0m\u001b[0;34m)\u001b[0m\u001b[0;34m\u001b[0m\u001b[0;34m\u001b[0m\u001b[0m\n\u001b[1;32m      6\u001b[0m model.fit(X_train_cat, Y_train_cat, cat_features=([0, 1, 2, 8, 9, 10, 12, 13, 14, 15, 16, 17, 19, 20]), \n\u001b[0;32m----> 7\u001b[0;31m           eval_set=(X_test_cat, Y_test_cat))\n\u001b[0m\u001b[1;32m      8\u001b[0m \u001b[0;34m\u001b[0m\u001b[0m\n\u001b[1;32m      9\u001b[0m \u001b[0mRMSE_train\u001b[0m \u001b[0;34m=\u001b[0m \u001b[0mmath\u001b[0m\u001b[0;34m.\u001b[0m\u001b[0msqrt\u001b[0m\u001b[0;34m(\u001b[0m\u001b[0mmetrics\u001b[0m\u001b[0;34m.\u001b[0m\u001b[0mmean_squared_error\u001b[0m\u001b[0;34m(\u001b[0m\u001b[0mY_train_cat\u001b[0m\u001b[0;34m,\u001b[0m \u001b[0mmodel\u001b[0m\u001b[0;34m.\u001b[0m\u001b[0mpredict\u001b[0m\u001b[0;34m(\u001b[0m\u001b[0mX_train_cat\u001b[0m\u001b[0;34m)\u001b[0m\u001b[0;34m)\u001b[0m\u001b[0;34m)\u001b[0m\u001b[0;34m\u001b[0m\u001b[0;34m\u001b[0m\u001b[0m\n",
            "\u001b[0;32m/usr/local/lib/python3.6/dist-packages/catboost/core.py\u001b[0m in \u001b[0;36mfit\u001b[0;34m(self, X, y, cat_features, sample_weight, baseline, use_best_model, eval_set, verbose, logging_level, plot, column_description, verbose_eval, metric_period, silent, early_stopping_rounds, save_snapshot, snapshot_file, snapshot_interval, init_model)\u001b[0m\n\u001b[1;32m   3234\u001b[0m                          \u001b[0muse_best_model\u001b[0m\u001b[0;34m,\u001b[0m \u001b[0meval_set\u001b[0m\u001b[0;34m,\u001b[0m \u001b[0mverbose\u001b[0m\u001b[0;34m,\u001b[0m \u001b[0mlogging_level\u001b[0m\u001b[0;34m,\u001b[0m \u001b[0mplot\u001b[0m\u001b[0;34m,\u001b[0m \u001b[0mcolumn_description\u001b[0m\u001b[0;34m,\u001b[0m\u001b[0;34m\u001b[0m\u001b[0;34m\u001b[0m\u001b[0m\n\u001b[1;32m   3235\u001b[0m                          \u001b[0mverbose_eval\u001b[0m\u001b[0;34m,\u001b[0m \u001b[0mmetric_period\u001b[0m\u001b[0;34m,\u001b[0m \u001b[0msilent\u001b[0m\u001b[0;34m,\u001b[0m \u001b[0mearly_stopping_rounds\u001b[0m\u001b[0;34m,\u001b[0m\u001b[0;34m\u001b[0m\u001b[0;34m\u001b[0m\u001b[0m\n\u001b[0;32m-> 3236\u001b[0;31m                          save_snapshot, snapshot_file, snapshot_interval, init_model)\n\u001b[0m\u001b[1;32m   3237\u001b[0m \u001b[0;34m\u001b[0m\u001b[0m\n\u001b[1;32m   3238\u001b[0m     \u001b[0;32mdef\u001b[0m \u001b[0mpredict\u001b[0m\u001b[0;34m(\u001b[0m\u001b[0mself\u001b[0m\u001b[0;34m,\u001b[0m \u001b[0mdata\u001b[0m\u001b[0;34m,\u001b[0m \u001b[0mntree_start\u001b[0m\u001b[0;34m=\u001b[0m\u001b[0;36m0\u001b[0m\u001b[0;34m,\u001b[0m \u001b[0mntree_end\u001b[0m\u001b[0;34m=\u001b[0m\u001b[0;36m0\u001b[0m\u001b[0;34m,\u001b[0m \u001b[0mthread_count\u001b[0m\u001b[0;34m=\u001b[0m\u001b[0;34m-\u001b[0m\u001b[0;36m1\u001b[0m\u001b[0;34m,\u001b[0m \u001b[0mverbose\u001b[0m\u001b[0;34m=\u001b[0m\u001b[0;32mNone\u001b[0m\u001b[0;34m)\u001b[0m\u001b[0;34m:\u001b[0m\u001b[0;34m\u001b[0m\u001b[0;34m\u001b[0m\u001b[0m\n",
            "\u001b[0;32m/usr/local/lib/python3.6/dist-packages/catboost/core.py\u001b[0m in \u001b[0;36m_fit\u001b[0;34m(self, X, y, cat_features, pairs, sample_weight, group_id, group_weight, subgroup_id, pairs_weight, baseline, use_best_model, eval_set, verbose, logging_level, plot, column_description, verbose_eval, metric_period, silent, early_stopping_rounds, save_snapshot, snapshot_file, snapshot_interval, init_model)\u001b[0m\n\u001b[1;32m   1277\u001b[0m \u001b[0;34m\u001b[0m\u001b[0m\n\u001b[1;32m   1278\u001b[0m         \u001b[0;32mwith\u001b[0m \u001b[0mlog_fixup\u001b[0m\u001b[0;34m(\u001b[0m\u001b[0;34m)\u001b[0m\u001b[0;34m,\u001b[0m \u001b[0mplot_wrapper\u001b[0m\u001b[0;34m(\u001b[0m\u001b[0mplot\u001b[0m\u001b[0;34m,\u001b[0m \u001b[0;34m[\u001b[0m\u001b[0m_get_train_dir\u001b[0m\u001b[0;34m(\u001b[0m\u001b[0mself\u001b[0m\u001b[0;34m.\u001b[0m\u001b[0mget_params\u001b[0m\u001b[0;34m(\u001b[0m\u001b[0;34m)\u001b[0m\u001b[0;34m)\u001b[0m\u001b[0;34m]\u001b[0m\u001b[0;34m)\u001b[0m\u001b[0;34m:\u001b[0m\u001b[0;34m\u001b[0m\u001b[0;34m\u001b[0m\u001b[0m\n\u001b[0;32m-> 1279\u001b[0;31m             \u001b[0mself\u001b[0m\u001b[0;34m.\u001b[0m\u001b[0m_train\u001b[0m\u001b[0;34m(\u001b[0m\u001b[0mtrain_pool\u001b[0m\u001b[0;34m,\u001b[0m \u001b[0meval_sets\u001b[0m\u001b[0;34m,\u001b[0m \u001b[0mparams\u001b[0m\u001b[0;34m,\u001b[0m \u001b[0mallow_clear_pool\u001b[0m\u001b[0;34m,\u001b[0m \u001b[0minit_model\u001b[0m\u001b[0;34m)\u001b[0m\u001b[0;34m\u001b[0m\u001b[0;34m\u001b[0m\u001b[0m\n\u001b[0m\u001b[1;32m   1280\u001b[0m \u001b[0;34m\u001b[0m\u001b[0m\n\u001b[1;32m   1281\u001b[0m         \u001b[0;32mif\u001b[0m \u001b[0;34m(\u001b[0m\u001b[0;32mnot\u001b[0m \u001b[0mself\u001b[0m\u001b[0;34m.\u001b[0m\u001b[0m_object\u001b[0m\u001b[0;34m.\u001b[0m\u001b[0m_has_leaf_weights_in_model\u001b[0m\u001b[0;34m(\u001b[0m\u001b[0;34m)\u001b[0m\u001b[0;34m)\u001b[0m \u001b[0;32mand\u001b[0m \u001b[0mallow_clear_pool\u001b[0m\u001b[0;34m:\u001b[0m\u001b[0;34m\u001b[0m\u001b[0;34m\u001b[0m\u001b[0m\n",
            "\u001b[0;32m/usr/local/lib/python3.6/dist-packages/catboost/core.py\u001b[0m in \u001b[0;36m_train\u001b[0;34m(self, train_pool, test_pool, params, allow_clear_pool, init_model)\u001b[0m\n\u001b[1;32m    893\u001b[0m \u001b[0;34m\u001b[0m\u001b[0m\n\u001b[1;32m    894\u001b[0m     \u001b[0;32mdef\u001b[0m \u001b[0m_train\u001b[0m\u001b[0;34m(\u001b[0m\u001b[0mself\u001b[0m\u001b[0;34m,\u001b[0m \u001b[0mtrain_pool\u001b[0m\u001b[0;34m,\u001b[0m \u001b[0mtest_pool\u001b[0m\u001b[0;34m,\u001b[0m \u001b[0mparams\u001b[0m\u001b[0;34m,\u001b[0m \u001b[0mallow_clear_pool\u001b[0m\u001b[0;34m,\u001b[0m \u001b[0minit_model\u001b[0m\u001b[0;34m)\u001b[0m\u001b[0;34m:\u001b[0m\u001b[0;34m\u001b[0m\u001b[0;34m\u001b[0m\u001b[0m\n\u001b[0;32m--> 895\u001b[0;31m         \u001b[0mself\u001b[0m\u001b[0;34m.\u001b[0m\u001b[0m_object\u001b[0m\u001b[0;34m.\u001b[0m\u001b[0m_train\u001b[0m\u001b[0;34m(\u001b[0m\u001b[0mtrain_pool\u001b[0m\u001b[0;34m,\u001b[0m \u001b[0mtest_pool\u001b[0m\u001b[0;34m,\u001b[0m \u001b[0mparams\u001b[0m\u001b[0;34m,\u001b[0m \u001b[0mallow_clear_pool\u001b[0m\u001b[0;34m,\u001b[0m \u001b[0minit_model\u001b[0m\u001b[0;34m.\u001b[0m\u001b[0m_object\u001b[0m \u001b[0;32mif\u001b[0m \u001b[0minit_model\u001b[0m \u001b[0;32melse\u001b[0m \u001b[0;32mNone\u001b[0m\u001b[0;34m)\u001b[0m\u001b[0;34m\u001b[0m\u001b[0;34m\u001b[0m\u001b[0m\n\u001b[0m\u001b[1;32m    896\u001b[0m         \u001b[0mself\u001b[0m\u001b[0;34m.\u001b[0m\u001b[0m_set_trained_model_attributes\u001b[0m\u001b[0;34m(\u001b[0m\u001b[0;34m)\u001b[0m\u001b[0;34m\u001b[0m\u001b[0;34m\u001b[0m\u001b[0m\n\u001b[1;32m    897\u001b[0m \u001b[0;34m\u001b[0m\u001b[0m\n",
            "\u001b[0;32m_catboost.pyx\u001b[0m in \u001b[0;36m_catboost._CatBoost._train\u001b[0;34m()\u001b[0m\n",
            "\u001b[0;32m_catboost.pyx\u001b[0m in \u001b[0;36m_catboost._CatBoost._train\u001b[0;34m()\u001b[0m\n",
            "\u001b[0;31mKeyboardInterrupt\u001b[0m: "
          ]
        }
      ]
    },
    {
      "cell_type": "code",
      "metadata": {
        "id": "cELrL36_ocBu",
        "colab_type": "code",
        "colab": {}
      },
      "source": [
        "important_features_dict = {}\n",
        "features = X_train_cat.columns.tolist()\n",
        "for x,i in enumerate(model.feature_importances_):\n",
        "    important_features_dict[x]=i\n",
        "\n",
        "# the index of the most important features in decreasing order\n",
        "lst = sorted(important_features_dict,\n",
        "                                 key=important_features_dict.get,\n",
        "                                 reverse=True)\n",
        "\n",
        "print('Most important features:')\n",
        "for i in lst:\n",
        "  print(features[i])"
      ],
      "execution_count": 0,
      "outputs": []
    },
    {
      "cell_type": "code",
      "metadata": {
        "id": "VszHFSanrElq",
        "colab_type": "code",
        "colab": {}
      },
      "source": [
        "# top 9 features\n",
        "X_train_cat_fs = X_train_cat[['state_exp', 'dist_exp', 'Zip_Type', 'months_employed', 'edu_groups', 'first_3',\n",
        "                              'emply_desc', 'low_grade', 'fte']]\n",
        "X_test_cat_fs = X_test_cat[['state_exp', 'dist_exp', 'Zip_Type', 'months_employed', 'edu_groups', 'first_3',\n",
        "                              'emply_desc', 'low_grade', 'fte']]"
      ],
      "execution_count": 0,
      "outputs": []
    },
    {
      "cell_type": "code",
      "metadata": {
        "id": "Cg0Ljq_MrMrb",
        "colab_type": "code",
        "colab": {}
      },
      "source": [
        "# top 9 features\n",
        "from catboost import CatBoostRegressor\n",
        "start_ts=time.time()\n",
        "print(\"CatBoost Results\\n\")\n",
        "model=CatBoostRegressor(n_estimators=250, random_seed=44, logging_level='Silent')\n",
        "model.fit(X_train_cat_fs, Y_train_cat, cat_features=([2, 4, 5, 6, 7]), \n",
        "          eval_set=(X_test_cat_fs, Y_test_cat))\n",
        "\n",
        "RMSE_train9 = math.sqrt(metrics.mean_squared_error(Y_train_cat, model.predict(X_train_cat_fs)))\n",
        "print('CatBoost Train RMSE:', RMSE_train9)\n",
        "RMSE_test9 = math.sqrt(metrics.mean_squared_error(Y_test_cat, model.predict(X_test_cat_fs)))\n",
        "print('CatBoost Test RMSE:', RMSE_test9)\n",
        "print()\n",
        "EV_train9 = metrics.explained_variance_score(Y_train_cat, model.predict(X_train_cat_fs))\n",
        "print('CatBoost Train Explained Variance:', EV_train9) \n",
        "EV_test9 = metrics.explained_variance_score(Y_test_cat, model.predict(X_test_cat_fs))\n",
        "print('CatBoost Test Explained Variance:', EV_test9)\n",
        "print(\"CV Runtime:\", time.time()-start_ts)"
      ],
      "execution_count": 0,
      "outputs": []
    },
    {
      "cell_type": "code",
      "metadata": {
        "id": "j4cm6V5YpCJb",
        "colab_type": "code",
        "colab": {}
      },
      "source": [
        "# top 8 features\n",
        "X_train_cat_fs = X_train_cat[['state_exp', 'dist_exp', 'Zip_Type', 'months_employed', 'edu_groups', 'first_3',\n",
        "                              'emply_desc', 'low_grade']]\n",
        "X_test_cat_fs = X_test_cat[['state_exp', 'dist_exp', 'Zip_Type', 'months_employed', 'edu_groups', 'first_3',\n",
        "                              'emply_desc', 'low_grade']]"
      ],
      "execution_count": 0,
      "outputs": []
    },
    {
      "cell_type": "code",
      "metadata": {
        "id": "FU6XP3ZFrt02",
        "colab_type": "code",
        "colab": {}
      },
      "source": [
        "#validation - top 8\n",
        "X_val_cat_fs = X_val_cat[['state_exp', 'dist_exp', 'Zip_Type', 'months_employed', 'edu_groups', 'first_3',\n",
        "                              'emply_desc', 'low_grade']]"
      ],
      "execution_count": 0,
      "outputs": []
    },
    {
      "cell_type": "code",
      "metadata": {
        "id": "twKtm4WUqM5F",
        "colab_type": "code",
        "colab": {}
      },
      "source": [
        "# top 8 features\n",
        "from catboost import CatBoostRegressor\n",
        "start_ts=time.time()\n",
        "print(\"CatBoost Results\\n\")\n",
        "model=CatBoostRegressor(n_estimators=250, random_seed=44, logging_level='Silent')\n",
        "model.fit(X_train_cat_fs, Y_train_cat, cat_features=([2, 4, 5, 6, 7]), \n",
        "          eval_set=(X_test_cat_fs, Y_test_cat))\n",
        "\n",
        "RMSE_train8 = math.sqrt(metrics.mean_squared_error(Y_train_cat, model.predict(X_train_cat_fs)))\n",
        "print('CatBoost Train RMSE:', RMSE_train8)\n",
        "RMSE_test8 = math.sqrt(metrics.mean_squared_error(Y_test_cat, model.predict(X_test_cat_fs)))\n",
        "print('CatBoost Test RMSE:', RMSE_test8)\n",
        "print()\n",
        "EV_train8 = metrics.explained_variance_score(Y_train_cat, model.predict(X_train_cat_fs))\n",
        "print('CatBoost Train Explained Variance:', EV_train8) \n",
        "EV_test8 = metrics.explained_variance_score(Y_test_cat, model.predict(X_test_cat_fs))\n",
        "print('CatBoost Test Explained Variance:', EV_test8)\n",
        "print(\"CV Runtime:\", time.time()-start_ts)"
      ],
      "execution_count": 0,
      "outputs": []
    },
    {
      "cell_type": "code",
      "metadata": {
        "id": "KeVwD3_vm3jl",
        "colab_type": "code",
        "colab": {}
      },
      "source": [
        "# Compute the correlation matrix\n",
        "corr = X_train_cat_fs.corr()\n",
        "corr"
      ],
      "execution_count": 0,
      "outputs": []
    },
    {
      "cell_type": "code",
      "metadata": {
        "id": "ctrEKRFPtDxB",
        "colab_type": "code",
        "colab": {}
      },
      "source": [
        "#prediction plot for final CatBoost model - test data\n",
        "\n",
        "pred_test = model.predict(X_test_cat_fs)\n",
        "\n",
        "fig,ax = plt.subplots()\n",
        "ax.scatter(Y_test_cat, pred_test)\n",
        "ax.plot([Y_test_cat.min(), Y_test_cat.max()], [Y_test_cat.min(), Y_test_cat.max()], 'k--', lw=4)\n",
        "ax.set_xlabel('Actual', fontsize=16)\n",
        "ax.set_ylabel('Predicted', fontsize=16)\n",
        "ax.set_title('Predicted vs Actual - test data set', fontsize=20)\n",
        "fig.show()\n"
      ],
      "execution_count": 0,
      "outputs": []
    },
    {
      "cell_type": "code",
      "metadata": {
        "id": "cDTDX0EvnV9c",
        "colab_type": "code",
        "colab": {}
      },
      "source": [
        "#prediction plot for final CatBoost model - validation data\n",
        "from yellowbrick.regressor import PredictionError\n",
        "\n",
        "pred_val = model.predict(X_val_cat_fs)\n",
        "\n",
        "fig,ax = plt.subplots()\n",
        "ax.scatter(Y_val_cat, pred_val)\n",
        "ax.plot([Y_val_cat.min(), Y_val_cat.max()], [Y_val_cat.min(), Y_val_cat.max()], 'k--', lw=4)\n",
        "ax.set_xlabel('Actual', fontsize=16)\n",
        "ax.set_ylabel('Predicted', fontsize=16)\n",
        "ax.set_title('Predicted vs Actual - validation data set', fontsize=20)\n",
        "fig.show()\n"
      ],
      "execution_count": 0,
      "outputs": []
    },
    {
      "cell_type": "code",
      "metadata": {
        "id": "rYb1nngLVS3D",
        "colab_type": "code",
        "outputId": "3c102599-d1c2-4018-8089-f703c2df28c0",
        "colab": {
          "base_uri": "https://localhost:8080/",
          "height": 458
        }
      },
      "source": [
        "#Graph of relative feature importance to model\n",
        "fea_imp = pd.DataFrame({'imp': model.feature_importances_, 'col': X_train_cat_fs.columns})\n",
        "fea_imp = fea_imp.sort_values(['imp', 'col'], ascending=[True, False]).iloc[-30:]\n",
        "fea_imp.plot(kind='barh', x='col', y='imp', figsize=(10, 7), legend=None)\n",
        "plt.title('CatBoost - Feature Importance')\n",
        "plt.ylabel('Features')\n",
        "plt.xlabel('Importance');"
      ],
      "execution_count": 0,
      "outputs": [
        {
          "output_type": "display_data",
          "data": {
            "image/png": "[encoded data removed]",
            "text/plain": [
              "<Figure size 720x504 with 1 Axes>"
            ]
          },
          "metadata": {
            "tags": []
          }
        }
      ]
    },
    {
      "cell_type": "code",
      "metadata": {
        "id": "f4ozfqs0q37d",
        "colab_type": "code",
        "colab": {}
      },
      "source": [
        "# top 7 features\n",
        "X_train_cat_fs = X_train_cat[['state_exp', 'dist_exp', 'Zip_Type', 'months_employed', 'edu_groups', 'first_3',\n",
        "                              'emply_desc']]\n",
        "X_test_cat_fs = X_test_cat[['state_exp', 'dist_exp', 'Zip_Type', 'months_employed', 'edu_groups', 'first_3',\n",
        "                              'emply_desc']]"
      ],
      "execution_count": 0,
      "outputs": []
    },
    {
      "cell_type": "code",
      "metadata": {
        "id": "fzOwA6dnq8tV",
        "colab_type": "code",
        "outputId": "8cba20b1-927e-4659-ddf8-adf3686eef98",
        "colab": {
          "base_uri": "https://localhost:8080/",
          "height": 153
        }
      },
      "source": [
        "# top 7 features\n",
        "from catboost import CatBoostRegressor\n",
        "start_ts=time.time()\n",
        "print(\"CatBoost Results\\n\")\n",
        "model=CatBoostRegressor(n_estimators=250, random_seed=44, logging_level='Silent')\n",
        "model.fit(X_train_cat_fs, Y_train_cat, cat_features=([2, 4, 5, 6]), \n",
        "          eval_set=(X_test_cat_fs, Y_test_cat))\n",
        "\n",
        "RMSE_train7 = math.sqrt(metrics.mean_squared_error(Y_train_cat, model.predict(X_train_cat_fs)))\n",
        "print('CatBoost Train RMSE:', RMSE_train7)\n",
        "RMSE_test7 = math.sqrt(metrics.mean_squared_error(Y_test_cat, model.predict(X_test_cat_fs)))\n",
        "print('CatBoost Test RMSE:', RMSE_test7)\n",
        "print()\n",
        "EV_train7 = metrics.explained_variance_score(Y_train_cat, model.predict(X_train_cat_fs))\n",
        "print('CatBoost Train Explained Variance:', EV_train7) \n",
        "EV_test7 = metrics.explained_variance_score(Y_test_cat, model.predict(X_test_cat_fs))\n",
        "print('CatBoost Test Explained Variance:', EV_test7)\n",
        "print(\"CV Runtime:\", time.time()-start_ts)"
      ],
      "execution_count": 0,
      "outputs": [
        {
          "output_type": "stream",
          "text": [
            "CatBoost Results\n",
            "\n",
            "CatBoost Train RMSE: 1458.679534306574\n",
            "CatBoost Test RMSE: 1468.6509805750684\n",
            "\n",
            "CatBoost Train Explained Variance: 0.6958779269707669\n",
            "CatBoost Test Explained Variance: 0.6868341397402027\n",
            "CV Runtime: 239.46118712425232\n"
          ],
          "name": "stdout"
        }
      ]
    },
    {
      "cell_type": "code",
      "metadata": {
        "id": "7yNEeHnE_V12",
        "colab_type": "code",
        "colab": {}
      },
      "source": [
        "num_vars = ['All', '9', '8', '7']\n",
        "RMSE_Test_lst = [RMSE_test, RMSE_test9, RMSE_test8, RMSE_test7]\n",
        "RMSE_Train_lst = [RMSE_train, RMSE_train9, RMSE_train8, RMSE_train7]\n",
        "EV_Test_lst = [EV_test,EV_test9,EV_test8,EV_test7]\n",
        "EV_Train_lst = [EV_train,EV_train9,EV_train8,EV_train7]"
      ],
      "execution_count": 0,
      "outputs": []
    },
    {
      "cell_type": "code",
      "metadata": {
        "id": "Wcwtd4Ly_V4x",
        "colab_type": "code",
        "colab": {}
      },
      "source": [
        "import matplotlib.pyplot as plt\n",
        "plt.close('all')"
      ],
      "execution_count": 0,
      "outputs": []
    },
    {
      "cell_type": "code",
      "metadata": {
        "id": "9lRJR3DuHvNN",
        "colab_type": "code",
        "outputId": "3dea8e3b-a0b5-4c60-9e23-0e40854e62ab",
        "colab": {
          "base_uri": "https://localhost:8080/",
          "height": 298
        }
      },
      "source": [
        "df = pd.DataFrame({'Train': RMSE_Train_lst,'Test': RMSE_Test_lst}, index=num_vars)\n",
        "ax = df.plot.bar()\n",
        "plt.title('RMSE by Number of Features')\n",
        "plt.legend(loc='center left', bbox_to_anchor=(1, 0.5))\n",
        "plt.xticks(rotation=0)"
      ],
      "execution_count": 0,
      "outputs": [
        {
          "output_type": "execute_result",
          "data": {
            "text/plain": [
              "(array([0, 1, 2, 3]), <a list of 4 Text xticklabel objects>)"
            ]
          },
          "metadata": {
            "tags": []
          },
          "execution_count": 31
        },
        {
          "output_type": "display_data",
          "data": {
            "image/png": "[encoded data removed]",
            "text/plain": [
              "<Figure size 432x288 with 1 Axes>"
            ]
          },
          "metadata": {
            "tags": []
          }
        }
      ]
    },
    {
      "cell_type": "code",
      "metadata": {
        "id": "okLJ2JhOD91d",
        "colab_type": "code",
        "outputId": "dd95831b-78f5-4243-fe22-de99b7be4670",
        "colab": {
          "base_uri": "https://localhost:8080/",
          "height": 298
        }
      },
      "source": [
        "df = pd.DataFrame({'Train': EV_Train_lst,'Test': EV_Test_lst}, index=num_vars)\n",
        "ax = df.plot.bar()\n",
        "plt.title('Explained Variance by Number of Features')\n",
        "plt.legend(loc='center left', bbox_to_anchor=(1, 0.5))\n",
        "plt.xticks(rotation=0)"
      ],
      "execution_count": 0,
      "outputs": [
        {
          "output_type": "execute_result",
          "data": {
            "text/plain": [
              "(array([0, 1, 2, 3]), <a list of 4 Text xticklabel objects>)"
            ]
          },
          "metadata": {
            "tags": []
          },
          "execution_count": 32
        },
        {
          "output_type": "display_data",
          "data": {
            "image/png": "[encoded data removed]",
            "text/plain": [
              "<Figure size 432x288 with 1 Axes>"
            ]
          },
          "metadata": {
            "tags": []
          }
        }
      ]
    },
    {
      "cell_type": "code",
      "metadata": {
        "id": "IdBUTNoXLk-4",
        "colab_type": "code",
        "colab": {}
      },
      "source": [
        ""
      ],
      "execution_count": 0,
      "outputs": []
    }
  ]
}